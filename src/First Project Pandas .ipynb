{
 "cells": [
  {
   "cell_type": "markdown",
   "id": "6ca79165",
   "metadata": {},
   "source": [
    "# Project 1 - Sharks Attack"
   ]
  },
  {
   "cell_type": "code",
   "execution_count": 137,
   "id": "578ef2c1",
   "metadata": {},
   "outputs": [],
   "source": [
    "# I am importing the different libraries to help me achieve the first project. A library is a collection of \n",
    "# related modules/functions that will allow me to do what I want to accomplish in an easier way\n",
    "\n",
    "import pandas as pd\n",
    "import numpy as np \n",
    "import seaborn as sns\n",
    "import re\n",
    "import collections\n",
    "\n",
    "pd.options.mode.chained_assignment = None\n"
   ]
  },
  {
   "cell_type": "code",
   "execution_count": 3,
   "id": "e9d87086",
   "metadata": {
    "scrolled": true
   },
   "outputs": [
    {
     "data": {
      "text/html": [
       "<div>\n",
       "<style scoped>\n",
       "    .dataframe tbody tr th:only-of-type {\n",
       "        vertical-align: middle;\n",
       "    }\n",
       "\n",
       "    .dataframe tbody tr th {\n",
       "        vertical-align: top;\n",
       "    }\n",
       "\n",
       "    .dataframe thead th {\n",
       "        text-align: right;\n",
       "    }\n",
       "</style>\n",
       "<table border=\"1\" class=\"dataframe\">\n",
       "  <thead>\n",
       "    <tr style=\"text-align: right;\">\n",
       "      <th></th>\n",
       "      <th>Case Number</th>\n",
       "      <th>Date</th>\n",
       "      <th>Year</th>\n",
       "      <th>Type</th>\n",
       "      <th>Country</th>\n",
       "      <th>Area</th>\n",
       "      <th>Location</th>\n",
       "      <th>Activity</th>\n",
       "      <th>Name</th>\n",
       "      <th>Sex</th>\n",
       "      <th>...</th>\n",
       "      <th>Species</th>\n",
       "      <th>Investigator or Source</th>\n",
       "      <th>pdf</th>\n",
       "      <th>href formula</th>\n",
       "      <th>href</th>\n",
       "      <th>Case Number.1</th>\n",
       "      <th>Case Number.2</th>\n",
       "      <th>original order</th>\n",
       "      <th>Unnamed: 22</th>\n",
       "      <th>Unnamed: 23</th>\n",
       "    </tr>\n",
       "  </thead>\n",
       "  <tbody>\n",
       "    <tr>\n",
       "      <th>0</th>\n",
       "      <td>2018.06.25</td>\n",
       "      <td>25-Jun-2018</td>\n",
       "      <td>2018.0</td>\n",
       "      <td>Boating</td>\n",
       "      <td>USA</td>\n",
       "      <td>California</td>\n",
       "      <td>Oceanside, San Diego County</td>\n",
       "      <td>Paddling</td>\n",
       "      <td>Julie Wolfe</td>\n",
       "      <td>F</td>\n",
       "      <td>...</td>\n",
       "      <td>White shark</td>\n",
       "      <td>R. Collier, GSAF</td>\n",
       "      <td>2018.06.25-Wolfe.pdf</td>\n",
       "      <td>http://sharkattackfile.net/spreadsheets/pdf_di...</td>\n",
       "      <td>http://sharkattackfile.net/spreadsheets/pdf_di...</td>\n",
       "      <td>2018.06.25</td>\n",
       "      <td>2018.06.25</td>\n",
       "      <td>6303.0</td>\n",
       "      <td>NaN</td>\n",
       "      <td>NaN</td>\n",
       "    </tr>\n",
       "    <tr>\n",
       "      <th>1</th>\n",
       "      <td>2018.06.18</td>\n",
       "      <td>18-Jun-2018</td>\n",
       "      <td>2018.0</td>\n",
       "      <td>Unprovoked</td>\n",
       "      <td>USA</td>\n",
       "      <td>Georgia</td>\n",
       "      <td>St. Simon Island, Glynn County</td>\n",
       "      <td>Standing</td>\n",
       "      <td>Adyson McNeely</td>\n",
       "      <td>F</td>\n",
       "      <td>...</td>\n",
       "      <td>NaN</td>\n",
       "      <td>K.McMurray, TrackingSharks.com</td>\n",
       "      <td>2018.06.18-McNeely.pdf</td>\n",
       "      <td>http://sharkattackfile.net/spreadsheets/pdf_di...</td>\n",
       "      <td>http://sharkattackfile.net/spreadsheets/pdf_di...</td>\n",
       "      <td>2018.06.18</td>\n",
       "      <td>2018.06.18</td>\n",
       "      <td>6302.0</td>\n",
       "      <td>NaN</td>\n",
       "      <td>NaN</td>\n",
       "    </tr>\n",
       "    <tr>\n",
       "      <th>2</th>\n",
       "      <td>2018.06.09</td>\n",
       "      <td>09-Jun-2018</td>\n",
       "      <td>2018.0</td>\n",
       "      <td>Invalid</td>\n",
       "      <td>USA</td>\n",
       "      <td>Hawaii</td>\n",
       "      <td>Habush, Oahu</td>\n",
       "      <td>Surfing</td>\n",
       "      <td>John Denges</td>\n",
       "      <td>M</td>\n",
       "      <td>...</td>\n",
       "      <td>NaN</td>\n",
       "      <td>K.McMurray, TrackingSharks.com</td>\n",
       "      <td>2018.06.09-Denges.pdf</td>\n",
       "      <td>http://sharkattackfile.net/spreadsheets/pdf_di...</td>\n",
       "      <td>http://sharkattackfile.net/spreadsheets/pdf_di...</td>\n",
       "      <td>2018.06.09</td>\n",
       "      <td>2018.06.09</td>\n",
       "      <td>6301.0</td>\n",
       "      <td>NaN</td>\n",
       "      <td>NaN</td>\n",
       "    </tr>\n",
       "    <tr>\n",
       "      <th>3</th>\n",
       "      <td>2018.06.08</td>\n",
       "      <td>08-Jun-2018</td>\n",
       "      <td>2018.0</td>\n",
       "      <td>Unprovoked</td>\n",
       "      <td>AUSTRALIA</td>\n",
       "      <td>New South Wales</td>\n",
       "      <td>Arrawarra Headland</td>\n",
       "      <td>Surfing</td>\n",
       "      <td>male</td>\n",
       "      <td>M</td>\n",
       "      <td>...</td>\n",
       "      <td>2 m shark</td>\n",
       "      <td>B. Myatt, GSAF</td>\n",
       "      <td>2018.06.08-Arrawarra.pdf</td>\n",
       "      <td>http://sharkattackfile.net/spreadsheets/pdf_di...</td>\n",
       "      <td>http://sharkattackfile.net/spreadsheets/pdf_di...</td>\n",
       "      <td>2018.06.08</td>\n",
       "      <td>2018.06.08</td>\n",
       "      <td>6300.0</td>\n",
       "      <td>NaN</td>\n",
       "      <td>NaN</td>\n",
       "    </tr>\n",
       "    <tr>\n",
       "      <th>4</th>\n",
       "      <td>2018.06.04</td>\n",
       "      <td>04-Jun-2018</td>\n",
       "      <td>2018.0</td>\n",
       "      <td>Provoked</td>\n",
       "      <td>MEXICO</td>\n",
       "      <td>Colima</td>\n",
       "      <td>La Ticla</td>\n",
       "      <td>Free diving</td>\n",
       "      <td>Gustavo Ramos</td>\n",
       "      <td>M</td>\n",
       "      <td>...</td>\n",
       "      <td>Tiger shark, 3m</td>\n",
       "      <td>A .Kipper</td>\n",
       "      <td>2018.06.04-Ramos.pdf</td>\n",
       "      <td>http://sharkattackfile.net/spreadsheets/pdf_di...</td>\n",
       "      <td>http://sharkattackfile.net/spreadsheets/pdf_di...</td>\n",
       "      <td>2018.06.04</td>\n",
       "      <td>2018.06.04</td>\n",
       "      <td>6299.0</td>\n",
       "      <td>NaN</td>\n",
       "      <td>NaN</td>\n",
       "    </tr>\n",
       "    <tr>\n",
       "      <th>...</th>\n",
       "      <td>...</td>\n",
       "      <td>...</td>\n",
       "      <td>...</td>\n",
       "      <td>...</td>\n",
       "      <td>...</td>\n",
       "      <td>...</td>\n",
       "      <td>...</td>\n",
       "      <td>...</td>\n",
       "      <td>...</td>\n",
       "      <td>...</td>\n",
       "      <td>...</td>\n",
       "      <td>...</td>\n",
       "      <td>...</td>\n",
       "      <td>...</td>\n",
       "      <td>...</td>\n",
       "      <td>...</td>\n",
       "      <td>...</td>\n",
       "      <td>...</td>\n",
       "      <td>...</td>\n",
       "      <td>...</td>\n",
       "      <td>...</td>\n",
       "    </tr>\n",
       "    <tr>\n",
       "      <th>25718</th>\n",
       "      <td>NaN</td>\n",
       "      <td>NaN</td>\n",
       "      <td>NaN</td>\n",
       "      <td>NaN</td>\n",
       "      <td>NaN</td>\n",
       "      <td>NaN</td>\n",
       "      <td>NaN</td>\n",
       "      <td>NaN</td>\n",
       "      <td>NaN</td>\n",
       "      <td>NaN</td>\n",
       "      <td>...</td>\n",
       "      <td>NaN</td>\n",
       "      <td>NaN</td>\n",
       "      <td>NaN</td>\n",
       "      <td>NaN</td>\n",
       "      <td>NaN</td>\n",
       "      <td>NaN</td>\n",
       "      <td>NaN</td>\n",
       "      <td>NaN</td>\n",
       "      <td>NaN</td>\n",
       "      <td>NaN</td>\n",
       "    </tr>\n",
       "    <tr>\n",
       "      <th>25719</th>\n",
       "      <td>NaN</td>\n",
       "      <td>NaN</td>\n",
       "      <td>NaN</td>\n",
       "      <td>NaN</td>\n",
       "      <td>NaN</td>\n",
       "      <td>NaN</td>\n",
       "      <td>NaN</td>\n",
       "      <td>NaN</td>\n",
       "      <td>NaN</td>\n",
       "      <td>NaN</td>\n",
       "      <td>...</td>\n",
       "      <td>NaN</td>\n",
       "      <td>NaN</td>\n",
       "      <td>NaN</td>\n",
       "      <td>NaN</td>\n",
       "      <td>NaN</td>\n",
       "      <td>NaN</td>\n",
       "      <td>NaN</td>\n",
       "      <td>NaN</td>\n",
       "      <td>NaN</td>\n",
       "      <td>NaN</td>\n",
       "    </tr>\n",
       "    <tr>\n",
       "      <th>25720</th>\n",
       "      <td>NaN</td>\n",
       "      <td>NaN</td>\n",
       "      <td>NaN</td>\n",
       "      <td>NaN</td>\n",
       "      <td>NaN</td>\n",
       "      <td>NaN</td>\n",
       "      <td>NaN</td>\n",
       "      <td>NaN</td>\n",
       "      <td>NaN</td>\n",
       "      <td>NaN</td>\n",
       "      <td>...</td>\n",
       "      <td>NaN</td>\n",
       "      <td>NaN</td>\n",
       "      <td>NaN</td>\n",
       "      <td>NaN</td>\n",
       "      <td>NaN</td>\n",
       "      <td>NaN</td>\n",
       "      <td>NaN</td>\n",
       "      <td>NaN</td>\n",
       "      <td>NaN</td>\n",
       "      <td>NaN</td>\n",
       "    </tr>\n",
       "    <tr>\n",
       "      <th>25721</th>\n",
       "      <td>NaN</td>\n",
       "      <td>NaN</td>\n",
       "      <td>NaN</td>\n",
       "      <td>NaN</td>\n",
       "      <td>NaN</td>\n",
       "      <td>NaN</td>\n",
       "      <td>NaN</td>\n",
       "      <td>NaN</td>\n",
       "      <td>NaN</td>\n",
       "      <td>NaN</td>\n",
       "      <td>...</td>\n",
       "      <td>NaN</td>\n",
       "      <td>NaN</td>\n",
       "      <td>NaN</td>\n",
       "      <td>NaN</td>\n",
       "      <td>NaN</td>\n",
       "      <td>NaN</td>\n",
       "      <td>NaN</td>\n",
       "      <td>NaN</td>\n",
       "      <td>NaN</td>\n",
       "      <td>NaN</td>\n",
       "    </tr>\n",
       "    <tr>\n",
       "      <th>25722</th>\n",
       "      <td>xx</td>\n",
       "      <td>NaN</td>\n",
       "      <td>NaN</td>\n",
       "      <td>NaN</td>\n",
       "      <td>NaN</td>\n",
       "      <td>NaN</td>\n",
       "      <td>NaN</td>\n",
       "      <td>NaN</td>\n",
       "      <td>NaN</td>\n",
       "      <td>NaN</td>\n",
       "      <td>...</td>\n",
       "      <td>NaN</td>\n",
       "      <td>NaN</td>\n",
       "      <td>NaN</td>\n",
       "      <td>NaN</td>\n",
       "      <td>NaN</td>\n",
       "      <td>NaN</td>\n",
       "      <td>NaN</td>\n",
       "      <td>NaN</td>\n",
       "      <td>NaN</td>\n",
       "      <td>NaN</td>\n",
       "    </tr>\n",
       "  </tbody>\n",
       "</table>\n",
       "<p>25723 rows × 24 columns</p>\n",
       "</div>"
      ],
      "text/plain": [
       "      Case Number         Date    Year        Type    Country  \\\n",
       "0      2018.06.25  25-Jun-2018  2018.0     Boating        USA   \n",
       "1      2018.06.18  18-Jun-2018  2018.0  Unprovoked        USA   \n",
       "2      2018.06.09  09-Jun-2018  2018.0     Invalid        USA   \n",
       "3      2018.06.08  08-Jun-2018  2018.0  Unprovoked  AUSTRALIA   \n",
       "4      2018.06.04  04-Jun-2018  2018.0    Provoked     MEXICO   \n",
       "...           ...          ...     ...         ...        ...   \n",
       "25718         NaN          NaN     NaN         NaN        NaN   \n",
       "25719         NaN          NaN     NaN         NaN        NaN   \n",
       "25720         NaN          NaN     NaN         NaN        NaN   \n",
       "25721         NaN          NaN     NaN         NaN        NaN   \n",
       "25722          xx          NaN     NaN         NaN        NaN   \n",
       "\n",
       "                  Area                        Location     Activity  \\\n",
       "0           California     Oceanside, San Diego County     Paddling   \n",
       "1              Georgia  St. Simon Island, Glynn County     Standing   \n",
       "2               Hawaii                    Habush, Oahu      Surfing   \n",
       "3      New South Wales              Arrawarra Headland      Surfing   \n",
       "4               Colima                        La Ticla  Free diving   \n",
       "...                ...                             ...          ...   \n",
       "25718              NaN                             NaN          NaN   \n",
       "25719              NaN                             NaN          NaN   \n",
       "25720              NaN                             NaN          NaN   \n",
       "25721              NaN                             NaN          NaN   \n",
       "25722              NaN                             NaN          NaN   \n",
       "\n",
       "                  Name Sex   ...         Species   \\\n",
       "0          Julie Wolfe    F  ...      White shark   \n",
       "1      Adyson McNeely     F  ...              NaN   \n",
       "2          John Denges    M  ...              NaN   \n",
       "3                 male    M  ...        2 m shark   \n",
       "4       Gustavo Ramos     M  ...  Tiger shark, 3m   \n",
       "...                ...  ...  ...              ...   \n",
       "25718              NaN  NaN  ...              NaN   \n",
       "25719              NaN  NaN  ...              NaN   \n",
       "25720              NaN  NaN  ...              NaN   \n",
       "25721              NaN  NaN  ...              NaN   \n",
       "25722              NaN  NaN  ...              NaN   \n",
       "\n",
       "               Investigator or Source                       pdf  \\\n",
       "0                    R. Collier, GSAF      2018.06.25-Wolfe.pdf   \n",
       "1      K.McMurray, TrackingSharks.com    2018.06.18-McNeely.pdf   \n",
       "2      K.McMurray, TrackingSharks.com     2018.06.09-Denges.pdf   \n",
       "3                      B. Myatt, GSAF  2018.06.08-Arrawarra.pdf   \n",
       "4                           A .Kipper      2018.06.04-Ramos.pdf   \n",
       "...                               ...                       ...   \n",
       "25718                             NaN                       NaN   \n",
       "25719                             NaN                       NaN   \n",
       "25720                             NaN                       NaN   \n",
       "25721                             NaN                       NaN   \n",
       "25722                             NaN                       NaN   \n",
       "\n",
       "                                            href formula  \\\n",
       "0      http://sharkattackfile.net/spreadsheets/pdf_di...   \n",
       "1      http://sharkattackfile.net/spreadsheets/pdf_di...   \n",
       "2      http://sharkattackfile.net/spreadsheets/pdf_di...   \n",
       "3      http://sharkattackfile.net/spreadsheets/pdf_di...   \n",
       "4      http://sharkattackfile.net/spreadsheets/pdf_di...   \n",
       "...                                                  ...   \n",
       "25718                                                NaN   \n",
       "25719                                                NaN   \n",
       "25720                                                NaN   \n",
       "25721                                                NaN   \n",
       "25722                                                NaN   \n",
       "\n",
       "                                                    href Case Number.1  \\\n",
       "0      http://sharkattackfile.net/spreadsheets/pdf_di...    2018.06.25   \n",
       "1      http://sharkattackfile.net/spreadsheets/pdf_di...    2018.06.18   \n",
       "2      http://sharkattackfile.net/spreadsheets/pdf_di...    2018.06.09   \n",
       "3      http://sharkattackfile.net/spreadsheets/pdf_di...    2018.06.08   \n",
       "4      http://sharkattackfile.net/spreadsheets/pdf_di...    2018.06.04   \n",
       "...                                                  ...           ...   \n",
       "25718                                                NaN           NaN   \n",
       "25719                                                NaN           NaN   \n",
       "25720                                                NaN           NaN   \n",
       "25721                                                NaN           NaN   \n",
       "25722                                                NaN           NaN   \n",
       "\n",
       "      Case Number.2 original order Unnamed: 22 Unnamed: 23  \n",
       "0        2018.06.25         6303.0         NaN         NaN  \n",
       "1        2018.06.18         6302.0         NaN         NaN  \n",
       "2        2018.06.09         6301.0         NaN         NaN  \n",
       "3        2018.06.08         6300.0         NaN         NaN  \n",
       "4        2018.06.04         6299.0         NaN         NaN  \n",
       "...             ...            ...         ...         ...  \n",
       "25718           NaN            NaN         NaN         NaN  \n",
       "25719           NaN            NaN         NaN         NaN  \n",
       "25720           NaN            NaN         NaN         NaN  \n",
       "25721           NaN            NaN         NaN         NaN  \n",
       "25722           NaN            NaN         NaN         NaN  \n",
       "\n",
       "[25723 rows x 24 columns]"
      ]
     },
     "execution_count": 3,
     "metadata": {},
     "output_type": "execute_result"
    }
   ],
   "source": [
    "# Let's start by opening the data and have a look at it \n",
    "# I will store the document in a variable called \"shark.\"\n",
    "\n",
    "shark = pd.read_csv('../data/attacks.csv', encoding = 'unicode_escape')\n",
    "\n",
    "shark"
   ]
  },
  {
   "cell_type": "code",
   "execution_count": 4,
   "id": "80a1423f",
   "metadata": {},
   "outputs": [
    {
     "data": {
      "text/html": [
       "<div>\n",
       "<style scoped>\n",
       "    .dataframe tbody tr th:only-of-type {\n",
       "        vertical-align: middle;\n",
       "    }\n",
       "\n",
       "    .dataframe tbody tr th {\n",
       "        vertical-align: top;\n",
       "    }\n",
       "\n",
       "    .dataframe thead th {\n",
       "        text-align: right;\n",
       "    }\n",
       "</style>\n",
       "<table border=\"1\" class=\"dataframe\">\n",
       "  <thead>\n",
       "    <tr style=\"text-align: right;\">\n",
       "      <th></th>\n",
       "      <th>Case Number</th>\n",
       "      <th>Date</th>\n",
       "      <th>Year</th>\n",
       "      <th>Type</th>\n",
       "      <th>Country</th>\n",
       "      <th>Area</th>\n",
       "      <th>Location</th>\n",
       "      <th>Activity</th>\n",
       "      <th>Name</th>\n",
       "      <th>Sex</th>\n",
       "      <th>...</th>\n",
       "      <th>Species</th>\n",
       "      <th>Investigator or Source</th>\n",
       "      <th>pdf</th>\n",
       "      <th>href formula</th>\n",
       "      <th>href</th>\n",
       "      <th>Case Number.1</th>\n",
       "      <th>Case Number.2</th>\n",
       "      <th>original order</th>\n",
       "      <th>Unnamed: 22</th>\n",
       "      <th>Unnamed: 23</th>\n",
       "    </tr>\n",
       "  </thead>\n",
       "  <tbody>\n",
       "    <tr>\n",
       "      <th>0</th>\n",
       "      <td>2018.06.25</td>\n",
       "      <td>25-Jun-2018</td>\n",
       "      <td>2018.0</td>\n",
       "      <td>Boating</td>\n",
       "      <td>USA</td>\n",
       "      <td>California</td>\n",
       "      <td>Oceanside, San Diego County</td>\n",
       "      <td>Paddling</td>\n",
       "      <td>Julie Wolfe</td>\n",
       "      <td>F</td>\n",
       "      <td>...</td>\n",
       "      <td>White shark</td>\n",
       "      <td>R. Collier, GSAF</td>\n",
       "      <td>2018.06.25-Wolfe.pdf</td>\n",
       "      <td>http://sharkattackfile.net/spreadsheets/pdf_di...</td>\n",
       "      <td>http://sharkattackfile.net/spreadsheets/pdf_di...</td>\n",
       "      <td>2018.06.25</td>\n",
       "      <td>2018.06.25</td>\n",
       "      <td>6303.0</td>\n",
       "      <td>NaN</td>\n",
       "      <td>NaN</td>\n",
       "    </tr>\n",
       "    <tr>\n",
       "      <th>1</th>\n",
       "      <td>2018.06.18</td>\n",
       "      <td>18-Jun-2018</td>\n",
       "      <td>2018.0</td>\n",
       "      <td>Unprovoked</td>\n",
       "      <td>USA</td>\n",
       "      <td>Georgia</td>\n",
       "      <td>St. Simon Island, Glynn County</td>\n",
       "      <td>Standing</td>\n",
       "      <td>Adyson McNeely</td>\n",
       "      <td>F</td>\n",
       "      <td>...</td>\n",
       "      <td>NaN</td>\n",
       "      <td>K.McMurray, TrackingSharks.com</td>\n",
       "      <td>2018.06.18-McNeely.pdf</td>\n",
       "      <td>http://sharkattackfile.net/spreadsheets/pdf_di...</td>\n",
       "      <td>http://sharkattackfile.net/spreadsheets/pdf_di...</td>\n",
       "      <td>2018.06.18</td>\n",
       "      <td>2018.06.18</td>\n",
       "      <td>6302.0</td>\n",
       "      <td>NaN</td>\n",
       "      <td>NaN</td>\n",
       "    </tr>\n",
       "    <tr>\n",
       "      <th>2</th>\n",
       "      <td>2018.06.09</td>\n",
       "      <td>09-Jun-2018</td>\n",
       "      <td>2018.0</td>\n",
       "      <td>Invalid</td>\n",
       "      <td>USA</td>\n",
       "      <td>Hawaii</td>\n",
       "      <td>Habush, Oahu</td>\n",
       "      <td>Surfing</td>\n",
       "      <td>John Denges</td>\n",
       "      <td>M</td>\n",
       "      <td>...</td>\n",
       "      <td>NaN</td>\n",
       "      <td>K.McMurray, TrackingSharks.com</td>\n",
       "      <td>2018.06.09-Denges.pdf</td>\n",
       "      <td>http://sharkattackfile.net/spreadsheets/pdf_di...</td>\n",
       "      <td>http://sharkattackfile.net/spreadsheets/pdf_di...</td>\n",
       "      <td>2018.06.09</td>\n",
       "      <td>2018.06.09</td>\n",
       "      <td>6301.0</td>\n",
       "      <td>NaN</td>\n",
       "      <td>NaN</td>\n",
       "    </tr>\n",
       "    <tr>\n",
       "      <th>3</th>\n",
       "      <td>2018.06.08</td>\n",
       "      <td>08-Jun-2018</td>\n",
       "      <td>2018.0</td>\n",
       "      <td>Unprovoked</td>\n",
       "      <td>AUSTRALIA</td>\n",
       "      <td>New South Wales</td>\n",
       "      <td>Arrawarra Headland</td>\n",
       "      <td>Surfing</td>\n",
       "      <td>male</td>\n",
       "      <td>M</td>\n",
       "      <td>...</td>\n",
       "      <td>2 m shark</td>\n",
       "      <td>B. Myatt, GSAF</td>\n",
       "      <td>2018.06.08-Arrawarra.pdf</td>\n",
       "      <td>http://sharkattackfile.net/spreadsheets/pdf_di...</td>\n",
       "      <td>http://sharkattackfile.net/spreadsheets/pdf_di...</td>\n",
       "      <td>2018.06.08</td>\n",
       "      <td>2018.06.08</td>\n",
       "      <td>6300.0</td>\n",
       "      <td>NaN</td>\n",
       "      <td>NaN</td>\n",
       "    </tr>\n",
       "    <tr>\n",
       "      <th>4</th>\n",
       "      <td>2018.06.04</td>\n",
       "      <td>04-Jun-2018</td>\n",
       "      <td>2018.0</td>\n",
       "      <td>Provoked</td>\n",
       "      <td>MEXICO</td>\n",
       "      <td>Colima</td>\n",
       "      <td>La Ticla</td>\n",
       "      <td>Free diving</td>\n",
       "      <td>Gustavo Ramos</td>\n",
       "      <td>M</td>\n",
       "      <td>...</td>\n",
       "      <td>Tiger shark, 3m</td>\n",
       "      <td>A .Kipper</td>\n",
       "      <td>2018.06.04-Ramos.pdf</td>\n",
       "      <td>http://sharkattackfile.net/spreadsheets/pdf_di...</td>\n",
       "      <td>http://sharkattackfile.net/spreadsheets/pdf_di...</td>\n",
       "      <td>2018.06.04</td>\n",
       "      <td>2018.06.04</td>\n",
       "      <td>6299.0</td>\n",
       "      <td>NaN</td>\n",
       "      <td>NaN</td>\n",
       "    </tr>\n",
       "  </tbody>\n",
       "</table>\n",
       "<p>5 rows × 24 columns</p>\n",
       "</div>"
      ],
      "text/plain": [
       "  Case Number         Date    Year        Type    Country             Area  \\\n",
       "0  2018.06.25  25-Jun-2018  2018.0     Boating        USA       California   \n",
       "1  2018.06.18  18-Jun-2018  2018.0  Unprovoked        USA          Georgia   \n",
       "2  2018.06.09  09-Jun-2018  2018.0     Invalid        USA           Hawaii   \n",
       "3  2018.06.08  08-Jun-2018  2018.0  Unprovoked  AUSTRALIA  New South Wales   \n",
       "4  2018.06.04  04-Jun-2018  2018.0    Provoked     MEXICO           Colima   \n",
       "\n",
       "                         Location     Activity             Name Sex   ...  \\\n",
       "0     Oceanside, San Diego County     Paddling      Julie Wolfe    F  ...   \n",
       "1  St. Simon Island, Glynn County     Standing  Adyson McNeely     F  ...   \n",
       "2                    Habush, Oahu      Surfing      John Denges    M  ...   \n",
       "3              Arrawarra Headland      Surfing             male    M  ...   \n",
       "4                        La Ticla  Free diving   Gustavo Ramos     M  ...   \n",
       "\n",
       "          Species           Investigator or Source                       pdf  \\\n",
       "0      White shark                R. Collier, GSAF      2018.06.25-Wolfe.pdf   \n",
       "1              NaN  K.McMurray, TrackingSharks.com    2018.06.18-McNeely.pdf   \n",
       "2              NaN  K.McMurray, TrackingSharks.com     2018.06.09-Denges.pdf   \n",
       "3        2 m shark                  B. Myatt, GSAF  2018.06.08-Arrawarra.pdf   \n",
       "4  Tiger shark, 3m                       A .Kipper      2018.06.04-Ramos.pdf   \n",
       "\n",
       "                                        href formula  \\\n",
       "0  http://sharkattackfile.net/spreadsheets/pdf_di...   \n",
       "1  http://sharkattackfile.net/spreadsheets/pdf_di...   \n",
       "2  http://sharkattackfile.net/spreadsheets/pdf_di...   \n",
       "3  http://sharkattackfile.net/spreadsheets/pdf_di...   \n",
       "4  http://sharkattackfile.net/spreadsheets/pdf_di...   \n",
       "\n",
       "                                                href Case Number.1  \\\n",
       "0  http://sharkattackfile.net/spreadsheets/pdf_di...    2018.06.25   \n",
       "1  http://sharkattackfile.net/spreadsheets/pdf_di...    2018.06.18   \n",
       "2  http://sharkattackfile.net/spreadsheets/pdf_di...    2018.06.09   \n",
       "3  http://sharkattackfile.net/spreadsheets/pdf_di...    2018.06.08   \n",
       "4  http://sharkattackfile.net/spreadsheets/pdf_di...    2018.06.04   \n",
       "\n",
       "  Case Number.2 original order Unnamed: 22 Unnamed: 23  \n",
       "0    2018.06.25         6303.0         NaN         NaN  \n",
       "1    2018.06.18         6302.0         NaN         NaN  \n",
       "2    2018.06.09         6301.0         NaN         NaN  \n",
       "3    2018.06.08         6300.0         NaN         NaN  \n",
       "4    2018.06.04         6299.0         NaN         NaN  \n",
       "\n",
       "[5 rows x 24 columns]"
      ]
     },
     "execution_count": 4,
     "metadata": {},
     "output_type": "execute_result"
    }
   ],
   "source": [
    "# I want to have a look at only the first few rows \n",
    "shark.head()"
   ]
  },
  {
   "cell_type": "code",
   "execution_count": 5,
   "id": "f3857a73",
   "metadata": {},
   "outputs": [
    {
     "data": {
      "text/html": [
       "<div>\n",
       "<style scoped>\n",
       "    .dataframe tbody tr th:only-of-type {\n",
       "        vertical-align: middle;\n",
       "    }\n",
       "\n",
       "    .dataframe tbody tr th {\n",
       "        vertical-align: top;\n",
       "    }\n",
       "\n",
       "    .dataframe thead th {\n",
       "        text-align: right;\n",
       "    }\n",
       "</style>\n",
       "<table border=\"1\" class=\"dataframe\">\n",
       "  <thead>\n",
       "    <tr style=\"text-align: right;\">\n",
       "      <th></th>\n",
       "      <th>Case Number</th>\n",
       "      <th>Date</th>\n",
       "      <th>Year</th>\n",
       "      <th>Type</th>\n",
       "      <th>Country</th>\n",
       "      <th>Area</th>\n",
       "      <th>Location</th>\n",
       "      <th>Activity</th>\n",
       "      <th>Name</th>\n",
       "      <th>Sex</th>\n",
       "      <th>...</th>\n",
       "      <th>Species</th>\n",
       "      <th>Investigator or Source</th>\n",
       "      <th>pdf</th>\n",
       "      <th>href formula</th>\n",
       "      <th>href</th>\n",
       "      <th>Case Number.1</th>\n",
       "      <th>Case Number.2</th>\n",
       "      <th>original order</th>\n",
       "      <th>Unnamed: 22</th>\n",
       "      <th>Unnamed: 23</th>\n",
       "    </tr>\n",
       "  </thead>\n",
       "  <tbody>\n",
       "    <tr>\n",
       "      <th>9417</th>\n",
       "      <td>NaN</td>\n",
       "      <td>NaN</td>\n",
       "      <td>NaN</td>\n",
       "      <td>NaN</td>\n",
       "      <td>NaN</td>\n",
       "      <td>NaN</td>\n",
       "      <td>NaN</td>\n",
       "      <td>NaN</td>\n",
       "      <td>NaN</td>\n",
       "      <td>NaN</td>\n",
       "      <td>...</td>\n",
       "      <td>NaN</td>\n",
       "      <td>NaN</td>\n",
       "      <td>NaN</td>\n",
       "      <td>NaN</td>\n",
       "      <td>NaN</td>\n",
       "      <td>NaN</td>\n",
       "      <td>NaN</td>\n",
       "      <td>NaN</td>\n",
       "      <td>NaN</td>\n",
       "      <td>NaN</td>\n",
       "    </tr>\n",
       "  </tbody>\n",
       "</table>\n",
       "<p>1 rows × 24 columns</p>\n",
       "</div>"
      ],
      "text/plain": [
       "     Case Number Date  Year Type Country Area Location Activity Name Sex   \\\n",
       "9417         NaN  NaN   NaN  NaN     NaN  NaN      NaN      NaN  NaN  NaN   \n",
       "\n",
       "      ... Species  Investigator or Source  pdf href formula href  \\\n",
       "9417  ...      NaN                    NaN  NaN          NaN  NaN   \n",
       "\n",
       "     Case Number.1 Case Number.2 original order Unnamed: 22 Unnamed: 23  \n",
       "9417           NaN           NaN            NaN         NaN         NaN  \n",
       "\n",
       "[1 rows x 24 columns]"
      ]
     },
     "execution_count": 5,
     "metadata": {},
     "output_type": "execute_result"
    }
   ],
   "source": [
    "# This is to display only a sample and by repeating it, I see a different column each time\n",
    "shark.sample()"
   ]
  },
  {
   "cell_type": "markdown",
   "id": "13efa1cc",
   "metadata": {},
   "source": [
    "## Hypthoses\n",
    "\n",
    "Now that I can access the data let's work on a few hypotheses that I will explore and do the relevant code to find the corresponding answer. I will start with easy assumptions before increasing their complexity.\n",
    "\n",
    "1. Are the number of deadly cases going up during the last 100 years?\n",
    "2. What is the geographical repartition of attacks? \n",
    "3. Which activity is the most dangerous to women by XYZ shark ?\n",
    "4. What time is the best time and location to get a fatal attack?\n"
   ]
  },
  {
   "cell_type": "markdown",
   "id": "3338ae06",
   "metadata": {},
   "source": [
    "### 1. Evolution of deadly cases during the last 100 years"
   ]
  },
  {
   "cell_type": "code",
   "execution_count": 6,
   "id": "5ca35b33",
   "metadata": {},
   "outputs": [
    {
     "data": {
      "text/plain": [
       "Case Number                object\n",
       "Date                       object\n",
       "Year                      float64\n",
       "Type                       object\n",
       "Country                    object\n",
       "Area                       object\n",
       "Location                   object\n",
       "Activity                   object\n",
       "Name                       object\n",
       "Sex                        object\n",
       "Age                        object\n",
       "Injury                     object\n",
       "Fatal (Y/N)                object\n",
       "Time                       object\n",
       "Species                    object\n",
       "Investigator or Source     object\n",
       "pdf                        object\n",
       "href formula               object\n",
       "href                       object\n",
       "Case Number.1              object\n",
       "Case Number.2              object\n",
       "original order            float64\n",
       "Unnamed: 22                object\n",
       "Unnamed: 23                object\n",
       "dtype: object"
      ]
     },
     "execution_count": 6,
     "metadata": {},
     "output_type": "execute_result"
    }
   ],
   "source": [
    "# I will look at the first three columns and try to understand which datatype it is.\n",
    "# This function gives me the data type of each column\n",
    "shark.dtypes"
   ]
  },
  {
   "cell_type": "code",
   "execution_count": 7,
   "id": "a05d4933",
   "metadata": {},
   "outputs": [
    {
     "data": {
      "text/plain": [
       "0        2018.06.25\n",
       "1        2018.06.18\n",
       "2        2018.06.09\n",
       "3        2018.06.08\n",
       "4        2018.06.04\n",
       "            ...    \n",
       "25718           NaN\n",
       "25719           NaN\n",
       "25720           NaN\n",
       "25721           NaN\n",
       "25722            xx\n",
       "Name: Case Number, Length: 25723, dtype: object"
      ]
     },
     "execution_count": 7,
     "metadata": {},
     "output_type": "execute_result"
    }
   ],
   "source": [
    "shark[\"Case Number\"]"
   ]
  },
  {
   "cell_type": "code",
   "execution_count": 8,
   "id": "fc426865",
   "metadata": {},
   "outputs": [
    {
     "data": {
      "text/plain": [
       "0        25-Jun-2018\n",
       "1        18-Jun-2018\n",
       "2        09-Jun-2018\n",
       "3        08-Jun-2018\n",
       "4        04-Jun-2018\n",
       "            ...     \n",
       "25718            NaN\n",
       "25719            NaN\n",
       "25720            NaN\n",
       "25721            NaN\n",
       "25722            NaN\n",
       "Name: Date, Length: 25723, dtype: object"
      ]
     },
     "execution_count": 8,
     "metadata": {},
     "output_type": "execute_result"
    }
   ],
   "source": [
    "shark[\"Date\"]"
   ]
  },
  {
   "cell_type": "code",
   "execution_count": 9,
   "id": "559fbee4",
   "metadata": {},
   "outputs": [
    {
     "data": {
      "text/plain": [
       "0        2018.0\n",
       "1        2018.0\n",
       "2        2018.0\n",
       "3        2018.0\n",
       "4        2018.0\n",
       "          ...  \n",
       "25718       NaN\n",
       "25719       NaN\n",
       "25720       NaN\n",
       "25721       NaN\n",
       "25722       NaN\n",
       "Name: Year, Length: 25723, dtype: float64"
      ]
     },
     "execution_count": 9,
     "metadata": {},
     "output_type": "execute_result"
    }
   ],
   "source": [
    "shark[\"Year\"]"
   ]
  },
  {
   "cell_type": "markdown",
   "id": "f2a30c61",
   "metadata": {},
   "source": [
    "Here, I learned that the last column is already a float compared to the other two objects and will need some cleaning if I want to use it to test the first hypothesis. "
   ]
  },
  {
   "cell_type": "code",
   "execution_count": 11,
   "id": "f9c22556",
   "metadata": {
    "scrolled": true
   },
   "outputs": [
    {
     "data": {
      "text/html": [
       "<div>\n",
       "<style scoped>\n",
       "    .dataframe tbody tr th:only-of-type {\n",
       "        vertical-align: middle;\n",
       "    }\n",
       "\n",
       "    .dataframe tbody tr th {\n",
       "        vertical-align: top;\n",
       "    }\n",
       "\n",
       "    .dataframe thead th {\n",
       "        text-align: right;\n",
       "    }\n",
       "</style>\n",
       "<table border=\"1\" class=\"dataframe\">\n",
       "  <thead>\n",
       "    <tr style=\"text-align: right;\">\n",
       "      <th></th>\n",
       "      <th>Year</th>\n",
       "      <th>Fatal (Y/N)</th>\n",
       "    </tr>\n",
       "  </thead>\n",
       "  <tbody>\n",
       "    <tr>\n",
       "      <th>0</th>\n",
       "      <td>2018.0</td>\n",
       "      <td>N</td>\n",
       "    </tr>\n",
       "    <tr>\n",
       "      <th>1</th>\n",
       "      <td>2018.0</td>\n",
       "      <td>N</td>\n",
       "    </tr>\n",
       "    <tr>\n",
       "      <th>2</th>\n",
       "      <td>2018.0</td>\n",
       "      <td>N</td>\n",
       "    </tr>\n",
       "    <tr>\n",
       "      <th>3</th>\n",
       "      <td>2018.0</td>\n",
       "      <td>N</td>\n",
       "    </tr>\n",
       "    <tr>\n",
       "      <th>4</th>\n",
       "      <td>2018.0</td>\n",
       "      <td>N</td>\n",
       "    </tr>\n",
       "    <tr>\n",
       "      <th>...</th>\n",
       "      <td>...</td>\n",
       "      <td>...</td>\n",
       "    </tr>\n",
       "    <tr>\n",
       "      <th>25718</th>\n",
       "      <td>NaN</td>\n",
       "      <td>NaN</td>\n",
       "    </tr>\n",
       "    <tr>\n",
       "      <th>25719</th>\n",
       "      <td>NaN</td>\n",
       "      <td>NaN</td>\n",
       "    </tr>\n",
       "    <tr>\n",
       "      <th>25720</th>\n",
       "      <td>NaN</td>\n",
       "      <td>NaN</td>\n",
       "    </tr>\n",
       "    <tr>\n",
       "      <th>25721</th>\n",
       "      <td>NaN</td>\n",
       "      <td>NaN</td>\n",
       "    </tr>\n",
       "    <tr>\n",
       "      <th>25722</th>\n",
       "      <td>NaN</td>\n",
       "      <td>NaN</td>\n",
       "    </tr>\n",
       "  </tbody>\n",
       "</table>\n",
       "<p>25723 rows × 2 columns</p>\n",
       "</div>"
      ],
      "text/plain": [
       "         Year Fatal (Y/N)\n",
       "0      2018.0           N\n",
       "1      2018.0           N\n",
       "2      2018.0           N\n",
       "3      2018.0           N\n",
       "4      2018.0           N\n",
       "...       ...         ...\n",
       "25718     NaN         NaN\n",
       "25719     NaN         NaN\n",
       "25720     NaN         NaN\n",
       "25721     NaN         NaN\n",
       "25722     NaN         NaN\n",
       "\n",
       "[25723 rows x 2 columns]"
      ]
     },
     "execution_count": 11,
     "metadata": {},
     "output_type": "execute_result"
    }
   ],
   "source": [
    "# Here I will just show the columns that interest us for this exercise namely: \n",
    "# Year and Fatal \n",
    "\n",
    "shark[['Year','Fatal (Y/N)']]\n",
    "\n",
    "# We can observ that there is a lot of Nan that will need to be cleaned"
   ]
  },
  {
   "cell_type": "code",
   "execution_count": 12,
   "id": "9624f03b",
   "metadata": {},
   "outputs": [
    {
     "data": {
      "text/plain": [
       "array([2018., 2017.,   nan, 2016., 2015., 2014., 2013., 2012., 2011.,\n",
       "       2010., 2009., 2008., 2007., 2006., 2005., 2004., 2003., 2002.,\n",
       "       2001., 2000., 1999., 1998., 1997., 1996., 1995., 1984., 1994.,\n",
       "       1993., 1992., 1991., 1990., 1989., 1969., 1988., 1987., 1986.,\n",
       "       1985., 1983., 1982., 1981., 1980., 1979., 1978., 1977., 1976.,\n",
       "       1975., 1974., 1973., 1972., 1971., 1970., 1968., 1967., 1966.,\n",
       "       1965., 1964., 1963., 1962., 1961., 1960., 1959., 1958., 1957.,\n",
       "       1956., 1955., 1954., 1953., 1952., 1951., 1950., 1949., 1948.,\n",
       "       1848., 1947., 1946., 1945., 1944., 1943., 1942., 1941., 1940.,\n",
       "       1939., 1938., 1937., 1936., 1935., 1934., 1933., 1932., 1931.,\n",
       "       1930., 1929., 1928., 1927., 1926., 1925., 1924., 1923., 1922.,\n",
       "       1921., 1920., 1919., 1918., 1917., 1916., 1915., 1914., 1913.,\n",
       "       1912., 1911., 1910., 1909., 1908., 1907., 1906., 1905., 1904.,\n",
       "       1903., 1902., 1901., 1900., 1899., 1898., 1897., 1896., 1895.,\n",
       "       1894., 1893., 1892., 1891., 1890., 1889., 1888., 1887., 1886.,\n",
       "       1885., 1884., 1883., 1882., 1881., 1880., 1879., 1878., 1877.,\n",
       "       1876., 1875., 1874., 1873., 1872., 1871., 1870., 1869., 1868.,\n",
       "       1867., 1866., 1865., 1864., 1863., 1862., 1861., 1860., 1859.,\n",
       "       1858., 1857., 1856., 1855., 1853., 1852., 1851., 1850., 1849.,\n",
       "       1847., 1846., 1845., 1844., 1842., 1841., 1840., 1839., 1837.,\n",
       "       1836., 1835., 1834., 1832., 1831., 1830., 1829., 1828., 1827.,\n",
       "       1826., 1825., 1823., 1822., 1819., 1818., 1817., 1816., 1815.,\n",
       "       1812., 1811., 1810., 1808., 1807., 1805., 1804., 1803., 1802.,\n",
       "       1801., 1800., 1797., 1792., 1791., 1788., 1787., 1786., 1785.,\n",
       "       1784., 1783., 1780., 1779., 1776., 1771., 1767., 1764., 1758.,\n",
       "       1753., 1751., 1749., 1755., 1748., 1742., 1738., 1733., 1723.,\n",
       "       1721., 1703., 1700., 1642., 1638., 1637., 1617., 1595., 1580.,\n",
       "       1555., 1554., 1543.,  500.,   77.,    5.,    0.])"
      ]
     },
     "execution_count": 12,
     "metadata": {},
     "output_type": "execute_result"
    }
   ],
   "source": [
    "# Here I am displaying the different values in the column Year\n",
    "shark['Year'].unique()\n",
    "\n",
    "# I need to get ride off some value (nan or 0.) and will have to reduce to the first years being 1900 "
   ]
  },
  {
   "cell_type": "code",
   "execution_count": 13,
   "id": "c40a6bd1",
   "metadata": {},
   "outputs": [],
   "source": [
    "# I removed the Nan from the column year - let's also create a new subset called hypothesis 1 to\n",
    "# not alter the data as initially stored \n",
    "hypothesis_1 = shark[shark[\"Year\"].notna()]"
   ]
  },
  {
   "cell_type": "code",
   "execution_count": 14,
   "id": "087d7406",
   "metadata": {},
   "outputs": [
    {
     "data": {
      "text/plain": [
       "array([2018., 2017., 2016., 2015., 2014., 2013., 2012., 2011., 2010.,\n",
       "       2009., 2008., 2007., 2006., 2005., 2004., 2003., 2002., 2001.,\n",
       "       2000., 1999., 1998., 1997., 1996., 1995., 1984., 1994., 1993.,\n",
       "       1992., 1991., 1990., 1989., 1969., 1988., 1987., 1986., 1985.,\n",
       "       1983., 1982., 1981., 1980., 1979., 1978., 1977., 1976., 1975.,\n",
       "       1974., 1973., 1972., 1971., 1970., 1968., 1967., 1966., 1965.,\n",
       "       1964., 1963., 1962., 1961., 1960., 1959., 1958., 1957., 1956.,\n",
       "       1955., 1954., 1953., 1952., 1951., 1950., 1949., 1948., 1947.,\n",
       "       1946., 1945., 1944., 1943., 1942., 1941., 1940., 1939., 1938.,\n",
       "       1937., 1936., 1935., 1934., 1933., 1932., 1931., 1930., 1929.,\n",
       "       1928., 1927., 1926., 1925., 1924., 1923., 1922., 1921., 1920.,\n",
       "       1919., 1918., 1917., 1916., 1915., 1914., 1913., 1912., 1911.,\n",
       "       1910., 1909., 1908., 1907., 1906., 1905., 1904., 1903., 1902.,\n",
       "       1901., 1900.])"
      ]
     },
     "execution_count": 14,
     "metadata": {},
     "output_type": "execute_result"
    }
   ],
   "source": [
    "# I will keep only keep the value starting from 1900 \n",
    "hypothesis_1 = hypothesis_1[hypothesis_1[\"Year\"] > 1899]\n",
    "hypothesis_1['Year'].unique()\n"
   ]
  },
  {
   "cell_type": "code",
   "execution_count": 15,
   "id": "93178445",
   "metadata": {},
   "outputs": [
    {
     "data": {
      "text/plain": [
       "array(['N', 'Y', nan, 'M', 'UNKNOWN', '2017', ' N', 'N '], dtype=object)"
      ]
     },
     "execution_count": 15,
     "metadata": {},
     "output_type": "execute_result"
    }
   ],
   "source": [
    "# Let's do the same with fatal injuries\n",
    "hypothesis_1['Fatal (Y/N)'].unique()\n",
    "\n",
    "# What I found out is that here beside the unrelevant values such as M, UNKNOWN, 2017), there is a lot of values that\n",
    "# were inserted using space before or in lower case"
   ]
  },
  {
   "cell_type": "code",
   "execution_count": 14,
   "id": "932aa71e",
   "metadata": {},
   "outputs": [
    {
     "data": {
      "text/plain": [
       "array(['N', 'Y', nan, 'M', 'UNKNOWN', '2017'], dtype=object)"
      ]
     },
     "execution_count": 14,
     "metadata": {},
     "output_type": "execute_result"
    }
   ],
   "source": [
    "# I will remove the special character \n",
    "\n",
    "hypothesis_1['Fatal (Y/N)'] = hypothesis_1['Fatal (Y/N)'].str.replace(' N', 'N')\n",
    "hypothesis_1['Fatal (Y/N)'] = hypothesis_1['Fatal (Y/N)'].str.replace('N ', 'N')\n",
    "hypothesis_1['Fatal (Y/N)'] = hypothesis_1['Fatal (Y/N)'].str.replace('y', 'Y')\n",
    "\n",
    "hypothesis_1['Fatal (Y/N)'].unique()"
   ]
  },
  {
   "cell_type": "code",
   "execution_count": 16,
   "id": "915f4dfa",
   "metadata": {},
   "outputs": [
    {
     "data": {
      "text/plain": [
       "array([nan, 'Y'], dtype=object)"
      ]
     },
     "execution_count": 16,
     "metadata": {},
     "output_type": "execute_result"
    }
   ],
   "source": [
    "# I will remove the character that I don't need. I could have used the function below and, with regex only, \n",
    "# extracted the Y from the beginning\n",
    "\n",
    "hypothesis_1[\"Fatal (Y/N)\"] = hypothesis_1[\"Fatal (Y/N)\"].str.extract(\"(^Y)\")\n",
    "hypothesis_1[\"Fatal (Y/N)\"].unique()\n"
   ]
  },
  {
   "cell_type": "code",
   "execution_count": 17,
   "id": "814acde3",
   "metadata": {},
   "outputs": [
    {
     "data": {
      "text/plain": [
       "array(['Y'], dtype=object)"
      ]
     },
     "execution_count": 17,
     "metadata": {},
     "output_type": "execute_result"
    }
   ],
   "source": [
    "#Finally, let's remove the nan values\n",
    "\n",
    "hypothesis_1 = hypothesis_1[hypothesis_1[\"Fatal (Y/N)\"].notna()]\n",
    "hypothesis_1[\"Fatal (Y/N)\"].unique()"
   ]
  },
  {
   "cell_type": "code",
   "execution_count": 18,
   "id": "5f4753c0",
   "metadata": {},
   "outputs": [
    {
     "data": {
      "text/html": [
       "<div>\n",
       "<style scoped>\n",
       "    .dataframe tbody tr th:only-of-type {\n",
       "        vertical-align: middle;\n",
       "    }\n",
       "\n",
       "    .dataframe tbody tr th {\n",
       "        vertical-align: top;\n",
       "    }\n",
       "\n",
       "    .dataframe thead th {\n",
       "        text-align: right;\n",
       "    }\n",
       "</style>\n",
       "<table border=\"1\" class=\"dataframe\">\n",
       "  <thead>\n",
       "    <tr style=\"text-align: right;\">\n",
       "      <th></th>\n",
       "      <th>Year</th>\n",
       "      <th>Fatal (Y/N)</th>\n",
       "    </tr>\n",
       "  </thead>\n",
       "  <tbody>\n",
       "    <tr>\n",
       "      <th>6</th>\n",
       "      <td>2018.0</td>\n",
       "      <td>Y</td>\n",
       "    </tr>\n",
       "    <tr>\n",
       "      <th>58</th>\n",
       "      <td>2017.0</td>\n",
       "      <td>Y</td>\n",
       "    </tr>\n",
       "    <tr>\n",
       "      <th>59</th>\n",
       "      <td>2017.0</td>\n",
       "      <td>Y</td>\n",
       "    </tr>\n",
       "    <tr>\n",
       "      <th>64</th>\n",
       "      <td>2017.0</td>\n",
       "      <td>Y</td>\n",
       "    </tr>\n",
       "    <tr>\n",
       "      <th>91</th>\n",
       "      <td>2017.0</td>\n",
       "      <td>Y</td>\n",
       "    </tr>\n",
       "    <tr>\n",
       "      <th>...</th>\n",
       "      <td>...</td>\n",
       "      <td>...</td>\n",
       "    </tr>\n",
       "    <tr>\n",
       "      <th>5545</th>\n",
       "      <td>1901.0</td>\n",
       "      <td>Y</td>\n",
       "    </tr>\n",
       "    <tr>\n",
       "      <th>5549</th>\n",
       "      <td>1901.0</td>\n",
       "      <td>Y</td>\n",
       "    </tr>\n",
       "    <tr>\n",
       "      <th>5551</th>\n",
       "      <td>1900.0</td>\n",
       "      <td>Y</td>\n",
       "    </tr>\n",
       "    <tr>\n",
       "      <th>5552</th>\n",
       "      <td>1900.0</td>\n",
       "      <td>Y</td>\n",
       "    </tr>\n",
       "    <tr>\n",
       "      <th>5558</th>\n",
       "      <td>1900.0</td>\n",
       "      <td>Y</td>\n",
       "    </tr>\n",
       "  </tbody>\n",
       "</table>\n",
       "<p>1026 rows × 2 columns</p>\n",
       "</div>"
      ],
      "text/plain": [
       "        Year Fatal (Y/N)\n",
       "6     2018.0           Y\n",
       "58    2017.0           Y\n",
       "59    2017.0           Y\n",
       "64    2017.0           Y\n",
       "91    2017.0           Y\n",
       "...      ...         ...\n",
       "5545  1901.0           Y\n",
       "5549  1901.0           Y\n",
       "5551  1900.0           Y\n",
       "5552  1900.0           Y\n",
       "5558  1900.0           Y\n",
       "\n",
       "[1026 rows x 2 columns]"
      ]
     },
     "execution_count": 18,
     "metadata": {},
     "output_type": "execute_result"
    }
   ],
   "source": [
    "#Here we have the data that I want to display\n",
    "hypothesis_1[['Year','Fatal (Y/N)']]"
   ]
  },
  {
   "cell_type": "code",
   "execution_count": 40,
   "id": "0019df1c",
   "metadata": {},
   "outputs": [
    {
     "data": {
      "text/plain": [
       "<seaborn.axisgrid.FacetGrid at 0x204c7b00520>"
      ]
     },
     "execution_count": 40,
     "metadata": {},
     "output_type": "execute_result"
    },
    {
     "data": {
      "image/png": "[encoded data removed]",
      "text/plain": [
       "<Figure size 500x500 with 1 Axes>"
      ]
     },
     "metadata": {},
     "output_type": "display_data"
    }
   ],
   "source": [
    "sns.set()\n",
    "sns.displot(hypothesis_1, x=\"Year\", bins=100, color= \"r\", legend=True).set(title=\"Number  of fatal death per year\")\n"
   ]
  },
  {
   "cell_type": "code",
   "execution_count": 55,
   "id": "c585f27c",
   "metadata": {},
   "outputs": [
    {
     "data": {
      "text/plain": [
       "<seaborn.axisgrid.FacetGrid at 0x204cdfb3c70>"
      ]
     },
     "execution_count": 55,
     "metadata": {},
     "output_type": "execute_result"
    },
    {
     "data": {
      "image/png": "[encoded data removed]",
      "text/plain": [
       "<Figure size 592.347x500 with 1 Axes>"
      ]
     },
     "metadata": {},
     "output_type": "display_data"
    }
   ],
   "source": [
    "sns.set()\n",
    "sns.displot(hypothesis_1, x=\"Year\", hue=\"Fatal (Y/N)\", palette=\"flare\").set(title='Number of deaths with 10-year bins')\n"
   ]
  },
  {
   "cell_type": "markdown",
   "id": "50005808",
   "metadata": {},
   "source": [
    "## 2. What is the geographical repartition of the attacks?\n",
    "\n",
    "I will perform the same kind of exercise on the geographical repartition and see where it is the most dangerous to swim\n"
   ]
  },
  {
   "cell_type": "code",
   "execution_count": 61,
   "id": "c3a31a57",
   "metadata": {},
   "outputs": [
    {
     "data": {
      "text/plain": [
       "array(['USA', 'AUSTRALIA', 'MEXICO', 'BRAZIL', 'ENGLAND', 'SOUTH AFRICA',\n",
       "       'THAILAND', 'COSTA RICA', 'MALDIVES', 'BAHAMAS', 'NEW CALEDONIA',\n",
       "       'ECUADOR', 'MALAYSIA', 'LIBYA', nan, 'CUBA', 'MAURITIUS',\n",
       "       'NEW ZEALAND', 'SPAIN', 'SAMOA', 'SOLOMON ISLANDS', 'JAPAN',\n",
       "       'EGYPT', 'ST HELENA, BRITISH OVERSEAS TERRITORY', 'COMOROS',\n",
       "       'REUNION', 'FRENCH POLYNESIA', 'UNITED KINGDOM',\n",
       "       'UNITED ARAB EMIRATES', 'PHILIPPINES', 'INDONESIA', 'CHINA',\n",
       "       'COLUMBIA', 'CAPE VERDE', 'FIJI', 'DOMINICAN REPUBLIC',\n",
       "       'CAYMAN ISLANDS', 'ARUBA', 'MOZAMBIQUE', 'PUERTO RICO', 'ITALY',\n",
       "       'ATLANTIC OCEAN', 'GREECE', 'ST. MARTIN', 'FRANCE',\n",
       "       'PAPUA NEW GUINEA', 'TRINIDAD & TOBAGO', 'KIRIBATI', 'ISRAEL',\n",
       "       'DIEGO GARCIA', 'TAIWAN', 'JAMAICA', 'PALESTINIAN TERRITORIES',\n",
       "       'GUAM', 'SEYCHELLES', 'BELIZE', 'NIGERIA', 'TONGA', 'SCOTLAND',\n",
       "       'CANADA', 'CROATIA', 'SAUDI ARABIA', 'CHILE', 'ANTIGUA', 'KENYA',\n",
       "       'RUSSIA', 'TURKS & CAICOS', 'UNITED ARAB EMIRATES (UAE)', 'AZORES',\n",
       "       'SOUTH KOREA', 'MALTA', 'VIETNAM', 'MADAGASCAR', 'PANAMA',\n",
       "       'SOMALIA', 'NEVIS', 'BRITISH VIRGIN ISLANDS', 'NORWAY', 'SENEGAL',\n",
       "       'YEMEN', 'GULF OF ADEN', 'SIERRA LEONE', 'ST. MAARTIN',\n",
       "       'GRAND CAYMAN', 'LIBERIA', 'VANUATU', 'MEXICO ', 'HONDURAS',\n",
       "       'VENEZUELA', 'SRI LANKA', ' TONGA', 'URUGUAY', 'INDIA',\n",
       "       'MICRONESIA', 'CARIBBEAN SEA', 'OKINAWA', 'TANZANIA',\n",
       "       'MARSHALL ISLANDS', 'EGYPT / ISRAEL', 'NORTHERN ARABIAN SEA',\n",
       "       'HONG KONG', 'EL SALVADOR', 'ANGOLA', 'BERMUDA', 'MONTENEGRO',\n",
       "       'IRAN', 'TUNISIA', 'NAMIBIA', 'NORTH ATLANTIC OCEAN', 'PORTUGAL',\n",
       "       'SOUTH CHINA SEA', 'BANGLADESH', 'PALAU', 'WESTERN SAMOA',\n",
       "       'PACIFIC OCEAN ', 'BRITISH ISLES', 'GRENADA', 'IRAQ', 'TURKEY',\n",
       "       'SINGAPORE', 'NEW BRITAIN', 'SUDAN', 'JOHNSTON ISLAND',\n",
       "       'SOUTH PACIFIC OCEAN', 'NEW GUINEA', 'RED SEA',\n",
       "       'NORTH PACIFIC OCEAN', 'FEDERATED STATES OF MICRONESIA',\n",
       "       'MID ATLANTIC OCEAN', 'ADMIRALTY ISLANDS', 'BRITISH WEST INDIES',\n",
       "       'SOUTH ATLANTIC OCEAN', 'PERSIAN GULF', 'RED SEA / INDIAN OCEAN',\n",
       "       'PACIFIC OCEAN', 'NORTH SEA', 'NICARAGUA ', 'MALDIVE ISLANDS',\n",
       "       'AMERICAN SAMOA', 'ANDAMAN / NICOBAR ISLANDAS', 'GABON', 'MAYOTTE',\n",
       "       'NORTH ATLANTIC OCEAN ', 'THE BALKANS', 'SUDAN?', 'ARGENTINA',\n",
       "       'MARTINIQUE', 'INDIAN OCEAN', 'GUATEMALA', 'NETHERLANDS ANTILLES',\n",
       "       'NORTHERN MARIANA ISLANDS', 'IRAN / IRAQ', 'JAVA', ' PHILIPPINES',\n",
       "       'NICARAGUA', 'CENTRAL PACIFIC', 'SOLOMON ISLANDS / VANUATU',\n",
       "       'SOUTHWEST PACIFIC OCEAN', 'BAY OF BENGAL', 'MID-PACIFC OCEAN',\n",
       "       'SLOVENIA', 'CURACAO', 'ICELAND', 'ITALY / CROATIA', 'BARBADOS',\n",
       "       'MONACO', 'GUYANA', 'HAITI', 'SAN DOMINGO', 'IRELAND', 'KUWAIT',\n",
       "       'YEMEN ', 'REUNION ISLAND', 'FALKLAND ISLANDS', 'CRETE', 'CYPRUS',\n",
       "       'EGYPT ', 'WEST INDIES', 'BURMA', 'LEBANON', 'PARAGUAY',\n",
       "       'BRITISH NEW GUINEA', 'CEYLON', 'OCEAN', 'GEORGIA', 'SYRIA',\n",
       "       'TUVALU', 'INDIAN OCEAN?', 'GUINEA', 'ANDAMAN ISLANDS',\n",
       "       'EQUATORIAL GUINEA / CAMEROON', 'COOK ISLANDS', 'TOBAGO', 'PERU',\n",
       "       'AFRICA', 'ALGERIA', 'COAST OF AFRICA', 'TASMAN SEA', 'GHANA',\n",
       "       'GREENLAND', 'MEDITERRANEAN SEA', 'SWEDEN', 'ROATAN',\n",
       "       'BETWEEN PORTUGAL & INDIA', 'DJIBOUTI', 'BAHREIN', 'KOREA',\n",
       "       'RED SEA?', 'ASIA?', 'CEYLON (SRI LANKA)'], dtype=object)"
      ]
     },
     "execution_count": 61,
     "metadata": {},
     "output_type": "execute_result"
    }
   ],
   "source": [
    "# Let's first display the value of the geography and see if some value are similar \n",
    "shark['Country'].unique()"
   ]
  },
  {
   "cell_type": "code",
   "execution_count": 62,
   "id": "0c91c463",
   "metadata": {},
   "outputs": [
    {
     "data": {
      "text/plain": [
       "array(['USA', 'AUSTRALIA', 'MEXICO', 'BRAZIL', 'ENGLAND', 'SOUTH AFRICA',\n",
       "       'THAILAND', 'COSTA RICA', 'MALDIVES', 'BAHAMAS', 'NEW CALEDONIA',\n",
       "       'ECUADOR', 'MALAYSIA', 'LIBYA', nan, 'CUBA', 'MAURITIUS',\n",
       "       'NEW ZEALAND', 'SPAIN', 'SAMOA', 'SOLOMON ISLANDS', 'JAPAN',\n",
       "       'EGYPT', 'ST HELENA, BRITISH OVERSEAS TERRITORY', 'COMOROS',\n",
       "       'REUNION', 'FRENCH POLYNESIA', 'UNITED KINGDOM',\n",
       "       'UNITED ARAB EMIRATES', 'PHILIPPINES', 'INDONESIA', 'CHINA',\n",
       "       'COLUMBIA', 'CAPE VERDE', 'FIJI', 'DOMINICAN REPUBLIC',\n",
       "       'CAYMAN ISLANDS', 'ARUBA', 'MOZAMBIQUE', 'PUERTO RICO', 'ITALY',\n",
       "       'ATLANTIC OCEAN', 'GREECE', 'ST. MARTIN', 'FRANCE',\n",
       "       'PAPUA NEW GUINEA', 'TRINIDAD & TOBAGO', 'KIRIBATI', 'ISRAEL',\n",
       "       'DIEGO GARCIA', 'TAIWAN', 'JAMAICA', 'PALESTINIAN TERRITORIES',\n",
       "       'GUAM', 'SEYCHELLES', 'BELIZE', 'NIGERIA', 'TONGA', 'SCOTLAND',\n",
       "       'CANADA', 'CROATIA', 'SAUDI ARABIA', 'CHILE', 'ANTIGUA', 'KENYA',\n",
       "       'RUSSIA', 'TURKS & CAICOS', 'UNITED ARAB EMIRATES (UAE)', 'AZORES',\n",
       "       'SOUTH KOREA', 'MALTA', 'VIETNAM', 'MADAGASCAR', 'PANAMA',\n",
       "       'SOMALIA', 'NEVIS', 'BRITISH VIRGIN ISLANDS', 'NORWAY', 'SENEGAL',\n",
       "       'YEMEN', 'GULF OF ADEN', 'SIERRA LEONE', 'ST. MAARTIN',\n",
       "       'GRAND CAYMAN', 'LIBERIA', 'VANUATU', 'MEXICO ', 'HONDURAS',\n",
       "       'VENEZUELA', 'SRI LANKA', ' TONGA', 'URUGUAY', 'INDIA',\n",
       "       'MICRONESIA', 'CARIBBEAN SEA', 'OKINAWA', 'TANZANIA',\n",
       "       'MARSHALL ISLANDS', 'EGYPT / ISRAEL', 'NORTHERN ARABIAN SEA',\n",
       "       'HONG KONG', 'EL SALVADOR', 'ANGOLA', 'BERMUDA', 'MONTENEGRO',\n",
       "       'IRAN', 'TUNISIA', 'NAMIBIA', 'NORTH ATLANTIC OCEAN', 'PORTUGAL',\n",
       "       'SOUTH CHINA SEA', 'BANGLADESH', 'PALAU', 'WESTERN SAMOA',\n",
       "       'PACIFIC OCEAN ', 'BRITISH ISLES', 'GRENADA', 'IRAQ', 'TURKEY',\n",
       "       'SINGAPORE', 'NEW BRITAIN', 'SUDAN', 'JOHNSTON ISLAND',\n",
       "       'SOUTH PACIFIC OCEAN', 'NEW GUINEA', 'RED SEA',\n",
       "       'NORTH PACIFIC OCEAN', 'FEDERATED STATES OF MICRONESIA',\n",
       "       'MID ATLANTIC OCEAN', 'ADMIRALTY ISLANDS', 'BRITISH WEST INDIES',\n",
       "       'SOUTH ATLANTIC OCEAN', 'PERSIAN GULF', 'RED SEA / INDIAN OCEAN',\n",
       "       'PACIFIC OCEAN', 'NORTH SEA', 'NICARAGUA ', 'MALDIVE ISLANDS',\n",
       "       'AMERICAN SAMOA', 'ANDAMAN / NICOBAR ISLANDAS', 'GABON', 'MAYOTTE',\n",
       "       'NORTH ATLANTIC OCEAN ', 'THE BALKANS', 'SUDAN?', 'ARGENTINA',\n",
       "       'MARTINIQUE', 'INDIAN OCEAN', 'GUATEMALA', 'NETHERLANDS ANTILLES',\n",
       "       'NORTHERN MARIANA ISLANDS', 'IRAN / IRAQ', 'JAVA', ' PHILIPPINES',\n",
       "       'NICARAGUA', 'CENTRAL PACIFIC', 'SOLOMON ISLANDS / VANUATU',\n",
       "       'SOUTHWEST PACIFIC OCEAN', 'BAY OF BENGAL', 'MID-PACIFC OCEAN',\n",
       "       'SLOVENIA', 'CURACAO', 'ICELAND', 'ITALY / CROATIA', 'BARBADOS',\n",
       "       'MONACO', 'GUYANA', 'HAITI', 'SAN DOMINGO', 'IRELAND', 'KUWAIT',\n",
       "       'YEMEN ', 'REUNION ISLAND', 'FALKLAND ISLANDS', 'CRETE', 'CYPRUS',\n",
       "       'EGYPT ', 'WEST INDIES', 'BURMA', 'LEBANON', 'PARAGUAY',\n",
       "       'BRITISH NEW GUINEA', 'CEYLON', 'OCEAN', 'GEORGIA', 'SYRIA',\n",
       "       'TUVALU', 'INDIAN OCEAN?', 'GUINEA', 'ANDAMAN ISLANDS',\n",
       "       'EQUATORIAL GUINEA / CAMEROON', 'COOK ISLANDS', 'TOBAGO', 'PERU',\n",
       "       'AFRICA', 'ALGERIA', 'COAST OF AFRICA', 'TASMAN SEA', 'GHANA',\n",
       "       'GREENLAND', 'MEDITERRANEAN SEA', 'SWEDEN', 'ROATAN',\n",
       "       'BETWEEN PORTUGAL & INDIA', 'DJIBOUTI', 'BAHREIN', 'KOREA',\n",
       "       'RED SEA?', 'ASIA?', 'CEYLON (SRI LANKA)'], dtype=object)"
      ]
     },
     "execution_count": 62,
     "metadata": {},
     "output_type": "execute_result"
    }
   ],
   "source": [
    "# To have a similar structure in the value, I will put upper cases everywhere\n",
    "hypothesis_2 = shark\n",
    "hypothesis_2['Country']= shark['Country'].str.upper()\n",
    "hypothesis_2['Country'].unique()"
   ]
  },
  {
   "cell_type": "code",
   "execution_count": 94,
   "id": "71482e07",
   "metadata": {},
   "outputs": [],
   "source": [
    "# Removing all the Nan\n",
    "hypothesis_2 = shark[shark[\"Country\"].notna()]"
   ]
  },
  {
   "cell_type": "code",
   "execution_count": 95,
   "id": "a4b12ee9",
   "metadata": {},
   "outputs": [
    {
     "data": {
      "text/plain": [
       "6252"
      ]
     },
     "execution_count": 95,
     "metadata": {},
     "output_type": "execute_result"
    }
   ],
   "source": [
    "# I will have a look at the length of the data set now and see how many cases I have \n",
    "len(hypothesis_2['Country'])"
   ]
  },
  {
   "cell_type": "code",
   "execution_count": 104,
   "id": "6616824a",
   "metadata": {},
   "outputs": [
    {
     "data": {
      "text/plain": [
       "201"
      ]
     },
     "execution_count": 104,
     "metadata": {},
     "output_type": "execute_result"
    }
   ],
   "source": [
    "# I want to check the number of unique value - the result 209 seems a bit high and it is likely that there is some duplicates \n",
    "# knowing that there is 195 countries in the world. \n",
    "len(hypothesis_2['Country'].unique())"
   ]
  },
  {
   "cell_type": "code",
   "execution_count": 108,
   "id": "3ef050c4",
   "metadata": {},
   "outputs": [
    {
     "name": "stdout",
     "output_type": "stream",
     "text": [
      "['ADMIRALTY ISLANDS' 'AFRICA' 'ALGERIA' ... 'YEMEN' 'YEMEN' 'YEMEN']\n"
     ]
    }
   ],
   "source": [
    "# Drop the duplicates so I can have a look at the unique values \n",
    "hypothesis_2bis = hypothesis_2.drop_duplicates(subset = \"Country\")\n",
    "\n",
    "print(np.sort(hypothesis_2['Country']))\n",
    "\n",
    "#What do we find out? \n",
    "# Some countries are not countries (ex: Martinique), and sometimes it is more a region that is given. \n",
    "# Without entering too much into the technicalities, there is still some work that we can do to clean the country section\n",
    "# 1. Countries with a space before: Philippines and Tonga \n",
    "# 2. Countries with a \"?\" at the end: Asia, Indian Ocean, Mexico, Red Sea, Sudan, North Atlantic Ocean and the Pacific Ocean\n",
    "# 3. Countries with a space after: Egypt, Nicaragua, Yemen\n",
    "# 4. Countries that exist in two forms: Andaman, Ceylon, Reunion, Maldives"
   ]
  },
  {
   "cell_type": "code",
   "execution_count": 72,
   "id": "1d35d764",
   "metadata": {},
   "outputs": [
    {
     "data": {
      "text/plain": [
       "Case Number                object\n",
       "Date                       object\n",
       "Year                      float64\n",
       "Type                       object\n",
       "Country                    object\n",
       "Area                       object\n",
       "Location                   object\n",
       "Activity                   object\n",
       "Name                       object\n",
       "Sex                        object\n",
       "Age                        object\n",
       "Injury                     object\n",
       "Fatal (Y/N)                object\n",
       "Time                       object\n",
       "Species                    object\n",
       "Investigator or Source     object\n",
       "pdf                        object\n",
       "href formula               object\n",
       "href                       object\n",
       "Case Number.1              object\n",
       "Case Number.2              object\n",
       "original order            float64\n",
       "Unnamed: 22                object\n",
       "Unnamed: 23                object\n",
       "dtype: object"
      ]
     },
     "execution_count": 72,
     "metadata": {},
     "output_type": "execute_result"
    }
   ],
   "source": [
    "hypothesis_2bis.dtypes"
   ]
  },
  {
   "cell_type": "code",
   "execution_count": 109,
   "id": "b88afeba",
   "metadata": {
    "scrolled": true
   },
   "outputs": [
    {
     "name": "stdout",
     "output_type": "stream",
     "text": [
      "['ADMIRALTY ISLANDS', 'AFRICA', 'ALGERIA', 'AMERICAN SAMOA', 'AMERICAN SAMOA', 'AMERICAN SAMOA', 'ANDAMAN / NICOBAR ISLANDAS', 'ANDAMAN ISLANDS', 'ANGOLA', 'ANTIGUA', 'ANTIGUA', 'ARGENTINA', 'ARUBA', 'ASIA?', 'ATLANTIC OCEAN', 'ATLANTIC OCEAN', 'ATLANTIC OCEAN', 'ATLANTIC OCEAN', 'ATLANTIC OCEAN', 'ATLANTIC OCEAN', 'ATLANTIC OCEAN', 'ATLANTIC OCEAN', 'ATLANTIC OCEAN', 'ATLANTIC OCEAN', 'ATLANTIC OCEAN', 'ATLANTIC OCEAN', 'ATLANTIC OCEAN', 'ATLANTIC OCEAN', 'ATLANTIC OCEAN', 'ATLANTIC OCEAN', 'ATLANTIC OCEAN', 'AUSTRALIA', 'AUSTRALIA', 'AUSTRALIA', 'AUSTRALIA', 'AUSTRALIA', 'AUSTRALIA', 'AUSTRALIA', 'AUSTRALIA', 'AUSTRALIA', 'AUSTRALIA', 'AUSTRALIA', 'AUSTRALIA', 'AUSTRALIA', 'AUSTRALIA', 'AUSTRALIA', 'AUSTRALIA', 'AUSTRALIA', 'AUSTRALIA', 'AUSTRALIA', 'AUSTRALIA', 'AUSTRALIA', 'AUSTRALIA', 'AUSTRALIA', 'AUSTRALIA', 'AUSTRALIA', 'AUSTRALIA', 'AUSTRALIA', 'AUSTRALIA', 'AUSTRALIA', 'AUSTRALIA', 'AUSTRALIA', 'AUSTRALIA', 'AUSTRALIA', 'AUSTRALIA', 'AUSTRALIA', 'AUSTRALIA', 'AUSTRALIA', 'AUSTRALIA', 'AUSTRALIA', 'AUSTRALIA', 'AUSTRALIA', 'AUSTRALIA', 'AUSTRALIA', 'AUSTRALIA', 'AUSTRALIA', 'AUSTRALIA', 'AUSTRALIA', 'AUSTRALIA', 'AUSTRALIA', 'AUSTRALIA', 'AUSTRALIA', 'AUSTRALIA', 'AUSTRALIA', 'AUSTRALIA', 'AUSTRALIA', 'AUSTRALIA', 'AUSTRALIA', 'AUSTRALIA', 'AUSTRALIA', 'AUSTRALIA', 'AUSTRALIA', 'AUSTRALIA', 'AUSTRALIA', 'AUSTRALIA', 'AUSTRALIA', 'AUSTRALIA', 'AUSTRALIA', 'AUSTRALIA', 'AUSTRALIA', 'AUSTRALIA', 'AUSTRALIA', 'AUSTRALIA', 'AUSTRALIA', 'AUSTRALIA', 'AUSTRALIA', 'AUSTRALIA', 'AUSTRALIA', 'AUSTRALIA', 'AUSTRALIA', 'AUSTRALIA', 'AUSTRALIA', 'AUSTRALIA', 'AUSTRALIA', 'AUSTRALIA', 'AUSTRALIA', 'AUSTRALIA', 'AUSTRALIA', 'AUSTRALIA', 'AUSTRALIA', 'AUSTRALIA', 'AUSTRALIA', 'AUSTRALIA', 'AUSTRALIA', 'AUSTRALIA', 'AUSTRALIA', 'AUSTRALIA', 'AUSTRALIA', 'AUSTRALIA', 'AUSTRALIA', 'AUSTRALIA', 'AUSTRALIA', 'AUSTRALIA', 'AUSTRALIA', 'AUSTRALIA', 'AUSTRALIA', 'AUSTRALIA', 'AUSTRALIA', 'AUSTRALIA', 'AUSTRALIA', 'AUSTRALIA', 'AUSTRALIA', 'AUSTRALIA', 'AUSTRALIA', 'AUSTRALIA', 'AUSTRALIA', 'AUSTRALIA', 'AUSTRALIA', 'AUSTRALIA', 'AUSTRALIA', 'AUSTRALIA', 'AUSTRALIA', 'AUSTRALIA', 'AUSTRALIA', 'AUSTRALIA', 'AUSTRALIA', 'AUSTRALIA', 'AUSTRALIA', 'AUSTRALIA', 'AUSTRALIA', 'AUSTRALIA', 'AUSTRALIA', 'AUSTRALIA', 'AUSTRALIA', 'AUSTRALIA', 'AUSTRALIA', 'AUSTRALIA', 'AUSTRALIA', 'AUSTRALIA', 'AUSTRALIA', 'AUSTRALIA', 'AUSTRALIA', 'AUSTRALIA', 'AUSTRALIA', 'AUSTRALIA', 'AUSTRALIA', 'AUSTRALIA', 'AUSTRALIA', 'AUSTRALIA', 'AUSTRALIA', 'AUSTRALIA', 'AUSTRALIA', 'AUSTRALIA', 'AUSTRALIA', 'AUSTRALIA', 'AUSTRALIA', 'AUSTRALIA', 'AUSTRALIA', 'AUSTRALIA', 'AUSTRALIA', 'AUSTRALIA', 'AUSTRALIA', 'AUSTRALIA', 'AUSTRALIA', 'AUSTRALIA', 'AUSTRALIA', 'AUSTRALIA', 'AUSTRALIA', 'AUSTRALIA', 'AUSTRALIA', 'AUSTRALIA', 'AUSTRALIA', 'AUSTRALIA', 'AUSTRALIA', 'AUSTRALIA', 'AUSTRALIA', 'AUSTRALIA', 'AUSTRALIA', 'AUSTRALIA', 'AUSTRALIA', 'AUSTRALIA', 'AUSTRALIA', 'AUSTRALIA', 'AUSTRALIA', 'AUSTRALIA', 'AUSTRALIA', 'AUSTRALIA', 'AUSTRALIA', 'AUSTRALIA', 'AUSTRALIA', 'AUSTRALIA', 'AUSTRALIA', 'AUSTRALIA', 'AUSTRALIA', 'AUSTRALIA', 'AUSTRALIA', 'AUSTRALIA', 'AUSTRALIA', 'AUSTRALIA', 'AUSTRALIA', 'AUSTRALIA', 'AUSTRALIA', 'AUSTRALIA', 'AUSTRALIA', 'AUSTRALIA', 'AUSTRALIA', 'AUSTRALIA', 'AUSTRALIA', 'AUSTRALIA', 'AUSTRALIA', 'AUSTRALIA', 'AUSTRALIA', 'AUSTRALIA', 'AUSTRALIA', 'AUSTRALIA', 'AUSTRALIA', 'AUSTRALIA', 'AUSTRALIA', 'AUSTRALIA', 'AUSTRALIA', 'AUSTRALIA', 'AUSTRALIA', 'AUSTRALIA', 'AUSTRALIA', 'AUSTRALIA', 'AUSTRALIA', 'AUSTRALIA', 'AUSTRALIA', 'AUSTRALIA', 'AUSTRALIA', 'AUSTRALIA', 'AUSTRALIA', 'AUSTRALIA', 'AUSTRALIA', 'AUSTRALIA', 'AUSTRALIA', 'AUSTRALIA', 'AUSTRALIA', 'AUSTRALIA', 'AUSTRALIA', 'AUSTRALIA', 'AUSTRALIA', 'AUSTRALIA', 'AUSTRALIA', 'AUSTRALIA', 'AUSTRALIA', 'AUSTRALIA', 'AUSTRALIA', 'AUSTRALIA', 'AUSTRALIA', 'AUSTRALIA', 'AUSTRALIA', 'AUSTRALIA', 'AUSTRALIA', 'AUSTRALIA', 'AUSTRALIA', 'AUSTRALIA', 'AUSTRALIA', 'AUSTRALIA', 'AUSTRALIA', 'AUSTRALIA', 'AUSTRALIA', 'AUSTRALIA', 'AUSTRALIA', 'AUSTRALIA', 'AUSTRALIA', 'AUSTRALIA', 'AUSTRALIA', 'AUSTRALIA', 'AUSTRALIA', 'AUSTRALIA', 'AUSTRALIA', 'AUSTRALIA', 'AUSTRALIA', 'AUSTRALIA', 'AUSTRALIA', 'AUSTRALIA', 'AUSTRALIA', 'AUSTRALIA', 'AUSTRALIA', 'AUSTRALIA', 'AUSTRALIA', 'AUSTRALIA', 'AUSTRALIA', 'AUSTRALIA', 'AUSTRALIA', 'AUSTRALIA', 'AUSTRALIA', 'AUSTRALIA', 'AUSTRALIA', 'AUSTRALIA', 'AUSTRALIA', 'AUSTRALIA', 'AUSTRALIA', 'AUSTRALIA', 'AUSTRALIA', 'AUSTRALIA', 'AUSTRALIA', 'AUSTRALIA', 'AUSTRALIA', 'AUSTRALIA', 'AUSTRALIA', 'AUSTRALIA', 'AUSTRALIA', 'AUSTRALIA', 'AUSTRALIA', 'AUSTRALIA', 'AUSTRALIA', 'AUSTRALIA', 'AUSTRALIA', 'AUSTRALIA', 'AUSTRALIA', 'AUSTRALIA', 'AUSTRALIA', 'AUSTRALIA', 'AUSTRALIA', 'AUSTRALIA', 'AUSTRALIA', 'AUSTRALIA', 'AUSTRALIA', 'AUSTRALIA', 'AUSTRALIA', 'AUSTRALIA', 'AUSTRALIA', 'AUSTRALIA', 'AUSTRALIA', 'AUSTRALIA', 'AUSTRALIA', 'AUSTRALIA', 'AUSTRALIA', 'AUSTRALIA', 'AUSTRALIA', 'AUSTRALIA', 'AUSTRALIA', 'AUSTRALIA', 'AUSTRALIA', 'AUSTRALIA', 'AUSTRALIA', 'AUSTRALIA', 'AUSTRALIA', 'AUSTRALIA', 'AUSTRALIA', 'AUSTRALIA', 'AUSTRALIA', 'AUSTRALIA', 'AUSTRALIA', 'AUSTRALIA', 'AUSTRALIA', 'AUSTRALIA', 'AUSTRALIA', 'AUSTRALIA', 'AUSTRALIA', 'AUSTRALIA', 'AUSTRALIA', 'AUSTRALIA', 'AUSTRALIA', 'AUSTRALIA', 'AUSTRALIA', 'AUSTRALIA', 'AUSTRALIA', 'AUSTRALIA', 'AUSTRALIA', 'AUSTRALIA', 'AUSTRALIA', 'AUSTRALIA', 'AUSTRALIA', 'AUSTRALIA', 'AUSTRALIA', 'AUSTRALIA', 'AUSTRALIA', 'AUSTRALIA', 'AUSTRALIA', 'AUSTRALIA', 'AUSTRALIA', 'AUSTRALIA', 'AUSTRALIA', 'AUSTRALIA', 'AUSTRALIA', 'AUSTRALIA', 'AUSTRALIA', 'AUSTRALIA', 'AUSTRALIA', 'AUSTRALIA', 'AUSTRALIA', 'AUSTRALIA', 'AUSTRALIA', 'AUSTRALIA', 'AUSTRALIA', 'AUSTRALIA', 'AUSTRALIA', 'AUSTRALIA', 'AUSTRALIA', 'AUSTRALIA', 'AUSTRALIA', 'AUSTRALIA', 'AUSTRALIA', 'AUSTRALIA', 'AUSTRALIA', 'AUSTRALIA', 'AUSTRALIA', 'AUSTRALIA', 'AUSTRALIA', 'AUSTRALIA', 'AUSTRALIA', 'AUSTRALIA', 'AUSTRALIA', 'AUSTRALIA', 'AUSTRALIA', 'AUSTRALIA', 'AUSTRALIA', 'AUSTRALIA', 'AUSTRALIA', 'AUSTRALIA', 'AUSTRALIA', 'AUSTRALIA', 'AUSTRALIA', 'AUSTRALIA', 'AUSTRALIA', 'AUSTRALIA', 'AUSTRALIA', 'AUSTRALIA', 'AUSTRALIA', 'AUSTRALIA', 'AUSTRALIA', 'AUSTRALIA', 'AUSTRALIA', 'AUSTRALIA', 'AUSTRALIA', 'AUSTRALIA', 'AUSTRALIA', 'AUSTRALIA', 'AUSTRALIA', 'AUSTRALIA', 'AUSTRALIA', 'AUSTRALIA', 'AUSTRALIA', 'AUSTRALIA', 'AUSTRALIA', 'AUSTRALIA', 'AUSTRALIA', 'AUSTRALIA', 'AUSTRALIA', 'AUSTRALIA', 'AUSTRALIA', 'AUSTRALIA', 'AUSTRALIA', 'AUSTRALIA', 'AUSTRALIA', 'AUSTRALIA', 'AUSTRALIA', 'AUSTRALIA', 'AUSTRALIA', 'AUSTRALIA', 'AUSTRALIA', 'AUSTRALIA', 'AUSTRALIA', 'AUSTRALIA', 'AUSTRALIA', 'AUSTRALIA', 'AUSTRALIA', 'AUSTRALIA', 'AUSTRALIA', 'AUSTRALIA', 'AUSTRALIA', 'AUSTRALIA', 'AUSTRALIA', 'AUSTRALIA', 'AUSTRALIA', 'AUSTRALIA', 'AUSTRALIA', 'AUSTRALIA', 'AUSTRALIA', 'AUSTRALIA', 'AUSTRALIA', 'AUSTRALIA', 'AUSTRALIA', 'AUSTRALIA', 'AUSTRALIA', 'AUSTRALIA', 'AUSTRALIA', 'AUSTRALIA', 'AUSTRALIA', 'AUSTRALIA', 'AUSTRALIA', 'AUSTRALIA', 'AUSTRALIA', 'AUSTRALIA', 'AUSTRALIA', 'AUSTRALIA', 'AUSTRALIA', 'AUSTRALIA', 'AUSTRALIA', 'AUSTRALIA', 'AUSTRALIA', 'AUSTRALIA', 'AUSTRALIA', 'AUSTRALIA', 'AUSTRALIA', 'AUSTRALIA', 'AUSTRALIA', 'AUSTRALIA', 'AUSTRALIA', 'AUSTRALIA', 'AUSTRALIA', 'AUSTRALIA', 'AUSTRALIA', 'AUSTRALIA', 'AUSTRALIA', 'AUSTRALIA', 'AUSTRALIA', 'AUSTRALIA', 'AUSTRALIA', 'AUSTRALIA', 'AUSTRALIA', 'AUSTRALIA', 'AUSTRALIA', 'AUSTRALIA', 'AUSTRALIA', 'AUSTRALIA', 'AUSTRALIA', 'AUSTRALIA', 'AUSTRALIA', 'AUSTRALIA', 'AUSTRALIA', 'AUSTRALIA', 'AUSTRALIA', 'AUSTRALIA', 'AUSTRALIA', 'AUSTRALIA', 'AUSTRALIA', 'AUSTRALIA', 'AUSTRALIA', 'AUSTRALIA', 'AUSTRALIA', 'AUSTRALIA', 'AUSTRALIA', 'AUSTRALIA', 'AUSTRALIA', 'AUSTRALIA', 'AUSTRALIA', 'AUSTRALIA', 'AUSTRALIA', 'AUSTRALIA', 'AUSTRALIA', 'AUSTRALIA', 'AUSTRALIA', 'AUSTRALIA', 'AUSTRALIA', 'AUSTRALIA', 'AUSTRALIA', 'AUSTRALIA', 'AUSTRALIA', 'AUSTRALIA', 'AUSTRALIA', 'AUSTRALIA', 'AUSTRALIA', 'AUSTRALIA', 'AUSTRALIA', 'AUSTRALIA', 'AUSTRALIA', 'AUSTRALIA', 'AUSTRALIA', 'AUSTRALIA', 'AUSTRALIA', 'AUSTRALIA', 'AUSTRALIA', 'AUSTRALIA', 'AUSTRALIA', 'AUSTRALIA', 'AUSTRALIA', 'AUSTRALIA', 'AUSTRALIA', 'AUSTRALIA', 'AUSTRALIA', 'AUSTRALIA', 'AUSTRALIA', 'AUSTRALIA', 'AUSTRALIA', 'AUSTRALIA', 'AUSTRALIA', 'AUSTRALIA', 'AUSTRALIA', 'AUSTRALIA', 'AUSTRALIA', 'AUSTRALIA', 'AUSTRALIA', 'AUSTRALIA', 'AUSTRALIA', 'AUSTRALIA', 'AUSTRALIA', 'AUSTRALIA', 'AUSTRALIA', 'AUSTRALIA', 'AUSTRALIA', 'AUSTRALIA', 'AUSTRALIA', 'AUSTRALIA', 'AUSTRALIA', 'AUSTRALIA', 'AUSTRALIA', 'AUSTRALIA', 'AUSTRALIA', 'AUSTRALIA', 'AUSTRALIA', 'AUSTRALIA', 'AUSTRALIA', 'AUSTRALIA', 'AUSTRALIA', 'AUSTRALIA', 'AUSTRALIA', 'AUSTRALIA', 'AUSTRALIA', 'AUSTRALIA', 'AUSTRALIA', 'AUSTRALIA', 'AUSTRALIA', 'AUSTRALIA', 'AUSTRALIA', 'AUSTRALIA', 'AUSTRALIA', 'AUSTRALIA', 'AUSTRALIA', 'AUSTRALIA', 'AUSTRALIA', 'AUSTRALIA', 'AUSTRALIA', 'AUSTRALIA', 'AUSTRALIA', 'AUSTRALIA', 'AUSTRALIA', 'AUSTRALIA', 'AUSTRALIA', 'AUSTRALIA', 'AUSTRALIA', 'AUSTRALIA', 'AUSTRALIA', 'AUSTRALIA', 'AUSTRALIA', 'AUSTRALIA', 'AUSTRALIA', 'AUSTRALIA', 'AUSTRALIA', 'AUSTRALIA', 'AUSTRALIA', 'AUSTRALIA', 'AUSTRALIA', 'AUSTRALIA', 'AUSTRALIA', 'AUSTRALIA', 'AUSTRALIA', 'AUSTRALIA', 'AUSTRALIA', 'AUSTRALIA', 'AUSTRALIA', 'AUSTRALIA', 'AUSTRALIA', 'AUSTRALIA', 'AUSTRALIA', 'AUSTRALIA', 'AUSTRALIA', 'AUSTRALIA', 'AUSTRALIA', 'AUSTRALIA', 'AUSTRALIA', 'AUSTRALIA', 'AUSTRALIA', 'AUSTRALIA', 'AUSTRALIA', 'AUSTRALIA', 'AUSTRALIA', 'AUSTRALIA', 'AUSTRALIA', 'AUSTRALIA', 'AUSTRALIA', 'AUSTRALIA', 'AUSTRALIA', 'AUSTRALIA', 'AUSTRALIA', 'AUSTRALIA', 'AUSTRALIA', 'AUSTRALIA', 'AUSTRALIA', 'AUSTRALIA', 'AUSTRALIA', 'AUSTRALIA', 'AUSTRALIA', 'AUSTRALIA', 'AUSTRALIA', 'AUSTRALIA', 'AUSTRALIA', 'AUSTRALIA', 'AUSTRALIA', 'AUSTRALIA', 'AUSTRALIA', 'AUSTRALIA', 'AUSTRALIA', 'AUSTRALIA', 'AUSTRALIA', 'AUSTRALIA', 'AUSTRALIA', 'AUSTRALIA', 'AUSTRALIA', 'AUSTRALIA', 'AUSTRALIA', 'AUSTRALIA', 'AUSTRALIA', 'AUSTRALIA', 'AUSTRALIA', 'AUSTRALIA', 'AUSTRALIA', 'AUSTRALIA', 'AUSTRALIA', 'AUSTRALIA', 'AUSTRALIA', 'AUSTRALIA', 'AUSTRALIA', 'AUSTRALIA', 'AUSTRALIA', 'AUSTRALIA', 'AUSTRALIA', 'AUSTRALIA', 'AUSTRALIA', 'AUSTRALIA', 'AUSTRALIA', 'AUSTRALIA', 'AUSTRALIA', 'AUSTRALIA', 'AUSTRALIA', 'AUSTRALIA', 'AUSTRALIA', 'AUSTRALIA', 'AUSTRALIA', 'AUSTRALIA', 'AUSTRALIA', 'AUSTRALIA', 'AUSTRALIA', 'AUSTRALIA', 'AUSTRALIA', 'AUSTRALIA', 'AUSTRALIA', 'AUSTRALIA', 'AUSTRALIA', 'AUSTRALIA', 'AUSTRALIA', 'AUSTRALIA', 'AUSTRALIA', 'AUSTRALIA', 'AUSTRALIA', 'AUSTRALIA', 'AUSTRALIA', 'AUSTRALIA', 'AUSTRALIA', 'AUSTRALIA', 'AUSTRALIA', 'AUSTRALIA', 'AUSTRALIA', 'AUSTRALIA', 'AUSTRALIA', 'AUSTRALIA', 'AUSTRALIA', 'AUSTRALIA', 'AUSTRALIA', 'AUSTRALIA', 'AUSTRALIA', 'AUSTRALIA', 'AUSTRALIA', 'AUSTRALIA', 'AUSTRALIA', 'AUSTRALIA', 'AUSTRALIA', 'AUSTRALIA', 'AUSTRALIA', 'AUSTRALIA', 'AUSTRALIA', 'AUSTRALIA', 'AUSTRALIA', 'AUSTRALIA', 'AUSTRALIA', 'AUSTRALIA', 'AUSTRALIA', 'AUSTRALIA', 'AUSTRALIA', 'AUSTRALIA', 'AUSTRALIA', 'AUSTRALIA', 'AUSTRALIA', 'AUSTRALIA', 'AUSTRALIA', 'AUSTRALIA', 'AUSTRALIA', 'AUSTRALIA', 'AUSTRALIA', 'AUSTRALIA', 'AUSTRALIA', 'AUSTRALIA', 'AUSTRALIA', 'AUSTRALIA', 'AUSTRALIA', 'AUSTRALIA', 'AUSTRALIA', 'AUSTRALIA', 'AUSTRALIA', 'AUSTRALIA', 'AUSTRALIA', 'AUSTRALIA', 'AUSTRALIA', 'AUSTRALIA', 'AUSTRALIA', 'AUSTRALIA', 'AUSTRALIA', 'AUSTRALIA', 'AUSTRALIA', 'AUSTRALIA', 'AUSTRALIA', 'AUSTRALIA', 'AUSTRALIA', 'AUSTRALIA', 'AUSTRALIA', 'AUSTRALIA', 'AUSTRALIA', 'AUSTRALIA', 'AUSTRALIA', 'AUSTRALIA', 'AUSTRALIA', 'AUSTRALIA', 'AUSTRALIA', 'AUSTRALIA', 'AUSTRALIA', 'AUSTRALIA', 'AUSTRALIA', 'AUSTRALIA', 'AUSTRALIA', 'AUSTRALIA', 'AUSTRALIA', 'AUSTRALIA', 'AUSTRALIA', 'AUSTRALIA', 'AUSTRALIA', 'AUSTRALIA', 'AUSTRALIA', 'AUSTRALIA', 'AUSTRALIA', 'AUSTRALIA', 'AUSTRALIA', 'AUSTRALIA', 'AUSTRALIA', 'AUSTRALIA', 'AUSTRALIA', 'AUSTRALIA', 'AUSTRALIA', 'AUSTRALIA', 'AUSTRALIA', 'AUSTRALIA', 'AUSTRALIA', 'AUSTRALIA', 'AUSTRALIA', 'AUSTRALIA', 'AUSTRALIA', 'AUSTRALIA', 'AUSTRALIA', 'AUSTRALIA', 'AUSTRALIA', 'AUSTRALIA', 'AUSTRALIA', 'AUSTRALIA', 'AUSTRALIA', 'AUSTRALIA', 'AUSTRALIA', 'AUSTRALIA', 'AUSTRALIA', 'AUSTRALIA', 'AUSTRALIA', 'AUSTRALIA', 'AUSTRALIA', 'AUSTRALIA', 'AUSTRALIA', 'AUSTRALIA', 'AUSTRALIA', 'AUSTRALIA', 'AUSTRALIA', 'AUSTRALIA', 'AUSTRALIA', 'AUSTRALIA', 'AUSTRALIA', 'AUSTRALIA', 'AUSTRALIA', 'AUSTRALIA', 'AUSTRALIA', 'AUSTRALIA', 'AUSTRALIA', 'AUSTRALIA', 'AUSTRALIA', 'AUSTRALIA', 'AUSTRALIA', 'AUSTRALIA', 'AUSTRALIA', 'AUSTRALIA', 'AUSTRALIA', 'AUSTRALIA', 'AUSTRALIA', 'AUSTRALIA', 'AUSTRALIA', 'AUSTRALIA', 'AUSTRALIA', 'AUSTRALIA', 'AUSTRALIA', 'AUSTRALIA', 'AUSTRALIA', 'AUSTRALIA', 'AUSTRALIA', 'AUSTRALIA', 'AUSTRALIA', 'AUSTRALIA', 'AUSTRALIA', 'AUSTRALIA', 'AUSTRALIA', 'AUSTRALIA', 'AUSTRALIA', 'AUSTRALIA', 'AUSTRALIA', 'AUSTRALIA', 'AUSTRALIA', 'AUSTRALIA', 'AUSTRALIA', 'AUSTRALIA', 'AUSTRALIA', 'AUSTRALIA', 'AUSTRALIA', 'AUSTRALIA', 'AUSTRALIA', 'AUSTRALIA', 'AUSTRALIA', 'AUSTRALIA', 'AUSTRALIA', 'AUSTRALIA', 'AUSTRALIA', 'AUSTRALIA', 'AUSTRALIA', 'AUSTRALIA', 'AUSTRALIA', 'AUSTRALIA', 'AUSTRALIA', 'AUSTRALIA', 'AUSTRALIA', 'AUSTRALIA', 'AUSTRALIA', 'AUSTRALIA', 'AUSTRALIA', 'AUSTRALIA', 'AUSTRALIA', 'AUSTRALIA', 'AUSTRALIA', 'AUSTRALIA', 'AUSTRALIA', 'AUSTRALIA', 'AUSTRALIA', 'AUSTRALIA', 'AUSTRALIA', 'AUSTRALIA', 'AUSTRALIA', 'AUSTRALIA', 'AUSTRALIA', 'AUSTRALIA', 'AUSTRALIA', 'AUSTRALIA', 'AUSTRALIA', 'AUSTRALIA', 'AUSTRALIA', 'AUSTRALIA', 'AUSTRALIA', 'AUSTRALIA', 'AUSTRALIA', 'AUSTRALIA', 'AUSTRALIA', 'AUSTRALIA', 'AUSTRALIA', 'AUSTRALIA', 'AUSTRALIA', 'AUSTRALIA', 'AUSTRALIA', 'AUSTRALIA', 'AUSTRALIA', 'AUSTRALIA', 'AUSTRALIA', 'AUSTRALIA', 'AUSTRALIA', 'AUSTRALIA', 'AUSTRALIA', 'AUSTRALIA', 'AUSTRALIA', 'AUSTRALIA', 'AUSTRALIA', 'AUSTRALIA', 'AUSTRALIA', 'AUSTRALIA', 'AUSTRALIA', 'AUSTRALIA', 'AUSTRALIA', 'AUSTRALIA', 'AUSTRALIA', 'AUSTRALIA', 'AUSTRALIA', 'AUSTRALIA', 'AUSTRALIA', 'AUSTRALIA', 'AUSTRALIA', 'AUSTRALIA', 'AUSTRALIA', 'AUSTRALIA', 'AUSTRALIA', 'AUSTRALIA', 'AUSTRALIA', 'AUSTRALIA', 'AUSTRALIA', 'AUSTRALIA', 'AUSTRALIA', 'AUSTRALIA', 'AUSTRALIA', 'AUSTRALIA', 'AUSTRALIA', 'AUSTRALIA', 'AUSTRALIA', 'AUSTRALIA', 'AUSTRALIA', 'AUSTRALIA', 'AUSTRALIA', 'AUSTRALIA', 'AUSTRALIA', 'AUSTRALIA', 'AUSTRALIA', 'AUSTRALIA', 'AUSTRALIA', 'AUSTRALIA', 'AUSTRALIA', 'AUSTRALIA', 'AUSTRALIA', 'AUSTRALIA', 'AUSTRALIA', 'AUSTRALIA', 'AUSTRALIA', 'AUSTRALIA', 'AUSTRALIA', 'AUSTRALIA', 'AUSTRALIA', 'AUSTRALIA', 'AUSTRALIA', 'AUSTRALIA', 'AUSTRALIA', 'AUSTRALIA', 'AUSTRALIA', 'AUSTRALIA', 'AUSTRALIA', 'AUSTRALIA', 'AUSTRALIA', 'AUSTRALIA', 'AUSTRALIA', 'AUSTRALIA', 'AUSTRALIA', 'AUSTRALIA', 'AUSTRALIA', 'AUSTRALIA', 'AUSTRALIA', 'AUSTRALIA', 'AUSTRALIA', 'AUSTRALIA', 'AUSTRALIA', 'AUSTRALIA', 'AUSTRALIA', 'AUSTRALIA', 'AUSTRALIA', 'AUSTRALIA', 'AUSTRALIA', 'AUSTRALIA', 'AUSTRALIA', 'AUSTRALIA', 'AUSTRALIA', 'AUSTRALIA', 'AUSTRALIA', 'AUSTRALIA', 'AUSTRALIA', 'AUSTRALIA', 'AUSTRALIA', 'AUSTRALIA', 'AUSTRALIA', 'AUSTRALIA', 'AUSTRALIA', 'AUSTRALIA', 'AUSTRALIA', 'AUSTRALIA', 'AUSTRALIA', 'AUSTRALIA', 'AUSTRALIA', 'AUSTRALIA', 'AUSTRALIA', 'AUSTRALIA', 'AUSTRALIA', 'AUSTRALIA', 'AUSTRALIA', 'AUSTRALIA', 'AUSTRALIA', 'AUSTRALIA', 'AUSTRALIA', 'AUSTRALIA', 'AUSTRALIA', 'AUSTRALIA', 'AUSTRALIA', 'AUSTRALIA', 'AUSTRALIA', 'AUSTRALIA', 'AUSTRALIA', 'AUSTRALIA', 'AUSTRALIA', 'AUSTRALIA', 'AUSTRALIA', 'AUSTRALIA', 'AUSTRALIA', 'AUSTRALIA', 'AUSTRALIA', 'AUSTRALIA', 'AUSTRALIA', 'AUSTRALIA', 'AUSTRALIA', 'AUSTRALIA', 'AUSTRALIA', 'AUSTRALIA', 'AUSTRALIA', 'AUSTRALIA', 'AUSTRALIA', 'AUSTRALIA', 'AUSTRALIA', 'AUSTRALIA', 'AUSTRALIA', 'AUSTRALIA', 'AUSTRALIA', 'AUSTRALIA', 'AUSTRALIA', 'AUSTRALIA', 'AUSTRALIA', 'AUSTRALIA', 'AUSTRALIA', 'AUSTRALIA', 'AUSTRALIA', 'AUSTRALIA', 'AUSTRALIA', 'AUSTRALIA', 'AUSTRALIA', 'AUSTRALIA', 'AUSTRALIA', 'AUSTRALIA', 'AUSTRALIA', 'AUSTRALIA', 'AUSTRALIA', 'AUSTRALIA', 'AUSTRALIA', 'AUSTRALIA', 'AUSTRALIA', 'AUSTRALIA', 'AUSTRALIA', 'AUSTRALIA', 'AUSTRALIA', 'AUSTRALIA', 'AUSTRALIA', 'AUSTRALIA', 'AUSTRALIA', 'AUSTRALIA', 'AUSTRALIA', 'AUSTRALIA', 'AUSTRALIA', 'AUSTRALIA', 'AUSTRALIA', 'AUSTRALIA', 'AUSTRALIA', 'AUSTRALIA', 'AUSTRALIA', 'AUSTRALIA', 'AUSTRALIA', 'AUSTRALIA', 'AUSTRALIA', 'AUSTRALIA', 'AUSTRALIA', 'AUSTRALIA', 'AUSTRALIA', 'AUSTRALIA', 'AUSTRALIA', 'AUSTRALIA', 'AUSTRALIA', 'AUSTRALIA', 'AUSTRALIA', 'AUSTRALIA', 'AUSTRALIA', 'AUSTRALIA', 'AUSTRALIA', 'AUSTRALIA', 'AUSTRALIA', 'AUSTRALIA', 'AUSTRALIA', 'AUSTRALIA', 'AUSTRALIA', 'AUSTRALIA', 'AUSTRALIA', 'AUSTRALIA', 'AUSTRALIA', 'AUSTRALIA', 'AUSTRALIA', 'AUSTRALIA', 'AUSTRALIA', 'AUSTRALIA', 'AUSTRALIA', 'AUSTRALIA', 'AUSTRALIA', 'AUSTRALIA', 'AUSTRALIA', 'AUSTRALIA', 'AUSTRALIA', 'AUSTRALIA', 'AUSTRALIA', 'AUSTRALIA', 'AUSTRALIA', 'AUSTRALIA', 'AUSTRALIA', 'AUSTRALIA', 'AUSTRALIA', 'AUSTRALIA', 'AUSTRALIA', 'AUSTRALIA', 'AUSTRALIA', 'AUSTRALIA', 'AUSTRALIA', 'AUSTRALIA', 'AUSTRALIA', 'AUSTRALIA', 'AUSTRALIA', 'AUSTRALIA', 'AUSTRALIA', 'AUSTRALIA', 'AUSTRALIA', 'AUSTRALIA', 'AUSTRALIA', 'AUSTRALIA', 'AUSTRALIA', 'AUSTRALIA', 'AUSTRALIA', 'AUSTRALIA', 'AUSTRALIA', 'AUSTRALIA', 'AUSTRALIA', 'AUSTRALIA', 'AUSTRALIA', 'AUSTRALIA', 'AUSTRALIA', 'AUSTRALIA', 'AUSTRALIA', 'AUSTRALIA', 'AUSTRALIA', 'AUSTRALIA', 'AUSTRALIA', 'AUSTRALIA', 'AUSTRALIA', 'AUSTRALIA', 'AUSTRALIA', 'AUSTRALIA', 'AUSTRALIA', 'AUSTRALIA', 'AUSTRALIA', 'AUSTRALIA', 'AUSTRALIA', 'AUSTRALIA', 'AUSTRALIA', 'AUSTRALIA', 'AUSTRALIA', 'AUSTRALIA', 'AUSTRALIA', 'AUSTRALIA', 'AUSTRALIA', 'AUSTRALIA', 'AUSTRALIA', 'AUSTRALIA', 'AUSTRALIA', 'AUSTRALIA', 'AUSTRALIA', 'AUSTRALIA', 'AUSTRALIA', 'AUSTRALIA', 'AUSTRALIA', 'AUSTRALIA', 'AUSTRALIA', 'AUSTRALIA', 'AUSTRALIA', 'AUSTRALIA', 'AUSTRALIA', 'AUSTRALIA', 'AUSTRALIA', 'AUSTRALIA', 'AUSTRALIA', 'AUSTRALIA', 'AUSTRALIA', 'AUSTRALIA', 'AUSTRALIA', 'AUSTRALIA', 'AUSTRALIA', 'AUSTRALIA', 'AUSTRALIA', 'AUSTRALIA', 'AUSTRALIA', 'AUSTRALIA', 'AUSTRALIA', 'AUSTRALIA', 'AUSTRALIA', 'AUSTRALIA', 'AUSTRALIA', 'AUSTRALIA', 'AUSTRALIA', 'AUSTRALIA', 'AUSTRALIA', 'AUSTRALIA', 'AUSTRALIA', 'AUSTRALIA', 'AUSTRALIA', 'AUSTRALIA', 'AUSTRALIA', 'AUSTRALIA', 'AUSTRALIA', 'AUSTRALIA', 'AUSTRALIA', 'AUSTRALIA', 'AUSTRALIA', 'AUSTRALIA', 'AUSTRALIA', 'AUSTRALIA', 'AUSTRALIA', 'AUSTRALIA', 'AUSTRALIA', 'AUSTRALIA', 'AUSTRALIA', 'AUSTRALIA', 'AUSTRALIA', 'AUSTRALIA', 'AUSTRALIA', 'AUSTRALIA', 'AZORES', 'AZORES', 'AZORES', 'AZORES', 'AZORES', 'BAHAMAS', 'BAHAMAS', 'BAHAMAS', 'BAHAMAS', 'BAHAMAS', 'BAHAMAS', 'BAHAMAS', 'BAHAMAS', 'BAHAMAS', 'BAHAMAS', 'BAHAMAS', 'BAHAMAS', 'BAHAMAS', 'BAHAMAS', 'BAHAMAS', 'BAHAMAS', 'BAHAMAS', 'BAHAMAS', 'BAHAMAS', 'BAHAMAS', 'BAHAMAS', 'BAHAMAS', 'BAHAMAS', 'BAHAMAS', 'BAHAMAS', 'BAHAMAS', 'BAHAMAS', 'BAHAMAS', 'BAHAMAS', 'BAHAMAS', 'BAHAMAS', 'BAHAMAS', 'BAHAMAS', 'BAHAMAS', 'BAHAMAS', 'BAHAMAS', 'BAHAMAS', 'BAHAMAS', 'BAHAMAS', 'BAHAMAS', 'BAHAMAS', 'BAHAMAS', 'BAHAMAS', 'BAHAMAS', 'BAHAMAS', 'BAHAMAS', 'BAHAMAS', 'BAHAMAS', 'BAHAMAS', 'BAHAMAS', 'BAHAMAS', 'BAHAMAS', 'BAHAMAS', 'BAHAMAS', 'BAHAMAS', 'BAHAMAS', 'BAHAMAS', 'BAHAMAS', 'BAHAMAS', 'BAHAMAS', 'BAHAMAS', 'BAHAMAS', 'BAHAMAS', 'BAHAMAS', 'BAHAMAS', 'BAHAMAS', 'BAHAMAS', 'BAHAMAS', 'BAHAMAS', 'BAHAMAS', 'BAHAMAS', 'BAHAMAS', 'BAHAMAS', 'BAHAMAS', 'BAHAMAS', 'BAHAMAS', 'BAHAMAS', 'BAHAMAS', 'BAHAMAS', 'BAHAMAS', 'BAHAMAS', 'BAHAMAS', 'BAHAMAS', 'BAHAMAS', 'BAHAMAS', 'BAHAMAS', 'BAHAMAS', 'BAHAMAS', 'BAHAMAS', 'BAHAMAS', 'BAHAMAS', 'BAHAMAS', 'BAHAMAS', 'BAHAMAS', 'BAHAMAS', 'BAHAMAS', 'BAHAMAS', 'BAHAMAS', 'BAHAMAS', 'BAHAMAS', 'BAHAMAS', 'BAHAMAS', 'BAHAMAS', 'BAHAMAS', 'BAHAMAS', 'BAHAMAS', 'BAHAMAS', 'BAHAMAS', 'BAHAMAS', 'BAHREIN', 'BANGLADESH', 'BARBADOS', 'BARBADOS', 'BARBADOS', 'BARBADOS', 'BARBADOS', 'BARBADOS', 'BAY OF BENGAL', 'BELIZE', 'BELIZE', 'BELIZE', 'BERMUDA', 'BERMUDA', 'BERMUDA', 'BERMUDA', 'BERMUDA', 'BERMUDA', 'BERMUDA', 'BERMUDA', 'BERMUDA', 'BERMUDA', 'BERMUDA', 'BERMUDA', 'BERMUDA', 'BERMUDA', 'BERMUDA', 'BERMUDA', 'BETWEEN PORTUGAL & INDIA', 'BRAZIL', 'BRAZIL', 'BRAZIL', 'BRAZIL', 'BRAZIL', 'BRAZIL', 'BRAZIL', 'BRAZIL', 'BRAZIL', 'BRAZIL', 'BRAZIL', 'BRAZIL', 'BRAZIL', 'BRAZIL', 'BRAZIL', 'BRAZIL', 'BRAZIL', 'BRAZIL', 'BRAZIL', 'BRAZIL', 'BRAZIL', 'BRAZIL', 'BRAZIL', 'BRAZIL', 'BRAZIL', 'BRAZIL', 'BRAZIL', 'BRAZIL', 'BRAZIL', 'BRAZIL', 'BRAZIL', 'BRAZIL', 'BRAZIL', 'BRAZIL', 'BRAZIL', 'BRAZIL', 'BRAZIL', 'BRAZIL', 'BRAZIL', 'BRAZIL', 'BRAZIL', 'BRAZIL', 'BRAZIL', 'BRAZIL', 'BRAZIL', 'BRAZIL', 'BRAZIL', 'BRAZIL', 'BRAZIL', 'BRAZIL', 'BRAZIL', 'BRAZIL', 'BRAZIL', 'BRAZIL', 'BRAZIL', 'BRAZIL', 'BRAZIL', 'BRAZIL', 'BRAZIL', 'BRAZIL', 'BRAZIL', 'BRAZIL', 'BRAZIL', 'BRAZIL', 'BRAZIL', 'BRAZIL', 'BRAZIL', 'BRAZIL', 'BRAZIL', 'BRAZIL', 'BRAZIL', 'BRAZIL', 'BRAZIL', 'BRAZIL', 'BRAZIL', 'BRAZIL', 'BRAZIL', 'BRAZIL', 'BRAZIL', 'BRAZIL', 'BRAZIL', 'BRAZIL', 'BRAZIL', 'BRAZIL', 'BRAZIL', 'BRAZIL', 'BRAZIL', 'BRAZIL', 'BRAZIL', 'BRAZIL', 'BRAZIL', 'BRAZIL', 'BRAZIL', 'BRAZIL', 'BRAZIL', 'BRAZIL', 'BRAZIL', 'BRAZIL', 'BRAZIL', 'BRAZIL', 'BRAZIL', 'BRAZIL', 'BRAZIL', 'BRAZIL', 'BRAZIL', 'BRAZIL', 'BRAZIL', 'BRAZIL', 'BRAZIL', 'BRAZIL', 'BRAZIL', 'BRAZIL', 'BRITISH ISLES', 'BRITISH NEW GUINEA', 'BRITISH VIRGIN ISLANDS', 'BRITISH WEST INDIES', 'BURMA', 'BURMA', 'BURMA', 'BURMA', 'CANADA', 'CANADA', 'CANADA', 'CANADA', 'CANADA', 'CANADA', 'CANADA', 'CANADA', 'CANADA', 'CANADA', 'CANADA', 'CANADA', 'CAPE VERDE', 'CAPE VERDE', 'CAPE VERDE', 'CARIBBEAN SEA', 'CARIBBEAN SEA', 'CARIBBEAN SEA', 'CARIBBEAN SEA', 'CARIBBEAN SEA', 'CARIBBEAN SEA', 'CARIBBEAN SEA', 'CARIBBEAN SEA', 'CAYMAN ISLANDS', 'CAYMAN ISLANDS', 'CENTRAL PACIFIC', 'CENTRAL PACIFIC', 'CEYLON', 'CEYLON', 'CEYLON', 'CEYLON (SRI LANKA)', 'CHILE', 'CHILE', 'CHILE', 'CHILE', 'CHILE', 'CHILE', 'CHILE', 'CHILE', 'CHINA', 'CHINA', 'CHINA', 'CHINA', 'CHINA', 'CHINA', 'CHINA', 'COAST OF AFRICA', 'COLUMBIA', 'COLUMBIA', 'COLUMBIA', 'COLUMBIA', 'COLUMBIA', 'COLUMBIA', 'COLUMBIA', 'COLUMBIA', 'COLUMBIA', 'COMOROS', 'COOK ISLANDS', 'COSTA RICA', 'COSTA RICA', 'COSTA RICA', 'COSTA RICA', 'COSTA RICA', 'COSTA RICA', 'COSTA RICA', 'COSTA RICA', 'COSTA RICA', 'COSTA RICA', 'COSTA RICA', 'COSTA RICA', 'COSTA RICA', 'COSTA RICA', 'COSTA RICA', 'COSTA RICA', 'COSTA RICA', 'CRETE', 'CRETE', 'CROATIA', 'CROATIA', 'CROATIA', 'CROATIA', 'CROATIA', 'CROATIA', 'CROATIA', 'CROATIA', 'CROATIA', 'CROATIA', 'CROATIA', 'CROATIA', 'CROATIA', 'CROATIA', 'CROATIA', 'CROATIA', 'CROATIA', 'CROATIA', 'CROATIA', 'CROATIA', 'CROATIA', 'CROATIA', 'CROATIA', 'CROATIA', 'CROATIA', 'CROATIA', 'CROATIA', 'CROATIA', 'CROATIA', 'CROATIA', 'CROATIA', 'CROATIA', 'CROATIA', 'CROATIA', 'CUBA', 'CUBA', 'CUBA', 'CUBA', 'CUBA', 'CUBA', 'CUBA', 'CUBA', 'CUBA', 'CUBA', 'CUBA', 'CUBA', 'CUBA', 'CUBA', 'CUBA', 'CUBA', 'CUBA', 'CUBA', 'CUBA', 'CUBA', 'CUBA', 'CUBA', 'CUBA', 'CUBA', 'CUBA', 'CUBA', 'CUBA', 'CUBA', 'CUBA', 'CUBA', 'CUBA', 'CUBA', 'CUBA', 'CUBA', 'CUBA', 'CUBA', 'CUBA', 'CUBA', 'CUBA', 'CUBA', 'CUBA', 'CUBA', 'CUBA', 'CUBA', 'CUBA', 'CUBA', 'CURACAO', 'CYPRUS', 'DIEGO GARCIA', 'DJIBOUTI', 'DOMINICAN REPUBLIC', 'DOMINICAN REPUBLIC', 'DOMINICAN REPUBLIC', 'DOMINICAN REPUBLIC', 'DOMINICAN REPUBLIC', 'DOMINICAN REPUBLIC', 'DOMINICAN REPUBLIC', 'ECUADOR', 'ECUADOR', 'ECUADOR', 'ECUADOR', 'ECUADOR', 'ECUADOR', 'ECUADOR', 'ECUADOR', 'ECUADOR', 'EGYPT', 'EGYPT', 'EGYPT', 'EGYPT', 'EGYPT', 'EGYPT', 'EGYPT', 'EGYPT', 'EGYPT', 'EGYPT', 'EGYPT', 'EGYPT', 'EGYPT', 'EGYPT', 'EGYPT', 'EGYPT', 'EGYPT', 'EGYPT', 'EGYPT', 'EGYPT', 'EGYPT', 'EGYPT', 'EGYPT', 'EGYPT', 'EGYPT', 'EGYPT', 'EGYPT', 'EGYPT', 'EGYPT', 'EGYPT', 'EGYPT', 'EGYPT', 'EGYPT', 'EGYPT', 'EGYPT', 'EGYPT', 'EGYPT', 'EGYPT', 'EGYPT', 'EGYPT', 'EGYPT / ISRAEL', 'EL SALVADOR', 'EL SALVADOR', 'EL SALVADOR', 'EL SALVADOR', 'ENGLAND', 'ENGLAND', 'ENGLAND', 'ENGLAND', 'ENGLAND', 'ENGLAND', 'ENGLAND', 'ENGLAND', 'ENGLAND', 'ENGLAND', 'ENGLAND', 'ENGLAND', 'ENGLAND', 'ENGLAND', 'ENGLAND', 'ENGLAND', 'ENGLAND', 'ENGLAND', 'ENGLAND', 'ENGLAND', 'ENGLAND', 'ENGLAND', 'ENGLAND', 'EQUATORIAL GUINEA / CAMEROON', 'FALKLAND ISLANDS', 'FEDERATED STATES OF MICRONESIA', 'FIJI', 'FIJI', 'FIJI', 'FIJI', 'FIJI', 'FIJI', 'FIJI', 'FIJI', 'FIJI', 'FIJI', 'FIJI', 'FIJI', 'FIJI', 'FIJI', 'FIJI', 'FIJI', 'FIJI', 'FIJI', 'FIJI', 'FIJI', 'FIJI', 'FIJI', 'FIJI', 'FIJI', 'FIJI', 'FIJI', 'FIJI', 'FIJI', 'FIJI', 'FIJI', 'FIJI', 'FIJI', 'FIJI', 'FIJI', 'FIJI', 'FIJI', 'FIJI', 'FIJI', 'FIJI', 'FIJI', 'FIJI', 'FIJI', 'FIJI', 'FIJI', 'FIJI', 'FIJI', 'FIJI', 'FIJI', 'FIJI', 'FIJI', 'FIJI', 'FIJI', 'FIJI', 'FIJI', 'FIJI', 'FIJI', 'FIJI', 'FIJI', 'FIJI', 'FIJI', 'FIJI', 'FIJI', 'FIJI', 'FIJI', 'FIJI', 'FRANCE', 'FRANCE', 'FRANCE', 'FRANCE', 'FRANCE', 'FRANCE', 'FRANCE', 'FRANCE', 'FRANCE', 'FRANCE', 'FRANCE', 'FRANCE', 'FRANCE', 'FRENCH POLYNESIA', 'FRENCH POLYNESIA', 'FRENCH POLYNESIA', 'FRENCH POLYNESIA', 'FRENCH POLYNESIA', 'FRENCH POLYNESIA', 'FRENCH POLYNESIA', 'FRENCH POLYNESIA', 'FRENCH POLYNESIA', 'FRENCH POLYNESIA', 'FRENCH POLYNESIA', 'FRENCH POLYNESIA', 'FRENCH POLYNESIA', 'FRENCH POLYNESIA', 'FRENCH POLYNESIA', 'FRENCH POLYNESIA', 'FRENCH POLYNESIA', 'FRENCH POLYNESIA', 'FRENCH POLYNESIA', 'FRENCH POLYNESIA', 'FRENCH POLYNESIA', 'FRENCH POLYNESIA', 'FRENCH POLYNESIA', 'FRENCH POLYNESIA', 'FRENCH POLYNESIA', 'GABON', 'GEORGIA', 'GHANA', 'GRAND CAYMAN', 'GREECE', 'GREECE', 'GREECE', 'GREECE', 'GREECE', 'GREECE', 'GREECE', 'GREECE', 'GREECE', 'GREECE', 'GREECE', 'GREECE', 'GREECE', 'GREECE', 'GREECE', 'GREECE', 'GREECE', 'GREECE', 'GREECE', 'GREECE', 'GREECE', 'GREECE', 'GREECE', 'GREECE', 'GREECE', 'GREENLAND', 'GRENADA', 'GRENADA', 'GRENADA', 'GRENADA', 'GUAM', 'GUAM', 'GUAM', 'GUAM', 'GUATEMALA', 'GUINEA', 'GUINEA', 'GUINEA', 'GULF OF ADEN', 'GUYANA', 'GUYANA', 'GUYANA', 'HAITI', 'HAITI', 'HAITI', 'HONDURAS', 'HONDURAS', 'HONDURAS', 'HONDURAS', 'HONG KONG', 'HONG KONG', 'HONG KONG', 'HONG KONG', 'HONG KONG', 'HONG KONG', 'HONG KONG', 'HONG KONG', 'HONG KONG', 'HONG KONG', 'HONG KONG', 'HONG KONG', 'HONG KONG', 'HONG KONG', 'HONG KONG', 'HONG KONG', 'HONG KONG', 'HONG KONG', 'HONG KONG', 'HONG KONG', 'HONG KONG', 'HONG KONG', 'HONG KONG', 'HONG KONG', 'ICELAND', 'ICELAND', 'INDIA', 'INDIA', 'INDIA', 'INDIA', 'INDIA', 'INDIA', 'INDIA', 'INDIA', 'INDIA', 'INDIA', 'INDIA', 'INDIA', 'INDIA', 'INDIA', 'INDIA', 'INDIA', 'INDIA', 'INDIA', 'INDIA', 'INDIA', 'INDIA', 'INDIA', 'INDIA', 'INDIA', 'INDIA', 'INDIA', 'INDIA', 'INDIA', 'INDIA', 'INDIA', 'INDIA', 'INDIA', 'INDIA', 'INDIA', 'INDIA', 'INDIA', 'INDIA', 'INDIA', 'INDIA', 'INDIA', 'INDIAN OCEAN', 'INDIAN OCEAN', 'INDIAN OCEAN', 'INDIAN OCEAN', 'INDIAN OCEAN', 'INDIAN OCEAN', 'INDIAN OCEAN', 'INDIAN OCEAN?', 'INDONESIA', 'INDONESIA', 'INDONESIA', 'INDONESIA', 'INDONESIA', 'INDONESIA', 'INDONESIA', 'INDONESIA', 'INDONESIA', 'INDONESIA', 'INDONESIA', 'INDONESIA', 'INDONESIA', 'INDONESIA', 'INDONESIA', 'INDONESIA', 'INDONESIA', 'INDONESIA', 'INDONESIA', 'INDONESIA', 'INDONESIA', 'INDONESIA', 'INDONESIA', 'IRAN', 'IRAN', 'IRAN', 'IRAN', 'IRAN', 'IRAN', 'IRAN', 'IRAN', 'IRAN', 'IRAN', 'IRAN', 'IRAN', 'IRAN', 'IRAN', 'IRAN', 'IRAN', 'IRAN', 'IRAN', 'IRAN', 'IRAN', 'IRAN', 'IRAN', 'IRAN', 'IRAN', 'IRAN', 'IRAN', 'IRAN', 'IRAN', 'IRAN', 'IRAN / IRAQ', 'IRAQ', 'IRAQ', 'IRAQ', 'IRAQ', 'IRAQ', 'IRAQ', 'IRAQ', 'IRAQ', 'IRAQ', 'IRAQ', 'IRAQ', 'IRAQ', 'IRELAND', 'ISRAEL', 'ISRAEL', 'ISRAEL', 'ISRAEL', 'ISRAEL', 'ISRAEL', 'ISRAEL', 'ITALY', 'ITALY', 'ITALY', 'ITALY', 'ITALY', 'ITALY', 'ITALY', 'ITALY', 'ITALY', 'ITALY', 'ITALY', 'ITALY', 'ITALY', 'ITALY', 'ITALY', 'ITALY', 'ITALY', 'ITALY', 'ITALY', 'ITALY', 'ITALY', 'ITALY', 'ITALY', 'ITALY', 'ITALY', 'ITALY', 'ITALY', 'ITALY', 'ITALY', 'ITALY', 'ITALY', 'ITALY', 'ITALY', 'ITALY', 'ITALY', 'ITALY', 'ITALY', 'ITALY', 'ITALY', 'ITALY', 'ITALY', 'ITALY', 'ITALY', 'ITALY', 'ITALY', 'ITALY', 'ITALY', 'ITALY', 'ITALY', 'ITALY', 'ITALY', 'ITALY', 'ITALY', 'ITALY', 'ITALY', 'ITALY', 'ITALY', 'ITALY', 'ITALY', 'ITALY', 'ITALY', 'ITALY', 'ITALY', 'ITALY', 'ITALY', 'ITALY', 'ITALY', 'ITALY', 'ITALY', 'ITALY', 'ITALY', 'ITALY / CROATIA', 'JAMAICA', 'JAMAICA', 'JAMAICA', 'JAMAICA', 'JAMAICA', 'JAMAICA', 'JAMAICA', 'JAMAICA', 'JAMAICA', 'JAMAICA', 'JAMAICA', 'JAMAICA', 'JAMAICA', 'JAMAICA', 'JAMAICA', 'JAMAICA', 'JAMAICA', 'JAMAICA', 'JAMAICA', 'JAMAICA', 'JAMAICA', 'JAMAICA', 'JAMAICA', 'JAMAICA', 'JAMAICA', 'JAMAICA', 'JAMAICA', 'JAPAN', 'JAPAN', 'JAPAN', 'JAPAN', 'JAPAN', 'JAPAN', 'JAPAN', 'JAPAN', 'JAPAN', 'JAPAN', 'JAPAN', 'JAPAN', 'JAPAN', 'JAPAN', 'JAPAN', 'JAPAN', 'JAPAN', 'JAPAN', 'JAPAN', 'JAPAN', 'JAPAN', 'JAPAN', 'JAPAN', 'JAPAN', 'JAPAN', 'JAPAN', 'JAPAN', 'JAPAN', 'JAPAN', 'JAPAN', 'JAPAN', 'JAPAN', 'JAPAN', 'JAPAN', 'JAVA', 'JOHNSTON ISLAND', 'JOHNSTON ISLAND', 'KENYA', 'KENYA', 'KENYA', 'KENYA', 'KENYA', 'KENYA', 'KENYA', 'KENYA', 'KENYA', 'KENYA', 'KIRIBATI', 'KIRIBATI', 'KIRIBATI', 'KIRIBATI', 'KIRIBATI', 'KIRIBATI', 'KOREA', 'KUWAIT', 'LEBANON', 'LEBANON', 'LEBANON', 'LIBERIA', 'LIBERIA', 'LIBERIA', 'LIBYA', 'LIBYA', 'LIBYA', 'LIBYA', 'LIBYA', 'LIBYA', 'MADAGASCAR', 'MADAGASCAR', 'MADAGASCAR', 'MADAGASCAR', 'MADAGASCAR', 'MADAGASCAR', 'MADAGASCAR', 'MADAGASCAR', 'MALAYSIA', 'MALAYSIA', 'MALAYSIA', 'MALAYSIA', 'MALAYSIA', 'MALDIVE ISLANDS', 'MALDIVES', 'MALTA', 'MALTA', 'MALTA', 'MALTA', 'MALTA', 'MARSHALL ISLANDS', 'MARSHALL ISLANDS', 'MARSHALL ISLANDS', 'MARSHALL ISLANDS', 'MARSHALL ISLANDS', 'MARSHALL ISLANDS', 'MARSHALL ISLANDS', 'MARSHALL ISLANDS', 'MARSHALL ISLANDS', 'MARSHALL ISLANDS', 'MARSHALL ISLANDS', 'MARSHALL ISLANDS', 'MARSHALL ISLANDS', 'MARTINIQUE', 'MARTINIQUE', 'MARTINIQUE', 'MAURITIUS', 'MAURITIUS', 'MAURITIUS', 'MAURITIUS', 'MAURITIUS', 'MAURITIUS', 'MAURITIUS', 'MAURITIUS', 'MAURITIUS', 'MAURITIUS', 'MAYOTTE', 'MEDITERRANEAN SEA', 'MEDITERRANEAN SEA', 'MEXICO', 'MEXICO', 'MEXICO', 'MEXICO', 'MEXICO', 'MEXICO', 'MEXICO', 'MEXICO', 'MEXICO', 'MEXICO', 'MEXICO', 'MEXICO', 'MEXICO', 'MEXICO', 'MEXICO', 'MEXICO', 'MEXICO', 'MEXICO', 'MEXICO', 'MEXICO', 'MEXICO', 'MEXICO', 'MEXICO', 'MEXICO', 'MEXICO', 'MEXICO', 'MEXICO', 'MEXICO', 'MEXICO', 'MEXICO', 'MEXICO', 'MEXICO', 'MEXICO', 'MEXICO', 'MEXICO', 'MEXICO', 'MEXICO', 'MEXICO', 'MEXICO', 'MEXICO', 'MEXICO', 'MEXICO', 'MEXICO', 'MEXICO', 'MEXICO', 'MEXICO', 'MEXICO', 'MEXICO', 'MEXICO', 'MEXICO', 'MEXICO', 'MEXICO', 'MEXICO', 'MEXICO', 'MEXICO', 'MEXICO', 'MEXICO', 'MEXICO', 'MEXICO', 'MEXICO', 'MEXICO', 'MEXICO', 'MEXICO', 'MEXICO', 'MEXICO', 'MEXICO', 'MEXICO', 'MEXICO', 'MEXICO', 'MEXICO', 'MEXICO', 'MEXICO', 'MEXICO', 'MEXICO', 'MEXICO', 'MEXICO', 'MEXICO', 'MEXICO', 'MEXICO', 'MEXICO', 'MEXICO', 'MEXICO', 'MEXICO', 'MEXICO', 'MEXICO', 'MEXICO', 'MEXICO', 'MEXICO', 'MEXICO', 'MEXICO', 'MICRONESIA', 'MICRONESIA', 'MICRONESIA', 'MID ATLANTIC OCEAN', 'MID ATLANTIC OCEAN', 'MID ATLANTIC OCEAN', 'MID ATLANTIC OCEAN', 'MID ATLANTIC OCEAN', 'MID-PACIFC OCEAN', 'MONACO', 'MONTENEGRO', 'MONTENEGRO', 'MONTENEGRO', 'MOZAMBIQUE', 'MOZAMBIQUE', 'MOZAMBIQUE', 'MOZAMBIQUE', 'MOZAMBIQUE', 'MOZAMBIQUE', 'MOZAMBIQUE', 'MOZAMBIQUE', 'MOZAMBIQUE', 'MOZAMBIQUE', 'MOZAMBIQUE', 'MOZAMBIQUE', 'MOZAMBIQUE', 'MOZAMBIQUE', 'MOZAMBIQUE', 'MOZAMBIQUE', 'MOZAMBIQUE', 'MOZAMBIQUE', 'MOZAMBIQUE', 'MOZAMBIQUE', 'MOZAMBIQUE', 'MOZAMBIQUE', 'MOZAMBIQUE', 'MOZAMBIQUE', 'MOZAMBIQUE', 'MOZAMBIQUE', 'MOZAMBIQUE', 'MOZAMBIQUE', 'MOZAMBIQUE', 'MOZAMBIQUE', 'MOZAMBIQUE', 'MOZAMBIQUE', 'MOZAMBIQUE', 'MOZAMBIQUE', 'MOZAMBIQUE', 'MOZAMBIQUE', 'MOZAMBIQUE', 'MOZAMBIQUE', 'MOZAMBIQUE', 'MOZAMBIQUE', 'MOZAMBIQUE', 'MOZAMBIQUE', 'MOZAMBIQUE', 'MOZAMBIQUE', 'MOZAMBIQUE', 'NAMIBIA', 'NAMIBIA', 'NETHERLANDS ANTILLES', 'NEVIS', 'NEW BRITAIN', 'NEW BRITAIN', 'NEW BRITAIN', 'NEW BRITAIN', 'NEW BRITAIN', 'NEW BRITAIN', 'NEW CALEDONIA', 'NEW CALEDONIA', 'NEW CALEDONIA', 'NEW CALEDONIA', 'NEW CALEDONIA', 'NEW CALEDONIA', 'NEW CALEDONIA', 'NEW CALEDONIA', 'NEW CALEDONIA', 'NEW CALEDONIA', 'NEW CALEDONIA', 'NEW CALEDONIA', 'NEW CALEDONIA', 'NEW CALEDONIA', 'NEW CALEDONIA', 'NEW CALEDONIA', 'NEW CALEDONIA', 'NEW CALEDONIA', 'NEW CALEDONIA', 'NEW CALEDONIA', 'NEW CALEDONIA', 'NEW CALEDONIA', 'NEW CALEDONIA', 'NEW CALEDONIA', 'NEW CALEDONIA', 'NEW CALEDONIA', 'NEW CALEDONIA', 'NEW CALEDONIA', 'NEW CALEDONIA', 'NEW CALEDONIA', 'NEW CALEDONIA', 'NEW CALEDONIA', 'NEW CALEDONIA', 'NEW CALEDONIA', 'NEW CALEDONIA', 'NEW CALEDONIA', 'NEW CALEDONIA', 'NEW CALEDONIA', 'NEW CALEDONIA', 'NEW CALEDONIA', 'NEW CALEDONIA', 'NEW CALEDONIA', 'NEW CALEDONIA', 'NEW CALEDONIA', 'NEW CALEDONIA', 'NEW CALEDONIA', 'NEW CALEDONIA', 'NEW CALEDONIA', 'NEW CALEDONIA', 'NEW CALEDONIA', 'NEW CALEDONIA', 'NEW CALEDONIA', 'NEW CALEDONIA', 'NEW GUINEA', 'NEW GUINEA', 'NEW GUINEA', 'NEW GUINEA', 'NEW GUINEA', 'NEW GUINEA', 'NEW GUINEA', 'NEW GUINEA', 'NEW GUINEA', 'NEW GUINEA', 'NEW ZEALAND', 'NEW ZEALAND', 'NEW ZEALAND', 'NEW ZEALAND', 'NEW ZEALAND', 'NEW ZEALAND', 'NEW ZEALAND', 'NEW ZEALAND', 'NEW ZEALAND', 'NEW ZEALAND', 'NEW ZEALAND', 'NEW ZEALAND', 'NEW ZEALAND', 'NEW ZEALAND', 'NEW ZEALAND', 'NEW ZEALAND', 'NEW ZEALAND', 'NEW ZEALAND', 'NEW ZEALAND', 'NEW ZEALAND', 'NEW ZEALAND', 'NEW ZEALAND', 'NEW ZEALAND', 'NEW ZEALAND', 'NEW ZEALAND', 'NEW ZEALAND', 'NEW ZEALAND', 'NEW ZEALAND', 'NEW ZEALAND', 'NEW ZEALAND', 'NEW ZEALAND', 'NEW ZEALAND', 'NEW ZEALAND', 'NEW ZEALAND', 'NEW ZEALAND', 'NEW ZEALAND', 'NEW ZEALAND', 'NEW ZEALAND', 'NEW ZEALAND', 'NEW ZEALAND', 'NEW ZEALAND', 'NEW ZEALAND', 'NEW ZEALAND', 'NEW ZEALAND', 'NEW ZEALAND', 'NEW ZEALAND', 'NEW ZEALAND', 'NEW ZEALAND', 'NEW ZEALAND', 'NEW ZEALAND', 'NEW ZEALAND', 'NEW ZEALAND', 'NEW ZEALAND', 'NEW ZEALAND', 'NEW ZEALAND', 'NEW ZEALAND', 'NEW ZEALAND', 'NEW ZEALAND', 'NEW ZEALAND', 'NEW ZEALAND', 'NEW ZEALAND', 'NEW ZEALAND', 'NEW ZEALAND', 'NEW ZEALAND', 'NEW ZEALAND', 'NEW ZEALAND', 'NEW ZEALAND', 'NEW ZEALAND', 'NEW ZEALAND', 'NEW ZEALAND', 'NEW ZEALAND', 'NEW ZEALAND', 'NEW ZEALAND', 'NEW ZEALAND', 'NEW ZEALAND', 'NEW ZEALAND', 'NEW ZEALAND', 'NEW ZEALAND', 'NEW ZEALAND', 'NEW ZEALAND', 'NEW ZEALAND', 'NEW ZEALAND', 'NEW ZEALAND', 'NEW ZEALAND', 'NEW ZEALAND', 'NEW ZEALAND', 'NEW ZEALAND', 'NEW ZEALAND', 'NEW ZEALAND', 'NEW ZEALAND', 'NEW ZEALAND', 'NEW ZEALAND', 'NEW ZEALAND', 'NEW ZEALAND', 'NEW ZEALAND', 'NEW ZEALAND', 'NEW ZEALAND', 'NEW ZEALAND', 'NEW ZEALAND', 'NEW ZEALAND', 'NEW ZEALAND', 'NEW ZEALAND', 'NEW ZEALAND', 'NEW ZEALAND', 'NEW ZEALAND', 'NEW ZEALAND', 'NEW ZEALAND', 'NEW ZEALAND', 'NEW ZEALAND', 'NEW ZEALAND', 'NEW ZEALAND', 'NEW ZEALAND', 'NEW ZEALAND', 'NEW ZEALAND', 'NEW ZEALAND', 'NEW ZEALAND', 'NEW ZEALAND', 'NEW ZEALAND', 'NEW ZEALAND', 'NEW ZEALAND', 'NEW ZEALAND', 'NEW ZEALAND', 'NEW ZEALAND', 'NEW ZEALAND', 'NEW ZEALAND', 'NEW ZEALAND', 'NEW ZEALAND', 'NEW ZEALAND', 'NICARAGUA', 'NICARAGUA', 'NICARAGUA', 'NICARAGUA', 'NICARAGUA', 'NICARAGUA', 'NICARAGUA', 'NIGERIA', 'NIGERIA', 'NIGERIA', 'NIGERIA', 'NORTH ATLANTIC OCEAN', 'NORTH ATLANTIC OCEAN', 'NORTH ATLANTIC OCEAN', 'NORTH ATLANTIC OCEAN', 'NORTH ATLANTIC OCEAN', 'NORTH PACIFIC OCEAN', 'NORTH PACIFIC OCEAN', 'NORTH PACIFIC OCEAN', 'NORTH PACIFIC OCEAN', 'NORTH PACIFIC OCEAN', 'NORTH PACIFIC OCEAN', 'NORTH PACIFIC OCEAN', 'NORTH SEA', 'NORTHERN ARABIAN SEA', 'NORTHERN MARIANA ISLANDS', 'NORWAY', 'NORWAY', 'OCEAN', 'OKINAWA', 'OKINAWA', 'OKINAWA', 'OKINAWA', 'OKINAWA', 'OKINAWA', 'PACIFIC OCEAN', 'PACIFIC OCEAN', 'PACIFIC OCEAN', 'PACIFIC OCEAN', 'PACIFIC OCEAN', 'PACIFIC OCEAN', 'PACIFIC OCEAN', 'PACIFIC OCEAN', 'PACIFIC OCEAN', 'PACIFIC OCEAN', 'PACIFIC OCEAN', 'PACIFIC OCEAN', 'PACIFIC OCEAN', 'PACIFIC OCEAN', 'PACIFIC OCEAN', 'PACIFIC OCEAN', 'PACIFIC OCEAN', 'PACIFIC OCEAN', 'PACIFIC OCEAN', 'PALAU', 'PALAU', 'PALAU', 'PALAU', 'PALAU', 'PALESTINIAN TERRITORIES', 'PANAMA', 'PANAMA', 'PANAMA', 'PANAMA', 'PANAMA', 'PANAMA', 'PANAMA', 'PANAMA', 'PANAMA', 'PANAMA', 'PANAMA', 'PANAMA', 'PANAMA', 'PANAMA', 'PANAMA', 'PANAMA', 'PANAMA', 'PANAMA', 'PANAMA', 'PANAMA', 'PANAMA', 'PANAMA', 'PANAMA', 'PANAMA', 'PANAMA', 'PANAMA', 'PANAMA', 'PANAMA', 'PANAMA', 'PANAMA', 'PANAMA', 'PANAMA', 'PAPUA NEW GUINEA', 'PAPUA NEW GUINEA', 'PAPUA NEW GUINEA', 'PAPUA NEW GUINEA', 'PAPUA NEW GUINEA', 'PAPUA NEW GUINEA', 'PAPUA NEW GUINEA', 'PAPUA NEW GUINEA', 'PAPUA NEW GUINEA', 'PAPUA NEW GUINEA', 'PAPUA NEW GUINEA', 'PAPUA NEW GUINEA', 'PAPUA NEW GUINEA', 'PAPUA NEW GUINEA', 'PAPUA NEW GUINEA', 'PAPUA NEW GUINEA', 'PAPUA NEW GUINEA', 'PAPUA NEW GUINEA', 'PAPUA NEW GUINEA', 'PAPUA NEW GUINEA', 'PAPUA NEW GUINEA', 'PAPUA NEW GUINEA', 'PAPUA NEW GUINEA', 'PAPUA NEW GUINEA', 'PAPUA NEW GUINEA', 'PAPUA NEW GUINEA', 'PAPUA NEW GUINEA', 'PAPUA NEW GUINEA', 'PAPUA NEW GUINEA', 'PAPUA NEW GUINEA', 'PAPUA NEW GUINEA', 'PAPUA NEW GUINEA', 'PAPUA NEW GUINEA', 'PAPUA NEW GUINEA', 'PAPUA NEW GUINEA', 'PAPUA NEW GUINEA', 'PAPUA NEW GUINEA', 'PAPUA NEW GUINEA', 'PAPUA NEW GUINEA', 'PAPUA NEW GUINEA', 'PAPUA NEW GUINEA', 'PAPUA NEW GUINEA', 'PAPUA NEW GUINEA', 'PAPUA NEW GUINEA', 'PAPUA NEW GUINEA', 'PAPUA NEW GUINEA', 'PAPUA NEW GUINEA', 'PAPUA NEW GUINEA', 'PAPUA NEW GUINEA', 'PAPUA NEW GUINEA', 'PAPUA NEW GUINEA', 'PAPUA NEW GUINEA', 'PAPUA NEW GUINEA', 'PAPUA NEW GUINEA', 'PAPUA NEW GUINEA', 'PAPUA NEW GUINEA', 'PAPUA NEW GUINEA', 'PAPUA NEW GUINEA', 'PAPUA NEW GUINEA', 'PAPUA NEW GUINEA', 'PAPUA NEW GUINEA', 'PAPUA NEW GUINEA', 'PAPUA NEW GUINEA', 'PAPUA NEW GUINEA', 'PAPUA NEW GUINEA', 'PAPUA NEW GUINEA', 'PAPUA NEW GUINEA', 'PAPUA NEW GUINEA', 'PAPUA NEW GUINEA', 'PAPUA NEW GUINEA', 'PAPUA NEW GUINEA', 'PAPUA NEW GUINEA', 'PAPUA NEW GUINEA', 'PAPUA NEW GUINEA', 'PAPUA NEW GUINEA', 'PAPUA NEW GUINEA', 'PAPUA NEW GUINEA', 'PAPUA NEW GUINEA', 'PAPUA NEW GUINEA', 'PAPUA NEW GUINEA', 'PAPUA NEW GUINEA', 'PAPUA NEW GUINEA', 'PAPUA NEW GUINEA', 'PAPUA NEW GUINEA', 'PAPUA NEW GUINEA', 'PAPUA NEW GUINEA', 'PAPUA NEW GUINEA', 'PAPUA NEW GUINEA', 'PAPUA NEW GUINEA', 'PAPUA NEW GUINEA', 'PAPUA NEW GUINEA', 'PAPUA NEW GUINEA', 'PAPUA NEW GUINEA', 'PAPUA NEW GUINEA', 'PAPUA NEW GUINEA', 'PAPUA NEW GUINEA', 'PAPUA NEW GUINEA', 'PAPUA NEW GUINEA', 'PAPUA NEW GUINEA', 'PAPUA NEW GUINEA', 'PAPUA NEW GUINEA', 'PAPUA NEW GUINEA', 'PAPUA NEW GUINEA', 'PAPUA NEW GUINEA', 'PAPUA NEW GUINEA', 'PAPUA NEW GUINEA', 'PAPUA NEW GUINEA', 'PAPUA NEW GUINEA', 'PAPUA NEW GUINEA', 'PAPUA NEW GUINEA', 'PAPUA NEW GUINEA', 'PAPUA NEW GUINEA', 'PAPUA NEW GUINEA', 'PAPUA NEW GUINEA', 'PAPUA NEW GUINEA', 'PAPUA NEW GUINEA', 'PAPUA NEW GUINEA', 'PAPUA NEW GUINEA', 'PAPUA NEW GUINEA', 'PAPUA NEW GUINEA', 'PAPUA NEW GUINEA', 'PAPUA NEW GUINEA', 'PAPUA NEW GUINEA', 'PAPUA NEW GUINEA', 'PAPUA NEW GUINEA', 'PAPUA NEW GUINEA', 'PAPUA NEW GUINEA', 'PAPUA NEW GUINEA', 'PAPUA NEW GUINEA', 'PAPUA NEW GUINEA', 'PAPUA NEW GUINEA', 'PAPUA NEW GUINEA', 'PAPUA NEW GUINEA', 'PAPUA NEW GUINEA', 'PARAGUAY', 'PERSIAN GULF', 'PERSIAN GULF', 'PERSIAN GULF', 'PERSIAN GULF', 'PERU', 'PHILIPPINES', 'PHILIPPINES', 'PHILIPPINES', 'PHILIPPINES', 'PHILIPPINES', 'PHILIPPINES', 'PHILIPPINES', 'PHILIPPINES', 'PHILIPPINES', 'PHILIPPINES', 'PHILIPPINES', 'PHILIPPINES', 'PHILIPPINES', 'PHILIPPINES', 'PHILIPPINES', 'PHILIPPINES', 'PHILIPPINES', 'PHILIPPINES', 'PHILIPPINES', 'PHILIPPINES', 'PHILIPPINES', 'PHILIPPINES', 'PHILIPPINES', 'PHILIPPINES', 'PHILIPPINES', 'PHILIPPINES', 'PHILIPPINES', 'PHILIPPINES', 'PHILIPPINES', 'PHILIPPINES', 'PHILIPPINES', 'PHILIPPINES', 'PHILIPPINES', 'PHILIPPINES', 'PHILIPPINES', 'PHILIPPINES', 'PHILIPPINES', 'PHILIPPINES', 'PHILIPPINES', 'PHILIPPINES', 'PHILIPPINES', 'PHILIPPINES', 'PHILIPPINES', 'PHILIPPINES', 'PHILIPPINES', 'PHILIPPINES', 'PHILIPPINES', 'PHILIPPINES', 'PHILIPPINES', 'PHILIPPINES', 'PHILIPPINES', 'PHILIPPINES', 'PHILIPPINES', 'PHILIPPINES', 'PHILIPPINES', 'PHILIPPINES', 'PHILIPPINES', 'PHILIPPINES', 'PHILIPPINES', 'PHILIPPINES', 'PHILIPPINES', 'PHILIPPINES', 'PORTUGAL', 'PORTUGAL', 'PORTUGAL', 'PUERTO RICO', 'RED SEA', 'RED SEA / INDIAN OCEAN', 'RED SEA?', 'REUNION', 'REUNION', 'REUNION', 'REUNION', 'REUNION', 'REUNION', 'REUNION', 'REUNION', 'REUNION', 'REUNION', 'REUNION', 'REUNION', 'REUNION', 'REUNION', 'REUNION', 'REUNION', 'REUNION', 'REUNION', 'REUNION', 'REUNION', 'REUNION', 'REUNION', 'REUNION', 'REUNION', 'REUNION', 'REUNION', 'REUNION', 'REUNION', 'REUNION', 'REUNION', 'REUNION', 'REUNION', 'REUNION', 'REUNION', 'REUNION', 'REUNION', 'REUNION', 'REUNION', 'REUNION', 'REUNION', 'REUNION', 'REUNION', 'REUNION', 'REUNION', 'REUNION', 'REUNION', 'REUNION', 'REUNION', 'REUNION', 'REUNION', 'REUNION', 'REUNION', 'REUNION', 'REUNION', 'REUNION', 'REUNION', 'REUNION', 'REUNION', 'REUNION', 'REUNION', 'REUNION ISLAND', 'ROATAN', 'RUSSIA', 'RUSSIA', 'RUSSIA', 'RUSSIA', 'SAMOA', 'SAMOA', 'SAMOA', 'SAMOA', 'SAMOA', 'SAMOA', 'SAMOA', 'SAMOA', 'SAN DOMINGO', 'SAUDI ARABIA', 'SAUDI ARABIA', 'SAUDI ARABIA', 'SAUDI ARABIA', 'SAUDI ARABIA', 'SCOTLAND', 'SCOTLAND', 'SCOTLAND', 'SCOTLAND', 'SCOTLAND', 'SCOTLAND', 'SCOTLAND', 'SCOTLAND', 'SENEGAL', 'SENEGAL', 'SENEGAL', 'SENEGAL', 'SENEGAL', 'SENEGAL', 'SENEGAL', 'SENEGAL', 'SENEGAL', 'SENEGAL', 'SENEGAL', 'SEYCHELLES', 'SEYCHELLES', 'SEYCHELLES', 'SEYCHELLES', 'SEYCHELLES', 'SEYCHELLES', 'SEYCHELLES', 'SEYCHELLES', 'SIERRA LEONE', 'SIERRA LEONE', 'SIERRA LEONE', 'SIERRA LEONE', 'SIERRA LEONE', 'SIERRA LEONE', 'SIERRA LEONE', 'SIERRA LEONE', 'SIERRA LEONE', 'SINGAPORE', 'SINGAPORE', 'SINGAPORE', 'SINGAPORE', 'SINGAPORE', 'SINGAPORE', 'SLOVENIA', 'SOLOMON ISLANDS', 'SOLOMON ISLANDS', 'SOLOMON ISLANDS', 'SOLOMON ISLANDS', 'SOLOMON ISLANDS', 'SOLOMON ISLANDS', 'SOLOMON ISLANDS', 'SOLOMON ISLANDS', 'SOLOMON ISLANDS', 'SOLOMON ISLANDS', 'SOLOMON ISLANDS', 'SOLOMON ISLANDS', 'SOLOMON ISLANDS', 'SOLOMON ISLANDS', 'SOLOMON ISLANDS', 'SOLOMON ISLANDS', 'SOLOMON ISLANDS', 'SOLOMON ISLANDS', 'SOLOMON ISLANDS', 'SOLOMON ISLANDS', 'SOLOMON ISLANDS', 'SOLOMON ISLANDS', 'SOLOMON ISLANDS', 'SOLOMON ISLANDS', 'SOLOMON ISLANDS', 'SOLOMON ISLANDS', 'SOLOMON ISLANDS', 'SOLOMON ISLANDS', 'SOLOMON ISLANDS', 'SOLOMON ISLANDS', 'SOLOMON ISLANDS / VANUATU', 'SOMALIA', 'SOMALIA', 'SOMALIA', 'SOMALIA', 'SOMALIA', 'SOMALIA', 'SOUTH AFRICA', 'SOUTH AFRICA', 'SOUTH AFRICA', 'SOUTH AFRICA', 'SOUTH AFRICA', 'SOUTH AFRICA', 'SOUTH AFRICA', 'SOUTH AFRICA', 'SOUTH AFRICA', 'SOUTH AFRICA', 'SOUTH AFRICA', 'SOUTH AFRICA', 'SOUTH AFRICA', 'SOUTH AFRICA', 'SOUTH AFRICA', 'SOUTH AFRICA', 'SOUTH AFRICA', 'SOUTH AFRICA', 'SOUTH AFRICA', 'SOUTH AFRICA', 'SOUTH AFRICA', 'SOUTH AFRICA', 'SOUTH AFRICA', 'SOUTH AFRICA', 'SOUTH AFRICA', 'SOUTH AFRICA', 'SOUTH AFRICA', 'SOUTH AFRICA', 'SOUTH AFRICA', 'SOUTH AFRICA', 'SOUTH AFRICA', 'SOUTH AFRICA', 'SOUTH AFRICA', 'SOUTH AFRICA', 'SOUTH AFRICA', 'SOUTH AFRICA', 'SOUTH AFRICA', 'SOUTH AFRICA', 'SOUTH AFRICA', 'SOUTH AFRICA', 'SOUTH AFRICA', 'SOUTH AFRICA', 'SOUTH AFRICA', 'SOUTH AFRICA', 'SOUTH AFRICA', 'SOUTH AFRICA', 'SOUTH AFRICA', 'SOUTH AFRICA', 'SOUTH AFRICA', 'SOUTH AFRICA', 'SOUTH AFRICA', 'SOUTH AFRICA', 'SOUTH AFRICA', 'SOUTH AFRICA', 'SOUTH AFRICA', 'SOUTH AFRICA', 'SOUTH AFRICA', 'SOUTH AFRICA', 'SOUTH AFRICA', 'SOUTH AFRICA', 'SOUTH AFRICA', 'SOUTH AFRICA', 'SOUTH AFRICA', 'SOUTH AFRICA', 'SOUTH AFRICA', 'SOUTH AFRICA', 'SOUTH AFRICA', 'SOUTH AFRICA', 'SOUTH AFRICA', 'SOUTH AFRICA', 'SOUTH AFRICA', 'SOUTH AFRICA', 'SOUTH AFRICA', 'SOUTH AFRICA', 'SOUTH AFRICA', 'SOUTH AFRICA', 'SOUTH AFRICA', 'SOUTH AFRICA', 'SOUTH AFRICA', 'SOUTH AFRICA', 'SOUTH AFRICA', 'SOUTH AFRICA', 'SOUTH AFRICA', 'SOUTH AFRICA', 'SOUTH AFRICA', 'SOUTH AFRICA', 'SOUTH AFRICA', 'SOUTH AFRICA', 'SOUTH AFRICA', 'SOUTH AFRICA', 'SOUTH AFRICA', 'SOUTH AFRICA', 'SOUTH AFRICA', 'SOUTH AFRICA', 'SOUTH AFRICA', 'SOUTH AFRICA', 'SOUTH AFRICA', 'SOUTH AFRICA', 'SOUTH AFRICA', 'SOUTH AFRICA', 'SOUTH AFRICA', 'SOUTH AFRICA', 'SOUTH AFRICA', 'SOUTH AFRICA', 'SOUTH AFRICA', 'SOUTH AFRICA', 'SOUTH AFRICA', 'SOUTH AFRICA', 'SOUTH AFRICA', 'SOUTH AFRICA', 'SOUTH AFRICA', 'SOUTH AFRICA', 'SOUTH AFRICA', 'SOUTH AFRICA', 'SOUTH AFRICA', 'SOUTH AFRICA', 'SOUTH AFRICA', 'SOUTH AFRICA', 'SOUTH AFRICA', 'SOUTH AFRICA', 'SOUTH AFRICA', 'SOUTH AFRICA', 'SOUTH AFRICA', 'SOUTH AFRICA', 'SOUTH AFRICA', 'SOUTH AFRICA', 'SOUTH AFRICA', 'SOUTH AFRICA', 'SOUTH AFRICA', 'SOUTH AFRICA', 'SOUTH AFRICA', 'SOUTH AFRICA', 'SOUTH AFRICA', 'SOUTH AFRICA', 'SOUTH AFRICA', 'SOUTH AFRICA', 'SOUTH AFRICA', 'SOUTH AFRICA', 'SOUTH AFRICA', 'SOUTH AFRICA', 'SOUTH AFRICA', 'SOUTH AFRICA', 'SOUTH AFRICA', 'SOUTH AFRICA', 'SOUTH AFRICA', 'SOUTH AFRICA', 'SOUTH AFRICA', 'SOUTH AFRICA', 'SOUTH AFRICA', 'SOUTH AFRICA', 'SOUTH AFRICA', 'SOUTH AFRICA', 'SOUTH AFRICA', 'SOUTH AFRICA', 'SOUTH AFRICA', 'SOUTH AFRICA', 'SOUTH AFRICA', 'SOUTH AFRICA', 'SOUTH AFRICA', 'SOUTH AFRICA', 'SOUTH AFRICA', 'SOUTH AFRICA', 'SOUTH AFRICA', 'SOUTH AFRICA', 'SOUTH AFRICA', 'SOUTH AFRICA', 'SOUTH AFRICA', 'SOUTH AFRICA', 'SOUTH AFRICA', 'SOUTH AFRICA', 'SOUTH AFRICA', 'SOUTH AFRICA', 'SOUTH AFRICA', 'SOUTH AFRICA', 'SOUTH AFRICA', 'SOUTH AFRICA', 'SOUTH AFRICA', 'SOUTH AFRICA', 'SOUTH AFRICA', 'SOUTH AFRICA', 'SOUTH AFRICA', 'SOUTH AFRICA', 'SOUTH AFRICA', 'SOUTH AFRICA', 'SOUTH AFRICA', 'SOUTH AFRICA', 'SOUTH AFRICA', 'SOUTH AFRICA', 'SOUTH AFRICA', 'SOUTH AFRICA', 'SOUTH AFRICA', 'SOUTH AFRICA', 'SOUTH AFRICA', 'SOUTH AFRICA', 'SOUTH AFRICA', 'SOUTH AFRICA', 'SOUTH AFRICA', 'SOUTH AFRICA', 'SOUTH AFRICA', 'SOUTH AFRICA', 'SOUTH AFRICA', 'SOUTH AFRICA', 'SOUTH AFRICA', 'SOUTH AFRICA', 'SOUTH AFRICA', 'SOUTH AFRICA', 'SOUTH AFRICA', 'SOUTH AFRICA', 'SOUTH AFRICA', 'SOUTH AFRICA', 'SOUTH AFRICA', 'SOUTH AFRICA', 'SOUTH AFRICA', 'SOUTH AFRICA', 'SOUTH AFRICA', 'SOUTH AFRICA', 'SOUTH AFRICA', 'SOUTH AFRICA', 'SOUTH AFRICA', 'SOUTH AFRICA', 'SOUTH AFRICA', 'SOUTH AFRICA', 'SOUTH AFRICA', 'SOUTH AFRICA', 'SOUTH AFRICA', 'SOUTH AFRICA', 'SOUTH AFRICA', 'SOUTH AFRICA', 'SOUTH AFRICA', 'SOUTH AFRICA', 'SOUTH AFRICA', 'SOUTH AFRICA', 'SOUTH AFRICA', 'SOUTH AFRICA', 'SOUTH AFRICA', 'SOUTH AFRICA', 'SOUTH AFRICA', 'SOUTH AFRICA', 'SOUTH AFRICA', 'SOUTH AFRICA', 'SOUTH AFRICA', 'SOUTH AFRICA', 'SOUTH AFRICA', 'SOUTH AFRICA', 'SOUTH AFRICA', 'SOUTH AFRICA', 'SOUTH AFRICA', 'SOUTH AFRICA', 'SOUTH AFRICA', 'SOUTH AFRICA', 'SOUTH AFRICA', 'SOUTH AFRICA', 'SOUTH AFRICA', 'SOUTH AFRICA', 'SOUTH AFRICA', 'SOUTH AFRICA', 'SOUTH AFRICA', 'SOUTH AFRICA', 'SOUTH AFRICA', 'SOUTH AFRICA', 'SOUTH AFRICA', 'SOUTH AFRICA', 'SOUTH AFRICA', 'SOUTH AFRICA', 'SOUTH AFRICA', 'SOUTH AFRICA', 'SOUTH AFRICA', 'SOUTH AFRICA', 'SOUTH AFRICA', 'SOUTH AFRICA', 'SOUTH AFRICA', 'SOUTH AFRICA', 'SOUTH AFRICA', 'SOUTH AFRICA', 'SOUTH AFRICA', 'SOUTH AFRICA', 'SOUTH AFRICA', 'SOUTH AFRICA', 'SOUTH AFRICA', 'SOUTH AFRICA', 'SOUTH AFRICA', 'SOUTH AFRICA', 'SOUTH AFRICA', 'SOUTH AFRICA', 'SOUTH AFRICA', 'SOUTH AFRICA', 'SOUTH AFRICA', 'SOUTH AFRICA', 'SOUTH AFRICA', 'SOUTH AFRICA', 'SOUTH AFRICA', 'SOUTH AFRICA', 'SOUTH AFRICA', 'SOUTH AFRICA', 'SOUTH AFRICA', 'SOUTH AFRICA', 'SOUTH AFRICA', 'SOUTH AFRICA', 'SOUTH AFRICA', 'SOUTH AFRICA', 'SOUTH AFRICA', 'SOUTH AFRICA', 'SOUTH AFRICA', 'SOUTH AFRICA', 'SOUTH AFRICA', 'SOUTH AFRICA', 'SOUTH AFRICA', 'SOUTH AFRICA', 'SOUTH AFRICA', 'SOUTH AFRICA', 'SOUTH AFRICA', 'SOUTH AFRICA', 'SOUTH AFRICA', 'SOUTH AFRICA', 'SOUTH AFRICA', 'SOUTH AFRICA', 'SOUTH AFRICA', 'SOUTH AFRICA', 'SOUTH AFRICA', 'SOUTH AFRICA', 'SOUTH AFRICA', 'SOUTH AFRICA', 'SOUTH AFRICA', 'SOUTH AFRICA', 'SOUTH AFRICA', 'SOUTH AFRICA', 'SOUTH AFRICA', 'SOUTH AFRICA', 'SOUTH AFRICA', 'SOUTH AFRICA', 'SOUTH AFRICA', 'SOUTH AFRICA', 'SOUTH AFRICA', 'SOUTH AFRICA', 'SOUTH AFRICA', 'SOUTH AFRICA', 'SOUTH AFRICA', 'SOUTH AFRICA', 'SOUTH AFRICA', 'SOUTH AFRICA', 'SOUTH AFRICA', 'SOUTH AFRICA', 'SOUTH AFRICA', 'SOUTH AFRICA', 'SOUTH AFRICA', 'SOUTH AFRICA', 'SOUTH AFRICA', 'SOUTH AFRICA', 'SOUTH AFRICA', 'SOUTH AFRICA', 'SOUTH AFRICA', 'SOUTH AFRICA', 'SOUTH AFRICA', 'SOUTH AFRICA', 'SOUTH AFRICA', 'SOUTH AFRICA', 'SOUTH AFRICA', 'SOUTH AFRICA', 'SOUTH AFRICA', 'SOUTH AFRICA', 'SOUTH AFRICA', 'SOUTH AFRICA', 'SOUTH AFRICA', 'SOUTH AFRICA', 'SOUTH AFRICA', 'SOUTH AFRICA', 'SOUTH AFRICA', 'SOUTH AFRICA', 'SOUTH AFRICA', 'SOUTH AFRICA', 'SOUTH AFRICA', 'SOUTH AFRICA', 'SOUTH AFRICA', 'SOUTH AFRICA', 'SOUTH AFRICA', 'SOUTH AFRICA', 'SOUTH AFRICA', 'SOUTH AFRICA', 'SOUTH AFRICA', 'SOUTH AFRICA', 'SOUTH AFRICA', 'SOUTH AFRICA', 'SOUTH AFRICA', 'SOUTH AFRICA', 'SOUTH AFRICA', 'SOUTH AFRICA', 'SOUTH AFRICA', 'SOUTH AFRICA', 'SOUTH AFRICA', 'SOUTH AFRICA', 'SOUTH AFRICA', 'SOUTH AFRICA', 'SOUTH AFRICA', 'SOUTH AFRICA', 'SOUTH AFRICA', 'SOUTH AFRICA', 'SOUTH AFRICA', 'SOUTH AFRICA', 'SOUTH AFRICA', 'SOUTH AFRICA', 'SOUTH AFRICA', 'SOUTH AFRICA', 'SOUTH AFRICA', 'SOUTH AFRICA', 'SOUTH AFRICA', 'SOUTH AFRICA', 'SOUTH AFRICA', 'SOUTH AFRICA', 'SOUTH AFRICA', 'SOUTH AFRICA', 'SOUTH AFRICA', 'SOUTH AFRICA', 'SOUTH AFRICA', 'SOUTH AFRICA', 'SOUTH AFRICA', 'SOUTH AFRICA', 'SOUTH AFRICA', 'SOUTH AFRICA', 'SOUTH AFRICA', 'SOUTH AFRICA', 'SOUTH AFRICA', 'SOUTH AFRICA', 'SOUTH AFRICA', 'SOUTH AFRICA', 'SOUTH AFRICA', 'SOUTH AFRICA', 'SOUTH AFRICA', 'SOUTH AFRICA', 'SOUTH AFRICA', 'SOUTH AFRICA', 'SOUTH AFRICA', 'SOUTH AFRICA', 'SOUTH AFRICA', 'SOUTH AFRICA', 'SOUTH AFRICA', 'SOUTH AFRICA', 'SOUTH AFRICA', 'SOUTH AFRICA', 'SOUTH AFRICA', 'SOUTH AFRICA', 'SOUTH AFRICA', 'SOUTH AFRICA', 'SOUTH AFRICA', 'SOUTH AFRICA', 'SOUTH AFRICA', 'SOUTH AFRICA', 'SOUTH AFRICA', 'SOUTH AFRICA', 'SOUTH AFRICA', 'SOUTH AFRICA', 'SOUTH AFRICA', 'SOUTH AFRICA', 'SOUTH AFRICA', 'SOUTH AFRICA', 'SOUTH AFRICA', 'SOUTH AFRICA', 'SOUTH AFRICA', 'SOUTH AFRICA', 'SOUTH AFRICA', 'SOUTH AFRICA', 'SOUTH AFRICA', 'SOUTH AFRICA', 'SOUTH AFRICA', 'SOUTH AFRICA', 'SOUTH AFRICA', 'SOUTH AFRICA', 'SOUTH AFRICA', 'SOUTH AFRICA', 'SOUTH AFRICA', 'SOUTH AFRICA', 'SOUTH AFRICA', 'SOUTH AFRICA', 'SOUTH AFRICA', 'SOUTH AFRICA', 'SOUTH AFRICA', 'SOUTH AFRICA', 'SOUTH AFRICA', 'SOUTH AFRICA', 'SOUTH AFRICA', 'SOUTH AFRICA', 'SOUTH AFRICA', 'SOUTH AFRICA', 'SOUTH AFRICA', 'SOUTH AFRICA', 'SOUTH AFRICA', 'SOUTH AFRICA', 'SOUTH AFRICA', 'SOUTH AFRICA', 'SOUTH AFRICA', 'SOUTH AFRICA', 'SOUTH AFRICA', 'SOUTH AFRICA', 'SOUTH AFRICA', 'SOUTH AFRICA', 'SOUTH AFRICA', 'SOUTH AFRICA', 'SOUTH AFRICA', 'SOUTH AFRICA', 'SOUTH AFRICA', 'SOUTH AFRICA', 'SOUTH AFRICA', 'SOUTH AFRICA', 'SOUTH AFRICA', 'SOUTH AFRICA', 'SOUTH AFRICA', 'SOUTH AFRICA', 'SOUTH AFRICA', 'SOUTH AFRICA', 'SOUTH AFRICA', 'SOUTH AFRICA', 'SOUTH AFRICA', 'SOUTH AFRICA', 'SOUTH AFRICA', 'SOUTH AFRICA', 'SOUTH AFRICA', 'SOUTH AFRICA', 'SOUTH AFRICA', 'SOUTH AFRICA', 'SOUTH AFRICA', 'SOUTH AFRICA', 'SOUTH AFRICA', 'SOUTH AFRICA', 'SOUTH AFRICA', 'SOUTH AFRICA', 'SOUTH AFRICA', 'SOUTH AFRICA', 'SOUTH AFRICA', 'SOUTH AFRICA', 'SOUTH AFRICA', 'SOUTH AFRICA', 'SOUTH AFRICA', 'SOUTH AFRICA', 'SOUTH AFRICA', 'SOUTH AFRICA', 'SOUTH AFRICA', 'SOUTH AFRICA', 'SOUTH AFRICA', 'SOUTH AFRICA', 'SOUTH AFRICA', 'SOUTH AFRICA', 'SOUTH AFRICA', 'SOUTH AFRICA', 'SOUTH AFRICA', 'SOUTH AFRICA', 'SOUTH AFRICA', 'SOUTH AFRICA', 'SOUTH AFRICA', 'SOUTH AFRICA', 'SOUTH AFRICA', 'SOUTH AFRICA', 'SOUTH AFRICA', 'SOUTH AFRICA', 'SOUTH AFRICA', 'SOUTH AFRICA', 'SOUTH AFRICA', 'SOUTH AFRICA', 'SOUTH AFRICA', 'SOUTH AFRICA', 'SOUTH AFRICA', 'SOUTH AFRICA', 'SOUTH AFRICA', 'SOUTH AFRICA', 'SOUTH AFRICA', 'SOUTH AFRICA', 'SOUTH AFRICA', 'SOUTH AFRICA', 'SOUTH AFRICA', 'SOUTH AFRICA', 'SOUTH AFRICA', 'SOUTH AFRICA', 'SOUTH AFRICA', 'SOUTH AFRICA', 'SOUTH AFRICA', 'SOUTH AFRICA', 'SOUTH AFRICA', 'SOUTH AFRICA', 'SOUTH AFRICA', 'SOUTH AFRICA', 'SOUTH AFRICA', 'SOUTH ATLANTIC OCEAN', 'SOUTH ATLANTIC OCEAN', 'SOUTH ATLANTIC OCEAN', 'SOUTH ATLANTIC OCEAN', 'SOUTH ATLANTIC OCEAN', 'SOUTH ATLANTIC OCEAN', 'SOUTH ATLANTIC OCEAN', 'SOUTH ATLANTIC OCEAN', 'SOUTH ATLANTIC OCEAN', 'SOUTH ATLANTIC OCEAN', 'SOUTH ATLANTIC OCEAN', 'SOUTH ATLANTIC OCEAN', 'SOUTH CHINA SEA', 'SOUTH KOREA', 'SOUTH KOREA', 'SOUTH KOREA', 'SOUTH KOREA', 'SOUTH KOREA', 'SOUTH KOREA', 'SOUTH KOREA', 'SOUTH KOREA', 'SOUTH PACIFIC OCEAN', 'SOUTH PACIFIC OCEAN', 'SOUTHWEST PACIFIC OCEAN', 'SOUTHWEST PACIFIC OCEAN', 'SPAIN', 'SPAIN', 'SPAIN', 'SPAIN', 'SPAIN', 'SPAIN', 'SPAIN', 'SPAIN', 'SPAIN', 'SPAIN', 'SPAIN', 'SPAIN', 'SPAIN', 'SPAIN', 'SPAIN', 'SPAIN', 'SPAIN', 'SPAIN', 'SPAIN', 'SPAIN', 'SPAIN', 'SPAIN', 'SPAIN', 'SPAIN', 'SPAIN', 'SPAIN', 'SPAIN', 'SPAIN', 'SPAIN', 'SPAIN', 'SPAIN', 'SPAIN', 'SPAIN', 'SPAIN', 'SPAIN', 'SPAIN', 'SPAIN', 'SPAIN', 'SPAIN', 'SPAIN', 'SPAIN', 'SPAIN', 'SPAIN', 'SPAIN', 'SRI LANKA', 'SRI LANKA', 'SRI LANKA', 'SRI LANKA', 'SRI LANKA', 'SRI LANKA', 'SRI LANKA', 'SRI LANKA', 'SRI LANKA', 'SRI LANKA', 'SRI LANKA', 'SRI LANKA', 'SRI LANKA', 'SRI LANKA', 'ST HELENA, BRITISH OVERSEAS TERRITORY', 'ST HELENA, BRITISH OVERSEAS TERRITORY', 'ST. MAARTIN', 'ST. MARTIN', 'SUDAN', 'SUDAN', 'SUDAN', 'SUDAN', 'SUDAN?', 'SWEDEN', 'SYRIA', 'TAIWAN', 'TAIWAN', 'TAIWAN', 'TAIWAN', 'TAIWAN', 'TAIWAN', 'TAIWAN', 'TAIWAN', 'TAIWAN', 'TANZANIA', 'TANZANIA', 'TANZANIA', 'TANZANIA', 'TANZANIA', 'TANZANIA', 'TANZANIA', 'TANZANIA', 'TASMAN SEA', 'THAILAND', 'THAILAND', 'THAILAND', 'THAILAND', 'THAILAND', 'THAILAND', 'THAILAND', 'THAILAND', 'THE BALKANS', 'TOBAGO', 'TOBAGO', 'TONGA', 'TONGA', 'TONGA', 'TONGA', 'TONGA', 'TONGA', 'TONGA', 'TONGA', 'TONGA', 'TONGA', 'TONGA', 'TONGA', 'TONGA', 'TONGA', 'TONGA', 'TONGA', 'TONGA', 'TONGA', 'TRINIDAD & TOBAGO', 'TRINIDAD & TOBAGO', 'TRINIDAD & TOBAGO', 'TUNISIA', 'TUNISIA', 'TUNISIA', 'TURKEY', 'TURKEY', 'TURKEY', 'TURKEY', 'TURKEY', 'TURKEY', 'TURKEY', 'TURKEY', 'TURKEY', 'TURKEY', 'TURKEY', 'TURKEY', 'TURKS & CAICOS', 'TURKS & CAICOS', 'TURKS & CAICOS', 'TURKS & CAICOS', 'TURKS & CAICOS', 'TUVALU', 'UNITED ARAB EMIRATES', 'UNITED ARAB EMIRATES', 'UNITED ARAB EMIRATES (UAE)', 'UNITED ARAB EMIRATES (UAE)', 'UNITED KINGDOM', 'UNITED KINGDOM', 'UNITED KINGDOM', 'UNITED KINGDOM', 'UNITED KINGDOM', 'UNITED KINGDOM', 'UNITED KINGDOM', 'UNITED KINGDOM', 'UNITED KINGDOM', 'UNITED KINGDOM', 'UNITED KINGDOM', 'URUGUAY', 'URUGUAY', 'URUGUAY', 'URUGUAY', 'USA', 'USA', 'USA', 'USA', 'USA', 'USA', 'USA', 'USA', 'USA', 'USA', 'USA', 'USA', 'USA', 'USA', 'USA', 'USA', 'USA', 'USA', 'USA', 'USA', 'USA', 'USA', 'USA', 'USA', 'USA', 'USA', 'USA', 'USA', 'USA', 'USA', 'USA', 'USA', 'USA', 'USA', 'USA', 'USA', 'USA', 'USA', 'USA', 'USA', 'USA', 'USA', 'USA', 'USA', 'USA', 'USA', 'USA', 'USA', 'USA', 'USA', 'USA', 'USA', 'USA', 'USA', 'USA', 'USA', 'USA', 'USA', 'USA', 'USA', 'USA', 'USA', 'USA', 'USA', 'USA', 'USA', 'USA', 'USA', 'USA', 'USA', 'USA', 'USA', 'USA', 'USA', 'USA', 'USA', 'USA', 'USA', 'USA', 'USA', 'USA', 'USA', 'USA', 'USA', 'USA', 'USA', 'USA', 'USA', 'USA', 'USA', 'USA', 'USA', 'USA', 'USA', 'USA', 'USA', 'USA', 'USA', 'USA', 'USA', 'USA', 'USA', 'USA', 'USA', 'USA', 'USA', 'USA', 'USA', 'USA', 'USA', 'USA', 'USA', 'USA', 'USA', 'USA', 'USA', 'USA', 'USA', 'USA', 'USA', 'USA', 'USA', 'USA', 'USA', 'USA', 'USA', 'USA', 'USA', 'USA', 'USA', 'USA', 'USA', 'USA', 'USA', 'USA', 'USA', 'USA', 'USA', 'USA', 'USA', 'USA', 'USA', 'USA', 'USA', 'USA', 'USA', 'USA', 'USA', 'USA', 'USA', 'USA', 'USA', 'USA', 'USA', 'USA', 'USA', 'USA', 'USA', 'USA', 'USA', 'USA', 'USA', 'USA', 'USA', 'USA', 'USA', 'USA', 'USA', 'USA', 'USA', 'USA', 'USA', 'USA', 'USA', 'USA', 'USA', 'USA', 'USA', 'USA', 'USA', 'USA', 'USA', 'USA', 'USA', 'USA', 'USA', 'USA', 'USA', 'USA', 'USA', 'USA', 'USA', 'USA', 'USA', 'USA', 'USA', 'USA', 'USA', 'USA', 'USA', 'USA', 'USA', 'USA', 'USA', 'USA', 'USA', 'USA', 'USA', 'USA', 'USA', 'USA', 'USA', 'USA', 'USA', 'USA', 'USA', 'USA', 'USA', 'USA', 'USA', 'USA', 'USA', 'USA', 'USA', 'USA', 'USA', 'USA', 'USA', 'USA', 'USA', 'USA', 'USA', 'USA', 'USA', 'USA', 'USA', 'USA', 'USA', 'USA', 'USA', 'USA', 'USA', 'USA', 'USA', 'USA', 'USA', 'USA', 'USA', 'USA', 'USA', 'USA', 'USA', 'USA', 'USA', 'USA', 'USA', 'USA', 'USA', 'USA', 'USA', 'USA', 'USA', 'USA', 'USA', 'USA', 'USA', 'USA', 'USA', 'USA', 'USA', 'USA', 'USA', 'USA', 'USA', 'USA', 'USA', 'USA', 'USA', 'USA', 'USA', 'USA', 'USA', 'USA', 'USA', 'USA', 'USA', 'USA', 'USA', 'USA', 'USA', 'USA', 'USA', 'USA', 'USA', 'USA', 'USA', 'USA', 'USA', 'USA', 'USA', 'USA', 'USA', 'USA', 'USA', 'USA', 'USA', 'USA', 'USA', 'USA', 'USA', 'USA', 'USA', 'USA', 'USA', 'USA', 'USA', 'USA', 'USA', 'USA', 'USA', 'USA', 'USA', 'USA', 'USA', 'USA', 'USA', 'USA', 'USA', 'USA', 'USA', 'USA', 'USA', 'USA', 'USA', 'USA', 'USA', 'USA', 'USA', 'USA', 'USA', 'USA', 'USA', 'USA', 'USA', 'USA', 'USA', 'USA', 'USA', 'USA', 'USA', 'USA', 'USA', 'USA', 'USA', 'USA', 'USA', 'USA', 'USA', 'USA', 'USA', 'USA', 'USA', 'USA', 'USA', 'USA', 'USA', 'USA', 'USA', 'USA', 'USA', 'USA', 'USA', 'USA', 'USA', 'USA', 'USA', 'USA', 'USA', 'USA', 'USA', 'USA', 'USA', 'USA', 'USA', 'USA', 'USA', 'USA', 'USA', 'USA', 'USA', 'USA', 'USA', 'USA', 'USA', 'USA', 'USA', 'USA', 'USA', 'USA', 'USA', 'USA', 'USA', 'USA', 'USA', 'USA', 'USA', 'USA', 'USA', 'USA', 'USA', 'USA', 'USA', 'USA', 'USA', 'USA', 'USA', 'USA', 'USA', 'USA', 'USA', 'USA', 'USA', 'USA', 'USA', 'USA', 'USA', 'USA', 'USA', 'USA', 'USA', 'USA', 'USA', 'USA', 'USA', 'USA', 'USA', 'USA', 'USA', 'USA', 'USA', 'USA', 'USA', 'USA', 'USA', 'USA', 'USA', 'USA', 'USA', 'USA', 'USA', 'USA', 'USA', 'USA', 'USA', 'USA', 'USA', 'USA', 'USA', 'USA', 'USA', 'USA', 'USA', 'USA', 'USA', 'USA', 'USA', 'USA', 'USA', 'USA', 'USA', 'USA', 'USA', 'USA', 'USA', 'USA', 'USA', 'USA', 'USA', 'USA', 'USA', 'USA', 'USA', 'USA', 'USA', 'USA', 'USA', 'USA', 'USA', 'USA', 'USA', 'USA', 'USA', 'USA', 'USA', 'USA', 'USA', 'USA', 'USA', 'USA', 'USA', 'USA', 'USA', 'USA', 'USA', 'USA', 'USA', 'USA', 'USA', 'USA', 'USA', 'USA', 'USA', 'USA', 'USA', 'USA', 'USA', 'USA', 'USA', 'USA', 'USA', 'USA', 'USA', 'USA', 'USA', 'USA', 'USA', 'USA', 'USA', 'USA', 'USA', 'USA', 'USA', 'USA', 'USA', 'USA', 'USA', 'USA', 'USA', 'USA', 'USA', 'USA', 'USA', 'USA', 'USA', 'USA', 'USA', 'USA', 'USA', 'USA', 'USA', 'USA', 'USA', 'USA', 'USA', 'USA', 'USA', 'USA', 'USA', 'USA', 'USA', 'USA', 'USA', 'USA', 'USA', 'USA', 'USA', 'USA', 'USA', 'USA', 'USA', 'USA', 'USA', 'USA', 'USA', 'USA', 'USA', 'USA', 'USA', 'USA', 'USA', 'USA', 'USA', 'USA', 'USA', 'USA', 'USA', 'USA', 'USA', 'USA', 'USA', 'USA', 'USA', 'USA', 'USA', 'USA', 'USA', 'USA', 'USA', 'USA', 'USA', 'USA', 'USA', 'USA', 'USA', 'USA', 'USA', 'USA', 'USA', 'USA', 'USA', 'USA', 'USA', 'USA', 'USA', 'USA', 'USA', 'USA', 'USA', 'USA', 'USA', 'USA', 'USA', 'USA', 'USA', 'USA', 'USA', 'USA', 'USA', 'USA', 'USA', 'USA', 'USA', 'USA', 'USA', 'USA', 'USA', 'USA', 'USA', 'USA', 'USA', 'USA', 'USA', 'USA', 'USA', 'USA', 'USA', 'USA', 'USA', 'USA', 'USA', 'USA', 'USA', 'USA', 'USA', 'USA', 'USA', 'USA', 'USA', 'USA', 'USA', 'USA', 'USA', 'USA', 'USA', 'USA', 'USA', 'USA', 'USA', 'USA', 'USA', 'USA', 'USA', 'USA', 'USA', 'USA', 'USA', 'USA', 'USA', 'USA', 'USA', 'USA', 'USA', 'USA', 'USA', 'USA', 'USA', 'USA', 'USA', 'USA', 'USA', 'USA', 'USA', 'USA', 'USA', 'USA', 'USA', 'USA', 'USA', 'USA', 'USA', 'USA', 'USA', 'USA', 'USA', 'USA', 'USA', 'USA', 'USA', 'USA', 'USA', 'USA', 'USA', 'USA', 'USA', 'USA', 'USA', 'USA', 'USA', 'USA', 'USA', 'USA', 'USA', 'USA', 'USA', 'USA', 'USA', 'USA', 'USA', 'USA', 'USA', 'USA', 'USA', 'USA', 'USA', 'USA', 'USA', 'USA', 'USA', 'USA', 'USA', 'USA', 'USA', 'USA', 'USA', 'USA', 'USA', 'USA', 'USA', 'USA', 'USA', 'USA', 'USA', 'USA', 'USA', 'USA', 'USA', 'USA', 'USA', 'USA', 'USA', 'USA', 'USA', 'USA', 'USA', 'USA', 'USA', 'USA', 'USA', 'USA', 'USA', 'USA', 'USA', 'USA', 'USA', 'USA', 'USA', 'USA', 'USA', 'USA', 'USA', 'USA', 'USA', 'USA', 'USA', 'USA', 'USA', 'USA', 'USA', 'USA', 'USA', 'USA', 'USA', 'USA', 'USA', 'USA', 'USA', 'USA', 'USA', 'USA', 'USA', 'USA', 'USA', 'USA', 'USA', 'USA', 'USA', 'USA', 'USA', 'USA', 'USA', 'USA', 'USA', 'USA', 'USA', 'USA', 'USA', 'USA', 'USA', 'USA', 'USA', 'USA', 'USA', 'USA', 'USA', 'USA', 'USA', 'USA', 'USA', 'USA', 'USA', 'USA', 'USA', 'USA', 'USA', 'USA', 'USA', 'USA', 'USA', 'USA', 'USA', 'USA', 'USA', 'USA', 'USA', 'USA', 'USA', 'USA', 'USA', 'USA', 'USA', 'USA', 'USA', 'USA', 'USA', 'USA', 'USA', 'USA', 'USA', 'USA', 'USA', 'USA', 'USA', 'USA', 'USA', 'USA', 'USA', 'USA', 'USA', 'USA', 'USA', 'USA', 'USA', 'USA', 'USA', 'USA', 'USA', 'USA', 'USA', 'USA', 'USA', 'USA', 'USA', 'USA', 'USA', 'USA', 'USA', 'USA', 'USA', 'USA', 'USA', 'USA', 'USA', 'USA', 'USA', 'USA', 'USA', 'USA', 'USA', 'USA', 'USA', 'USA', 'USA', 'USA', 'USA', 'USA', 'USA', 'USA', 'USA', 'USA', 'USA', 'USA', 'USA', 'USA', 'USA', 'USA', 'USA', 'USA', 'USA', 'USA', 'USA', 'USA', 'USA', 'USA', 'USA', 'USA', 'USA', 'USA', 'USA', 'USA', 'USA', 'USA', 'USA', 'USA', 'USA', 'USA', 'USA', 'USA', 'USA', 'USA', 'USA', 'USA', 'USA', 'USA', 'USA', 'USA', 'USA', 'USA', 'USA', 'USA', 'USA', 'USA', 'USA', 'USA', 'USA', 'USA', 'USA', 'USA', 'USA', 'USA', 'USA', 'USA', 'USA', 'USA', 'USA', 'USA', 'USA', 'USA', 'USA', 'USA', 'USA', 'USA', 'USA', 'USA', 'USA', 'USA', 'USA', 'USA', 'USA', 'USA', 'USA', 'USA', 'USA', 'USA', 'USA', 'USA', 'USA', 'USA', 'USA', 'USA', 'USA', 'USA', 'USA', 'USA', 'USA', 'USA', 'USA', 'USA', 'USA', 'USA', 'USA', 'USA', 'USA', 'USA', 'USA', 'USA', 'USA', 'USA', 'USA', 'USA', 'USA', 'USA', 'USA', 'USA', 'USA', 'USA', 'USA', 'USA', 'USA', 'USA', 'USA', 'USA', 'USA', 'USA', 'USA', 'USA', 'USA', 'USA', 'USA', 'USA', 'USA', 'USA', 'USA', 'USA', 'USA', 'USA', 'USA', 'USA', 'USA', 'USA', 'USA', 'USA', 'USA', 'USA', 'USA', 'USA', 'USA', 'USA', 'USA', 'USA', 'USA', 'USA', 'USA', 'USA', 'USA', 'USA', 'USA', 'USA', 'USA', 'USA', 'USA', 'USA', 'USA', 'USA', 'USA', 'USA', 'USA', 'USA', 'USA', 'USA', 'USA', 'USA', 'USA', 'USA', 'USA', 'USA', 'USA', 'USA', 'USA', 'USA', 'USA', 'USA', 'USA', 'USA', 'USA', 'USA', 'USA', 'USA', 'USA', 'USA', 'USA', 'USA', 'USA', 'USA', 'USA', 'USA', 'USA', 'USA', 'USA', 'USA', 'USA', 'USA', 'USA', 'USA', 'USA', 'USA', 'USA', 'USA', 'USA', 'USA', 'USA', 'USA', 'USA', 'USA', 'USA', 'USA', 'USA', 'USA', 'USA', 'USA', 'USA', 'USA', 'USA', 'USA', 'USA', 'USA', 'USA', 'USA', 'USA', 'USA', 'USA', 'USA', 'USA', 'USA', 'USA', 'USA', 'USA', 'USA', 'USA', 'USA', 'USA', 'USA', 'USA', 'USA', 'USA', 'USA', 'USA', 'USA', 'USA', 'USA', 'USA', 'USA', 'USA', 'USA', 'USA', 'USA', 'USA', 'USA', 'USA', 'USA', 'USA', 'USA', 'USA', 'USA', 'USA', 'USA', 'USA', 'USA', 'USA', 'USA', 'USA', 'USA', 'USA', 'USA', 'USA', 'USA', 'USA', 'USA', 'USA', 'USA', 'USA', 'USA', 'USA', 'USA', 'USA', 'USA', 'USA', 'USA', 'USA', 'USA', 'USA', 'USA', 'USA', 'USA', 'USA', 'USA', 'USA', 'USA', 'USA', 'USA', 'USA', 'USA', 'USA', 'USA', 'USA', 'USA', 'USA', 'USA', 'USA', 'USA', 'USA', 'USA', 'USA', 'USA', 'USA', 'USA', 'USA', 'USA', 'USA', 'USA', 'USA', 'USA', 'USA', 'USA', 'USA', 'USA', 'USA', 'USA', 'USA', 'USA', 'USA', 'USA', 'USA', 'USA', 'USA', 'USA', 'USA', 'USA', 'USA', 'USA', 'USA', 'USA', 'USA', 'USA', 'USA', 'USA', 'USA', 'USA', 'USA', 'USA', 'USA', 'USA', 'USA', 'USA', 'USA', 'USA', 'USA', 'USA', 'USA', 'USA', 'USA', 'USA', 'USA', 'USA', 'USA', 'USA', 'USA', 'USA', 'USA', 'USA', 'USA', 'USA', 'USA', 'USA', 'USA', 'USA', 'USA', 'USA', 'USA', 'USA', 'USA', 'USA', 'USA', 'USA', 'USA', 'USA', 'USA', 'USA', 'USA', 'USA', 'USA', 'USA', 'USA', 'USA', 'USA', 'USA', 'USA', 'USA', 'USA', 'USA', 'USA', 'USA', 'USA', 'USA', 'USA', 'USA', 'USA', 'USA', 'USA', 'USA', 'USA', 'USA', 'USA', 'USA', 'USA', 'USA', 'USA', 'USA', 'USA', 'USA', 'USA', 'USA', 'USA', 'USA', 'USA', 'USA', 'USA', 'USA', 'USA', 'USA', 'USA', 'USA', 'USA', 'USA', 'USA', 'USA', 'USA', 'USA', 'USA', 'USA', 'USA', 'USA', 'USA', 'USA', 'USA', 'USA', 'USA', 'USA', 'USA', 'USA', 'USA', 'USA', 'USA', 'USA', 'USA', 'USA', 'USA', 'USA', 'USA', 'USA', 'USA', 'USA', 'USA', 'USA', 'USA', 'USA', 'USA', 'USA', 'USA', 'USA', 'USA', 'USA', 'USA', 'USA', 'USA', 'USA', 'USA', 'USA', 'USA', 'USA', 'USA', 'USA', 'USA', 'USA', 'USA', 'USA', 'USA', 'USA', 'USA', 'USA', 'USA', 'USA', 'USA', 'USA', 'USA', 'USA', 'USA', 'USA', 'USA', 'USA', 'USA', 'USA', 'USA', 'USA', 'USA', 'USA', 'USA', 'USA', 'USA', 'USA', 'USA', 'USA', 'USA', 'USA', 'USA', 'USA', 'USA', 'USA', 'USA', 'USA', 'USA', 'USA', 'USA', 'USA', 'USA', 'USA', 'USA', 'USA', 'USA', 'USA', 'USA', 'USA', 'USA', 'USA', 'USA', 'USA', 'USA', 'USA', 'USA', 'USA', 'USA', 'USA', 'USA', 'USA', 'USA', 'USA', 'USA', 'USA', 'USA', 'USA', 'USA', 'USA', 'USA', 'USA', 'USA', 'USA', 'USA', 'USA', 'USA', 'USA', 'USA', 'USA', 'USA', 'USA', 'USA', 'USA', 'USA', 'USA', 'USA', 'USA', 'USA', 'USA', 'USA', 'USA', 'USA', 'USA', 'USA', 'USA', 'USA', 'USA', 'USA', 'USA', 'USA', 'USA', 'USA', 'USA', 'USA', 'USA', 'USA', 'USA', 'USA', 'USA', 'USA', 'USA', 'USA', 'USA', 'USA', 'USA', 'USA', 'USA', 'USA', 'USA', 'USA', 'USA', 'USA', 'USA', 'USA', 'USA', 'USA', 'USA', 'USA', 'USA', 'USA', 'USA', 'USA', 'USA', 'USA', 'USA', 'USA', 'USA', 'USA', 'USA', 'USA', 'USA', 'USA', 'USA', 'USA', 'USA', 'USA', 'USA', 'USA', 'USA', 'USA', 'USA', 'USA', 'USA', 'USA', 'USA', 'USA', 'USA', 'USA', 'USA', 'USA', 'USA', 'USA', 'USA', 'USA', 'USA', 'USA', 'USA', 'USA', 'USA', 'USA', 'USA', 'USA', 'USA', 'USA', 'USA', 'USA', 'USA', 'USA', 'USA', 'USA', 'USA', 'USA', 'USA', 'USA', 'USA', 'USA', 'USA', 'USA', 'USA', 'USA', 'USA', 'USA', 'USA', 'USA', 'USA', 'USA', 'USA', 'USA', 'USA', 'USA', 'USA', 'USA', 'USA', 'USA', 'USA', 'USA', 'USA', 'USA', 'USA', 'USA', 'USA', 'USA', 'USA', 'USA', 'USA', 'USA', 'USA', 'USA', 'USA', 'USA', 'USA', 'USA', 'USA', 'USA', 'USA', 'USA', 'USA', 'USA', 'USA', 'USA', 'USA', 'USA', 'USA', 'USA', 'USA', 'USA', 'USA', 'USA', 'USA', 'USA', 'USA', 'USA', 'USA', 'USA', 'USA', 'USA', 'USA', 'USA', 'USA', 'USA', 'USA', 'USA', 'USA', 'USA', 'USA', 'USA', 'USA', 'USA', 'USA', 'USA', 'USA', 'USA', 'USA', 'USA', 'USA', 'USA', 'USA', 'USA', 'USA', 'USA', 'USA', 'USA', 'USA', 'USA', 'USA', 'USA', 'USA', 'USA', 'USA', 'USA', 'USA', 'USA', 'USA', 'USA', 'USA', 'USA', 'USA', 'USA', 'USA', 'USA', 'USA', 'USA', 'USA', 'USA', 'USA', 'USA', 'USA', 'USA', 'USA', 'USA', 'USA', 'USA', 'USA', 'USA', 'USA', 'USA', 'USA', 'USA', 'USA', 'USA', 'USA', 'USA', 'USA', 'USA', 'USA', 'USA', 'USA', 'USA', 'USA', 'USA', 'USA', 'USA', 'USA', 'USA', 'USA', 'USA', 'USA', 'USA', 'USA', 'USA', 'USA', 'USA', 'USA', 'USA', 'USA', 'USA', 'USA', 'USA', 'USA', 'USA', 'USA', 'USA', 'USA', 'USA', 'USA', 'USA', 'USA', 'USA', 'USA', 'USA', 'USA', 'USA', 'USA', 'USA', 'USA', 'USA', 'USA', 'USA', 'USA', 'USA', 'USA', 'USA', 'USA', 'USA', 'USA', 'USA', 'USA', 'USA', 'USA', 'USA', 'USA', 'USA', 'USA', 'USA', 'USA', 'USA', 'USA', 'USA', 'USA', 'USA', 'USA', 'USA', 'USA', 'USA', 'USA', 'USA', 'USA', 'USA', 'USA', 'USA', 'USA', 'USA', 'USA', 'USA', 'USA', 'USA', 'USA', 'USA', 'USA', 'USA', 'USA', 'USA', 'USA', 'USA', 'USA', 'USA', 'USA', 'USA', 'USA', 'USA', 'USA', 'USA', 'USA', 'USA', 'USA', 'USA', 'USA', 'USA', 'USA', 'USA', 'USA', 'USA', 'USA', 'USA', 'USA', 'USA', 'USA', 'USA', 'USA', 'USA', 'USA', 'USA', 'USA', 'USA', 'USA', 'USA', 'USA', 'USA', 'USA', 'USA', 'USA', 'USA', 'USA', 'USA', 'USA', 'USA', 'USA', 'USA', 'USA', 'USA', 'USA', 'USA', 'USA', 'USA', 'USA', 'USA', 'USA', 'USA', 'USA', 'USA', 'USA', 'USA', 'USA', 'USA', 'USA', 'USA', 'USA', 'USA', 'USA', 'USA', 'USA', 'USA', 'USA', 'USA', 'USA', 'USA', 'USA', 'USA', 'USA', 'USA', 'USA', 'USA', 'USA', 'USA', 'USA', 'USA', 'USA', 'USA', 'USA', 'USA', 'USA', 'USA', 'USA', 'USA', 'USA', 'USA', 'USA', 'USA', 'USA', 'USA', 'USA', 'USA', 'USA', 'USA', 'USA', 'USA', 'USA', 'USA', 'USA', 'USA', 'USA', 'USA', 'USA', 'USA', 'USA', 'USA', 'USA', 'USA', 'USA', 'USA', 'USA', 'USA', 'USA', 'USA', 'USA', 'USA', 'USA', 'USA', 'USA', 'USA', 'USA', 'USA', 'USA', 'USA', 'USA', 'USA', 'USA', 'USA', 'USA', 'USA', 'USA', 'USA', 'USA', 'USA', 'USA', 'USA', 'USA', 'USA', 'USA', 'USA', 'USA', 'USA', 'USA', 'USA', 'USA', 'USA', 'USA', 'USA', 'USA', 'USA', 'USA', 'USA', 'USA', 'USA', 'USA', 'USA', 'USA', 'USA', 'USA', 'USA', 'USA', 'USA', 'USA', 'USA', 'USA', 'USA', 'USA', 'USA', 'USA', 'USA', 'USA', 'USA', 'USA', 'USA', 'USA', 'USA', 'USA', 'USA', 'USA', 'USA', 'USA', 'USA', 'USA', 'USA', 'USA', 'USA', 'USA', 'USA', 'USA', 'USA', 'USA', 'USA', 'USA', 'USA', 'USA', 'USA', 'USA', 'USA', 'USA', 'USA', 'USA', 'USA', 'USA', 'USA', 'USA', 'USA', 'USA', 'USA', 'USA', 'USA', 'USA', 'USA', 'USA', 'USA', 'USA', 'USA', 'USA', 'USA', 'USA', 'USA', 'USA', 'USA', 'USA', 'USA', 'USA', 'USA', 'USA', 'USA', 'USA', 'USA', 'USA', 'USA', 'USA', 'USA', 'USA', 'USA', 'USA', 'USA', 'USA', 'USA', 'USA', 'USA', 'USA', 'USA', 'USA', 'USA', 'USA', 'USA', 'USA', 'USA', 'USA', 'USA', 'USA', 'USA', 'USA', 'USA', 'USA', 'USA', 'USA', 'USA', 'USA', 'USA', 'USA', 'USA', 'USA', 'USA', 'USA', 'USA', 'USA', 'USA', 'USA', 'USA', 'USA', 'USA', 'USA', 'USA', 'USA', 'USA', 'USA', 'USA', 'USA', 'USA', 'USA', 'USA', 'USA', 'USA', 'USA', 'USA', 'USA', 'USA', 'USA', 'USA', 'USA', 'USA', 'USA', 'USA', 'USA', 'USA', 'USA', 'USA', 'USA', 'USA', 'USA', 'USA', 'USA', 'USA', 'USA', 'USA', 'USA', 'USA', 'USA', 'USA', 'USA', 'USA', 'USA', 'USA', 'USA', 'USA', 'USA', 'USA', 'USA', 'USA', 'USA', 'USA', 'USA', 'USA', 'USA', 'USA', 'USA', 'USA', 'USA', 'USA', 'USA', 'USA', 'USA', 'USA', 'USA', 'USA', 'USA', 'USA', 'USA', 'USA', 'USA', 'USA', 'USA', 'USA', 'USA', 'USA', 'USA', 'USA', 'USA', 'USA', 'USA', 'USA', 'USA', 'USA', 'USA', 'USA', 'USA', 'USA', 'USA', 'USA', 'USA', 'USA', 'USA', 'USA', 'USA', 'USA', 'USA', 'USA', 'USA', 'USA', 'USA', 'USA', 'USA', 'USA', 'USA', 'USA', 'USA', 'USA', 'USA', 'USA', 'USA', 'USA', 'USA', 'USA', 'USA', 'USA', 'USA', 'USA', 'USA', 'USA', 'USA', 'USA', 'USA', 'USA', 'USA', 'USA', 'USA', 'USA', 'USA', 'USA', 'USA', 'USA', 'USA', 'USA', 'USA', 'USA', 'USA', 'USA', 'USA', 'USA', 'USA', 'USA', 'USA', 'USA', 'USA', 'USA', 'USA', 'USA', 'USA', 'USA', 'USA', 'USA', 'USA', 'USA', 'USA', 'USA', 'USA', 'USA', 'USA', 'USA', 'USA', 'USA', 'USA', 'USA', 'USA', 'VANUATU', 'VANUATU', 'VANUATU', 'VANUATU', 'VANUATU', 'VANUATU', 'VANUATU', 'VANUATU', 'VANUATU', 'VANUATU', 'VANUATU', 'VANUATU', 'VANUATU', 'VANUATU', 'VENEZUELA', 'VENEZUELA', 'VENEZUELA', 'VENEZUELA', 'VENEZUELA', 'VENEZUELA', 'VENEZUELA', 'VENEZUELA', 'VENEZUELA', 'VENEZUELA', 'VENEZUELA', 'VIETNAM', 'VIETNAM', 'VIETNAM', 'VIETNAM', 'VIETNAM', 'VIETNAM', 'VIETNAM', 'VIETNAM', 'VIETNAM', 'VIETNAM', 'VIETNAM', 'VIETNAM', 'VIETNAM', 'VIETNAM', 'VIETNAM', 'WEST INDIES', 'WEST INDIES', 'WESTERN SAMOA', 'YEMEN', 'YEMEN', 'YEMEN', 'YEMEN', 'YEMEN', 'YEMEN', 'YEMEN', 'YEMEN', 'YEMEN']\n"
     ]
    }
   ],
   "source": [
    "# 1. Countries with a space before: Philippines and Tonga \n",
    "# 2. Countries with a \"?\" at the end: Asia, Indian Ocean, Mexico, Red Sea, Sudan, North Atlantic Ocean and the Pacific Ocean\n",
    "# 3. Countries with a space after Egypt, Nicaragua, Yemen\n",
    "\n",
    "hypothesis_2['Country'] = hypothesis_2['Country'].apply(lambda x: x.strip())\n",
    "print(sorted(hypothesis_2['Country']))\n"
   ]
  },
  {
   "cell_type": "code",
   "execution_count": 114,
   "id": "c8720c33",
   "metadata": {},
   "outputs": [
    {
     "name": "stderr",
     "output_type": "stream",
     "text": [
      "C:\\Users\\rapha\\AppData\\Local\\Temp\\ipykernel_5912\\478138192.py:3: FutureWarning: The default value of regex will change from True to False in a future version.\n",
      "  hypothesis_2['Country'] = hypothesis_2['Country'].str.replace('CEYLON (SRI LANKA) ', 'CEYLON')\n",
      "C:\\Users\\rapha\\AppData\\Local\\Temp\\ipykernel_5912\\478138192.py:6: FutureWarning: The default value of regex will change from True to False in a future version. In addition, single character regular expressions will *not* be treated as literal strings when regex=True.\n",
      "  hypothesis_2['Country'] = hypothesis_2['Country'].str.replace('?', '')\n"
     ]
    },
    {
     "data": {
      "text/plain": [
       "array(['ADMIRALTY ISLANDS', 'AFRICA', 'ALGERIA', 'AMERICAN SAMOA',\n",
       "       'ANDAMAN ISLANDS', 'ANGOLA', 'ANTIGUA', 'ARGENTINA', 'ARUBA',\n",
       "       'ASIA', 'ATLANTIC OCEAN', 'AUSTRALIA', 'AZORES', 'BAHAMAS',\n",
       "       'BAHREIN', 'BANGLADESH', 'BARBADOS', 'BAY OF BENGAL', 'BELIZE',\n",
       "       'BERMUDA', 'BETWEEN PORTUGAL & INDIA', 'BRAZIL', 'BRITISH ISLES',\n",
       "       'BRITISH NEW GUINEA', 'BRITISH VIRGIN ISLANDS',\n",
       "       'BRITISH WEST INDIES', 'BURMA', 'CANADA', 'CAPE VERDE',\n",
       "       'CARIBBEAN SEA', 'CAYMAN ISLANDS', 'CENTRAL PACIFIC', 'CEYLON',\n",
       "       'CEYLON (SRI LANKA)', 'CHILE', 'CHINA', 'COAST OF AFRICA',\n",
       "       'COLUMBIA', 'COMOROS', 'COOK ISLANDS', 'COSTA RICA', 'CRETE',\n",
       "       'CROATIA', 'CUBA', 'CURACAO', 'CYPRUS', 'DIEGO GARCIA', 'DJIBOUTI',\n",
       "       'DOMINICAN REPUBLIC', 'ECUADOR', 'EGYPT', 'EGYPT / ISRAEL',\n",
       "       'EL SALVADOR', 'ENGLAND', 'EQUATORIAL GUINEA / CAMEROON',\n",
       "       'FALKLAND ISLANDS', 'FEDERATED STATES OF MICRONESIA', 'FIJI',\n",
       "       'FRANCE', 'FRENCH POLYNESIA', 'GABON', 'GEORGIA', 'GHANA',\n",
       "       'GRAND CAYMAN', 'GREECE', 'GREENLAND', 'GRENADA', 'GUAM',\n",
       "       'GUATEMALA', 'GUINEA', 'GULF OF ADEN', 'GUYANA', 'HAITI',\n",
       "       'HONDURAS', 'HONG KONG', 'ICELAND', 'INDIA', 'INDIAN OCEAN',\n",
       "       'INDONESIA', 'IRAN', 'IRAN / IRAQ', 'IRAQ', 'IRELAND', 'ISRAEL',\n",
       "       'ITALY', 'ITALY / CROATIA', 'JAMAICA', 'JAPAN', 'JAVA',\n",
       "       'JOHNSTON ISLAND', 'KENYA', 'KIRIBATI', 'KOREA', 'KUWAIT',\n",
       "       'LEBANON', 'LIBERIA', 'LIBYA', 'MADAGASCAR', 'MALAYSIA', 'MALDIVE',\n",
       "       'MALDIVES', 'MALTA', 'MARSHALL ISLANDS', 'MARTINIQUE', 'MAURITIUS',\n",
       "       'MAYOTTE', 'MEDITERRANEAN SEA', 'MEXICO', 'MICRONESIA',\n",
       "       'MID ATLANTIC OCEAN', 'MID-PACIFC OCEAN', 'MONACO', 'MONTENEGRO',\n",
       "       'MOZAMBIQUE', 'NAMIBIA', 'NETHERLANDS ANTILLES', 'NEVIS',\n",
       "       'NEW BRITAIN', 'NEW CALEDONIA', 'NEW GUINEA', 'NEW ZEALAND',\n",
       "       'NICARAGUA', 'NIGERIA', 'NORTH ATLANTIC OCEAN',\n",
       "       'NORTH PACIFIC OCEAN', 'NORTH SEA', 'NORTHERN ARABIAN SEA',\n",
       "       'NORTHERN MARIANA ISLANDS', 'NORWAY', 'OCEAN', 'OKINAWA',\n",
       "       'PACIFIC OCEAN', 'PALAU', 'PALESTINIAN TERRITORIES', 'PANAMA',\n",
       "       'PAPUA NEW GUINEA', 'PARAGUAY', 'PERSIAN GULF', 'PERU',\n",
       "       'PHILIPPINES', 'PORTUGAL', 'PUERTO RICO', 'RED SEA',\n",
       "       'RED SEA / INDIAN OCEAN', 'REUNION', 'ROATAN', 'RUSSIA', 'SAMOA',\n",
       "       'SAN DOMINGO', 'SAUDI ARABIA', 'SCOTLAND', 'SENEGAL', 'SEYCHELLES',\n",
       "       'SIERRA LEONE', 'SINGAPORE', 'SLOVENIA', 'SOLOMON ISLANDS',\n",
       "       'SOLOMON ISLANDS / VANUATU', 'SOMALIA', 'SOUTH AFRICA',\n",
       "       'SOUTH ATLANTIC OCEAN', 'SOUTH CHINA SEA', 'SOUTH KOREA',\n",
       "       'SOUTH PACIFIC OCEAN', 'SOUTHWEST PACIFIC OCEAN', 'SPAIN',\n",
       "       'SRI LANKA', 'ST HELENA, BRITISH OVERSEAS TERRITORY',\n",
       "       'ST. MAARTIN', 'ST. MARTIN', 'SUDAN', 'SWEDEN', 'SYRIA', 'TAIWAN',\n",
       "       'TANZANIA', 'TASMAN SEA', 'THAILAND', 'THE BALKANS', 'TOBAGO',\n",
       "       'TONGA', 'TRINIDAD & TOBAGO', 'TUNISIA', 'TURKEY',\n",
       "       'TURKS & CAICOS', 'TUVALU', 'UNITED ARAB EMIRATES',\n",
       "       'UNITED ARAB EMIRATES (UAE)', 'UNITED KINGDOM', 'URUGUAY', 'USA',\n",
       "       'VANUATU', 'VENEZUELA', 'VIETNAM', 'WEST INDIES', 'WESTERN SAMOA',\n",
       "       'YEMEN'], dtype=object)"
      ]
     },
     "execution_count": 114,
     "metadata": {},
     "output_type": "execute_result"
    }
   ],
   "source": [
    "# 4. Countries that exist in two forms: Andaman, Ceylon, Reunion, Maldives\n",
    "hypothesis_2['Country'] = hypothesis_2['Country'].str.replace('ANDAMAN / NICOBAR ISLANDAS', 'ANDAMAN ISLANDS')\n",
    "hypothesis_2['Country'] = hypothesis_2['Country'].str.replace('CEYLON (SRI LANKA) ', 'CEYLON')\n",
    "hypothesis_2['Country'] = hypothesis_2['Country'].str.replace('REUNION ISLAND', 'REUNION')\n",
    "hypothesis_2['Country'] = hypothesis_2['Country'].str.replace('MALDIVE ISLANDS', 'MALDIVE')\n",
    "hypothesis_2['Country'] = hypothesis_2['Country'].str.replace('?', '')\n",
    "\n",
    "\n",
    "np.sort(hypothesis_2['Country'].unique())\n"
   ]
  },
  {
   "cell_type": "code",
   "execution_count": 113,
   "id": "9dd21f40",
   "metadata": {},
   "outputs": [
    {
     "data": {
      "text/plain": [
       "196"
      ]
     },
     "execution_count": 113,
     "metadata": {},
     "output_type": "execute_result"
    }
   ],
   "source": [
    "len(hypothesis_2['Country'].unique())"
   ]
  },
  {
   "cell_type": "code",
   "execution_count": 135,
   "id": "948d110d",
   "metadata": {},
   "outputs": [
    {
     "data": {
      "text/plain": [
       "6252"
      ]
     },
     "execution_count": 135,
     "metadata": {},
     "output_type": "execute_result"
    }
   ],
   "source": [
    "len(hypothesis_2['Country'])"
   ]
  },
  {
   "cell_type": "code",
   "execution_count": 146,
   "id": "8a5ad06c",
   "metadata": {},
   "outputs": [
    {
     "data": {
      "text/plain": [
       "[('USA', 2229),\n",
       " ('AUSTRALIA', 1338),\n",
       " ('SOUTH AFRICA', 579),\n",
       " ('PAPUA NEW GUINEA', 134),\n",
       " ('NEW ZEALAND', 128),\n",
       " ('BRAZIL', 112),\n",
       " ('BAHAMAS', 109),\n",
       " ('MEXICO', 90),\n",
       " ('ITALY', 71),\n",
       " ('FIJI', 65)]"
      ]
     },
     "execution_count": 146,
     "metadata": {},
     "output_type": "execute_result"
    }
   ],
   "source": [
    "occurrences = collections.Counter(hypothesis_2['Country']).most_common(10)\n",
    "occurrences"
   ]
  },
  {
   "cell_type": "code",
   "execution_count": 150,
   "id": "caf1ef67",
   "metadata": {},
   "outputs": [
    {
     "name": "stdout",
     "output_type": "stream",
     "text": [
      "            Country Number of attacks\n",
      "0               USA              2229\n",
      "1         AUSTRALIA              1338\n",
      "2      SOUTH AFRICA               579\n",
      "3  PAPUA NEW GUINEA               134\n",
      "4       NEW ZEALAND               128\n",
      "5            BRAZIL               112\n",
      "6           BAHAMAS               109\n",
      "7            MEXICO                90\n",
      "8             ITALY                71\n",
      "9              FIJI                65\n",
      "<class 'pandas.core.frame.DataFrame'>\n"
     ]
    }
   ],
   "source": [
    "my_array = np.array([('USA', 2229), ('AUSTRALIA', 1338),('SOUTH AFRICA', 579), ('PAPUA NEW GUINEA', 134), ('NEW ZEALAND', 128), ('BRAZIL', 112), ('BAHAMAS', 109), ('MEXICO', 90), ('ITALY', 71), ('FIJI', 65)])\n",
    "\n",
    "df = pd.DataFrame(my_array, columns = ['Country','Number of attacks'])\n",
    "\n",
    "print(df)\n",
    "print(type(df))"
   ]
  },
  {
   "cell_type": "code",
   "execution_count": 163,
   "id": "f682c02b",
   "metadata": {},
   "outputs": [
    {
     "data": {
      "text/plain": [
       "str"
      ]
     },
     "execution_count": 163,
     "metadata": {},
     "output_type": "execute_result"
    }
   ],
   "source": [
    "type(df['Number of attacks'][0])"
   ]
  },
  {
   "cell_type": "code",
   "execution_count": 166,
   "id": "01614374",
   "metadata": {},
   "outputs": [
    {
     "data": {
      "text/plain": [
       "numpy.int32"
      ]
     },
     "execution_count": 166,
     "metadata": {},
     "output_type": "execute_result"
    }
   ],
   "source": [
    "df['Number of attacks'] = df['Number of attacks'].astype(int)\n",
    "type(df['Number of attacks'][0])"
   ]
  },
  {
   "cell_type": "code",
   "execution_count": 155,
   "id": "cbf08087",
   "metadata": {
    "scrolled": true
   },
   "outputs": [
    {
     "ename": "AttributeError",
     "evalue": "'DataFrameGroupBy' object has no attribute 'get'",
     "output_type": "error",
     "traceback": [
      "\u001b[1;31m---------------------------------------------------------------------------\u001b[0m",
      "\u001b[1;31mAttributeError\u001b[0m                            Traceback (most recent call last)",
      "Cell \u001b[1;32mIn [155], line 2\u001b[0m\n\u001b[0;32m      1\u001b[0m \u001b[38;5;66;03m# Let's try know to visualize the repartition per country\u001b[39;00m\n\u001b[1;32m----> 2\u001b[0m \u001b[43msns\u001b[49m\u001b[38;5;241;43m.\u001b[39;49m\u001b[43mcountplot\u001b[49m\u001b[43m(\u001b[49m\u001b[43mhypothesis_2\u001b[49m\u001b[38;5;241;43m.\u001b[39;49m\u001b[43mgroupby\u001b[49m\u001b[43m(\u001b[49m\u001b[38;5;124;43m'\u001b[39;49m\u001b[38;5;124;43mCountry\u001b[39;49m\u001b[38;5;124;43m'\u001b[39;49m\u001b[43m)\u001b[49m\u001b[43m,\u001b[49m\u001b[43m \u001b[49m\u001b[43mx\u001b[49m\u001b[38;5;241;43m=\u001b[39;49m\u001b[38;5;124;43m\"\u001b[39;49m\u001b[38;5;124;43mCountry\u001b[39;49m\u001b[38;5;124;43m\"\u001b[39;49m\u001b[43m)\u001b[49m\n",
      "File \u001b[1;32m~\\miniconda3\\envs\\ironhack\\lib\\site-packages\\seaborn\\categorical.py:2939\u001b[0m, in \u001b[0;36mcountplot\u001b[1;34m(data, x, y, hue, order, hue_order, orient, color, palette, saturation, width, dodge, ax, **kwargs)\u001b[0m\n\u001b[0;32m   2936\u001b[0m \u001b[38;5;28;01melif\u001b[39;00m x \u001b[38;5;129;01mis\u001b[39;00m \u001b[38;5;129;01mnot\u001b[39;00m \u001b[38;5;28;01mNone\u001b[39;00m \u001b[38;5;129;01mand\u001b[39;00m y \u001b[38;5;129;01mis\u001b[39;00m \u001b[38;5;129;01mnot\u001b[39;00m \u001b[38;5;28;01mNone\u001b[39;00m:\n\u001b[0;32m   2937\u001b[0m     \u001b[38;5;28;01mraise\u001b[39;00m \u001b[38;5;167;01mValueError\u001b[39;00m(\u001b[38;5;124m\"\u001b[39m\u001b[38;5;124mCannot pass values for both `x` and `y`\u001b[39m\u001b[38;5;124m\"\u001b[39m)\n\u001b[1;32m-> 2939\u001b[0m plotter \u001b[38;5;241m=\u001b[39m \u001b[43m_CountPlotter\u001b[49m\u001b[43m(\u001b[49m\n\u001b[0;32m   2940\u001b[0m \u001b[43m    \u001b[49m\u001b[43mx\u001b[49m\u001b[43m,\u001b[49m\u001b[43m \u001b[49m\u001b[43my\u001b[49m\u001b[43m,\u001b[49m\u001b[43m \u001b[49m\u001b[43mhue\u001b[49m\u001b[43m,\u001b[49m\u001b[43m \u001b[49m\u001b[43mdata\u001b[49m\u001b[43m,\u001b[49m\u001b[43m \u001b[49m\u001b[43morder\u001b[49m\u001b[43m,\u001b[49m\u001b[43m \u001b[49m\u001b[43mhue_order\u001b[49m\u001b[43m,\u001b[49m\n\u001b[0;32m   2941\u001b[0m \u001b[43m    \u001b[49m\u001b[43mestimator\u001b[49m\u001b[43m,\u001b[49m\u001b[43m \u001b[49m\u001b[43merrorbar\u001b[49m\u001b[43m,\u001b[49m\u001b[43m \u001b[49m\u001b[43mn_boot\u001b[49m\u001b[43m,\u001b[49m\u001b[43m \u001b[49m\u001b[43munits\u001b[49m\u001b[43m,\u001b[49m\u001b[43m \u001b[49m\u001b[43mseed\u001b[49m\u001b[43m,\u001b[49m\n\u001b[0;32m   2942\u001b[0m \u001b[43m    \u001b[49m\u001b[43morient\u001b[49m\u001b[43m,\u001b[49m\u001b[43m \u001b[49m\u001b[43mcolor\u001b[49m\u001b[43m,\u001b[49m\u001b[43m \u001b[49m\u001b[43mpalette\u001b[49m\u001b[43m,\u001b[49m\u001b[43m \u001b[49m\u001b[43msaturation\u001b[49m\u001b[43m,\u001b[49m\n\u001b[0;32m   2943\u001b[0m \u001b[43m    \u001b[49m\u001b[43mwidth\u001b[49m\u001b[43m,\u001b[49m\u001b[43m \u001b[49m\u001b[43merrcolor\u001b[49m\u001b[43m,\u001b[49m\u001b[43m \u001b[49m\u001b[43merrwidth\u001b[49m\u001b[43m,\u001b[49m\u001b[43m \u001b[49m\u001b[43mcapsize\u001b[49m\u001b[43m,\u001b[49m\u001b[43m \u001b[49m\u001b[43mdodge\u001b[49m\n\u001b[0;32m   2944\u001b[0m \u001b[43m\u001b[49m\u001b[43m)\u001b[49m\n\u001b[0;32m   2946\u001b[0m plotter\u001b[38;5;241m.\u001b[39mvalue_label \u001b[38;5;241m=\u001b[39m \u001b[38;5;124m\"\u001b[39m\u001b[38;5;124mcount\u001b[39m\u001b[38;5;124m\"\u001b[39m\n\u001b[0;32m   2948\u001b[0m \u001b[38;5;28;01mif\u001b[39;00m ax \u001b[38;5;129;01mis\u001b[39;00m \u001b[38;5;28;01mNone\u001b[39;00m:\n",
      "File \u001b[1;32m~\\miniconda3\\envs\\ironhack\\lib\\site-packages\\seaborn\\categorical.py:1530\u001b[0m, in \u001b[0;36m_BarPlotter.__init__\u001b[1;34m(self, x, y, hue, data, order, hue_order, estimator, errorbar, n_boot, units, seed, orient, color, palette, saturation, width, errcolor, errwidth, capsize, dodge)\u001b[0m\n\u001b[0;32m   1525\u001b[0m \u001b[38;5;28;01mdef\u001b[39;00m \u001b[38;5;21m__init__\u001b[39m(\u001b[38;5;28mself\u001b[39m, x, y, hue, data, order, hue_order,\n\u001b[0;32m   1526\u001b[0m              estimator, errorbar, n_boot, units, seed,\n\u001b[0;32m   1527\u001b[0m              orient, color, palette, saturation, width,\n\u001b[0;32m   1528\u001b[0m              errcolor, errwidth, capsize, dodge):\n\u001b[0;32m   1529\u001b[0m     \u001b[38;5;124;03m\"\"\"Initialize the plotter.\"\"\"\u001b[39;00m\n\u001b[1;32m-> 1530\u001b[0m     \u001b[38;5;28;43mself\u001b[39;49m\u001b[38;5;241;43m.\u001b[39;49m\u001b[43mestablish_variables\u001b[49m\u001b[43m(\u001b[49m\u001b[43mx\u001b[49m\u001b[43m,\u001b[49m\u001b[43m \u001b[49m\u001b[43my\u001b[49m\u001b[43m,\u001b[49m\u001b[43m \u001b[49m\u001b[43mhue\u001b[49m\u001b[43m,\u001b[49m\u001b[43m \u001b[49m\u001b[43mdata\u001b[49m\u001b[43m,\u001b[49m\u001b[43m \u001b[49m\u001b[43morient\u001b[49m\u001b[43m,\u001b[49m\n\u001b[0;32m   1531\u001b[0m \u001b[43m                             \u001b[49m\u001b[43morder\u001b[49m\u001b[43m,\u001b[49m\u001b[43m \u001b[49m\u001b[43mhue_order\u001b[49m\u001b[43m,\u001b[49m\u001b[43m \u001b[49m\u001b[43munits\u001b[49m\u001b[43m)\u001b[49m\n\u001b[0;32m   1532\u001b[0m     \u001b[38;5;28mself\u001b[39m\u001b[38;5;241m.\u001b[39mestablish_colors(color, palette, saturation)\n\u001b[0;32m   1533\u001b[0m     \u001b[38;5;28mself\u001b[39m\u001b[38;5;241m.\u001b[39mestimate_statistic(estimator, errorbar, n_boot, seed)\n",
      "File \u001b[1;32m~\\miniconda3\\envs\\ironhack\\lib\\site-packages\\seaborn\\categorical.py:532\u001b[0m, in \u001b[0;36m_CategoricalPlotter.establish_variables\u001b[1;34m(self, x, y, hue, data, orient, order, hue_order, units)\u001b[0m\n\u001b[0;32m    524\u001b[0m \u001b[38;5;66;03m# Option 2:\u001b[39;00m\n\u001b[0;32m    525\u001b[0m \u001b[38;5;66;03m# We are plotting a long-form dataset\u001b[39;00m\n\u001b[0;32m    526\u001b[0m \u001b[38;5;66;03m# -----------------------------------\u001b[39;00m\n\u001b[1;32m   (...)\u001b[0m\n\u001b[0;32m    529\u001b[0m \n\u001b[0;32m    530\u001b[0m     \u001b[38;5;66;03m# See if we need to get variables from `data`\u001b[39;00m\n\u001b[0;32m    531\u001b[0m     \u001b[38;5;28;01mif\u001b[39;00m data \u001b[38;5;129;01mis\u001b[39;00m \u001b[38;5;129;01mnot\u001b[39;00m \u001b[38;5;28;01mNone\u001b[39;00m:\n\u001b[1;32m--> 532\u001b[0m         x \u001b[38;5;241m=\u001b[39m \u001b[43mdata\u001b[49m\u001b[38;5;241;43m.\u001b[39;49m\u001b[43mget\u001b[49m(x, x)\n\u001b[0;32m    533\u001b[0m         y \u001b[38;5;241m=\u001b[39m data\u001b[38;5;241m.\u001b[39mget(y, y)\n\u001b[0;32m    534\u001b[0m         hue \u001b[38;5;241m=\u001b[39m data\u001b[38;5;241m.\u001b[39mget(hue, hue)\n",
      "File \u001b[1;32m~\\miniconda3\\envs\\ironhack\\lib\\site-packages\\pandas\\core\\groupby\\groupby.py:981\u001b[0m, in \u001b[0;36mGroupBy.__getattr__\u001b[1;34m(self, attr)\u001b[0m\n\u001b[0;32m    978\u001b[0m \u001b[38;5;28;01mif\u001b[39;00m attr \u001b[38;5;129;01min\u001b[39;00m \u001b[38;5;28mself\u001b[39m\u001b[38;5;241m.\u001b[39mobj:\n\u001b[0;32m    979\u001b[0m     \u001b[38;5;28;01mreturn\u001b[39;00m \u001b[38;5;28mself\u001b[39m[attr]\n\u001b[1;32m--> 981\u001b[0m \u001b[38;5;28;01mraise\u001b[39;00m \u001b[38;5;167;01mAttributeError\u001b[39;00m(\n\u001b[0;32m    982\u001b[0m     \u001b[38;5;124mf\u001b[39m\u001b[38;5;124m\"\u001b[39m\u001b[38;5;124m'\u001b[39m\u001b[38;5;132;01m{\u001b[39;00m\u001b[38;5;28mtype\u001b[39m(\u001b[38;5;28mself\u001b[39m)\u001b[38;5;241m.\u001b[39m\u001b[38;5;18m__name__\u001b[39m\u001b[38;5;132;01m}\u001b[39;00m\u001b[38;5;124m'\u001b[39m\u001b[38;5;124m object has no attribute \u001b[39m\u001b[38;5;124m'\u001b[39m\u001b[38;5;132;01m{\u001b[39;00mattr\u001b[38;5;132;01m}\u001b[39;00m\u001b[38;5;124m'\u001b[39m\u001b[38;5;124m\"\u001b[39m\n\u001b[0;32m    983\u001b[0m )\n",
      "\u001b[1;31mAttributeError\u001b[0m: 'DataFrameGroupBy' object has no attribute 'get'"
     ]
    }
   ],
   "source": [
    "# Let's try know to visualize the repartition per country\n",
    "sns.countplot(hypothesis_2.groupby('Country'), x=\"Country\")\n",
    "\n",
    "# As we can see, this is not visually appealing. There are too many countries - We will apply a threshold of 20 cases\n",
    "# so we have only the countries where the cases arises the most "
   ]
  },
  {
   "cell_type": "code",
   "execution_count": 176,
   "id": "bd4cabab",
   "metadata": {},
   "outputs": [
    {
     "data": {
      "text/plain": [
       "<AxesSubplot: xlabel='Number of attacks', ylabel='Country'>"
      ]
     },
     "execution_count": 176,
     "metadata": {},
     "output_type": "execute_result"
    },
    {
     "data": {
      "image/png": "[encoded data removed]",
      "text/plain": [
       "<Figure size 640x480 with 1 Axes>"
      ]
     },
     "metadata": {},
     "output_type": "display_data"
    }
   ],
   "source": [
    "sns.scatterplot(data=df, x=\"Number of attacks\", y=\"Country\")\n"
   ]
  },
  {
   "cell_type": "code",
   "execution_count": 178,
   "id": "140e35b3",
   "metadata": {},
   "outputs": [
    {
     "data": {
      "text/plain": [
       "<AxesSubplot: xlabel='Number of attacks', ylabel='Country'>"
      ]
     },
     "execution_count": 178,
     "metadata": {},
     "output_type": "execute_result"
    },
    {
     "data": {
      "image/png": "[encoded data removed]",
      "text/plain": [
       "<Figure size 640x480 with 1 Axes>"
      ]
     },
     "metadata": {},
     "output_type": "display_data"
    }
   ],
   "source": [
    "sns.barplot(x = \"Number of attacks\", y = \"Country\", data = df)\n"
   ]
  },
  {
   "cell_type": "markdown",
   "id": "c1055715",
   "metadata": {},
   "source": [
    "## 3. Which activity is the most dangerous to women by XYZ shark ? \n"
   ]
  },
  {
   "cell_type": "code",
   "execution_count": 7,
   "id": "a4de71ab",
   "metadata": {},
   "outputs": [
    {
     "data": {
      "text/html": [
       "<div>\n",
       "<style scoped>\n",
       "    .dataframe tbody tr th:only-of-type {\n",
       "        vertical-align: middle;\n",
       "    }\n",
       "\n",
       "    .dataframe tbody tr th {\n",
       "        vertical-align: top;\n",
       "    }\n",
       "\n",
       "    .dataframe thead th {\n",
       "        text-align: right;\n",
       "    }\n",
       "</style>\n",
       "<table border=\"1\" class=\"dataframe\">\n",
       "  <thead>\n",
       "    <tr style=\"text-align: right;\">\n",
       "      <th></th>\n",
       "      <th>Activity</th>\n",
       "      <th>Species</th>\n",
       "      <th>Sex</th>\n",
       "    </tr>\n",
       "  </thead>\n",
       "  <tbody>\n",
       "    <tr>\n",
       "      <th>0</th>\n",
       "      <td>Paddling</td>\n",
       "      <td>White shark</td>\n",
       "      <td>F</td>\n",
       "    </tr>\n",
       "    <tr>\n",
       "      <th>1</th>\n",
       "      <td>Standing</td>\n",
       "      <td>NaN</td>\n",
       "      <td>F</td>\n",
       "    </tr>\n",
       "    <tr>\n",
       "      <th>2</th>\n",
       "      <td>Surfing</td>\n",
       "      <td>NaN</td>\n",
       "      <td>M</td>\n",
       "    </tr>\n",
       "    <tr>\n",
       "      <th>3</th>\n",
       "      <td>Surfing</td>\n",
       "      <td>2 m shark</td>\n",
       "      <td>M</td>\n",
       "    </tr>\n",
       "    <tr>\n",
       "      <th>4</th>\n",
       "      <td>Free diving</td>\n",
       "      <td>Tiger shark, 3m</td>\n",
       "      <td>M</td>\n",
       "    </tr>\n",
       "    <tr>\n",
       "      <th>...</th>\n",
       "      <td>...</td>\n",
       "      <td>...</td>\n",
       "      <td>...</td>\n",
       "    </tr>\n",
       "    <tr>\n",
       "      <th>25718</th>\n",
       "      <td>NaN</td>\n",
       "      <td>NaN</td>\n",
       "      <td>NaN</td>\n",
       "    </tr>\n",
       "    <tr>\n",
       "      <th>25719</th>\n",
       "      <td>NaN</td>\n",
       "      <td>NaN</td>\n",
       "      <td>NaN</td>\n",
       "    </tr>\n",
       "    <tr>\n",
       "      <th>25720</th>\n",
       "      <td>NaN</td>\n",
       "      <td>NaN</td>\n",
       "      <td>NaN</td>\n",
       "    </tr>\n",
       "    <tr>\n",
       "      <th>25721</th>\n",
       "      <td>NaN</td>\n",
       "      <td>NaN</td>\n",
       "      <td>NaN</td>\n",
       "    </tr>\n",
       "    <tr>\n",
       "      <th>25722</th>\n",
       "      <td>NaN</td>\n",
       "      <td>NaN</td>\n",
       "      <td>NaN</td>\n",
       "    </tr>\n",
       "  </tbody>\n",
       "</table>\n",
       "<p>25723 rows × 3 columns</p>\n",
       "</div>"
      ],
      "text/plain": [
       "          Activity         Species  Sex \n",
       "0         Paddling      White shark    F\n",
       "1         Standing              NaN    F\n",
       "2          Surfing              NaN    M\n",
       "3          Surfing        2 m shark    M\n",
       "4      Free diving  Tiger shark, 3m    M\n",
       "...            ...              ...  ...\n",
       "25718          NaN              NaN  NaN\n",
       "25719          NaN              NaN  NaN\n",
       "25720          NaN              NaN  NaN\n",
       "25721          NaN              NaN  NaN\n",
       "25722          NaN              NaN  NaN\n",
       "\n",
       "[25723 rows x 3 columns]"
      ]
     },
     "execution_count": 7,
     "metadata": {},
     "output_type": "execute_result"
    }
   ],
   "source": [
    "shark[['Activity','Species ', 'Sex ']]\n"
   ]
  },
  {
   "cell_type": "code",
   "execution_count": 8,
   "id": "e9853d20",
   "metadata": {},
   "outputs": [
    {
     "data": {
      "text/html": [
       "<div>\n",
       "<style scoped>\n",
       "    .dataframe tbody tr th:only-of-type {\n",
       "        vertical-align: middle;\n",
       "    }\n",
       "\n",
       "    .dataframe tbody tr th {\n",
       "        vertical-align: top;\n",
       "    }\n",
       "\n",
       "    .dataframe thead th {\n",
       "        text-align: right;\n",
       "    }\n",
       "</style>\n",
       "<table border=\"1\" class=\"dataframe\">\n",
       "  <thead>\n",
       "    <tr style=\"text-align: right;\">\n",
       "      <th></th>\n",
       "      <th>Activity</th>\n",
       "      <th>Sex</th>\n",
       "      <th>Species</th>\n",
       "      <th>Case Number.1</th>\n",
       "      <th>Case Number.2</th>\n",
       "      <th>Unnamed: 22</th>\n",
       "      <th>Unnamed: 23</th>\n",
       "    </tr>\n",
       "  </thead>\n",
       "  <tbody>\n",
       "    <tr>\n",
       "      <th>0</th>\n",
       "      <td>Paddling</td>\n",
       "      <td>F</td>\n",
       "      <td>White shark</td>\n",
       "      <td>2018.06.25</td>\n",
       "      <td>2018.06.25</td>\n",
       "      <td>NaN</td>\n",
       "      <td>NaN</td>\n",
       "    </tr>\n",
       "    <tr>\n",
       "      <th>3</th>\n",
       "      <td>Surfing</td>\n",
       "      <td>M</td>\n",
       "      <td>2 m shark</td>\n",
       "      <td>2018.06.08</td>\n",
       "      <td>2018.06.08</td>\n",
       "      <td>NaN</td>\n",
       "      <td>NaN</td>\n",
       "    </tr>\n",
       "    <tr>\n",
       "      <th>4</th>\n",
       "      <td>Free diving</td>\n",
       "      <td>M</td>\n",
       "      <td>Tiger shark, 3m</td>\n",
       "      <td>2018.06.04</td>\n",
       "      <td>2018.06.04</td>\n",
       "      <td>NaN</td>\n",
       "      <td>NaN</td>\n",
       "    </tr>\n",
       "    <tr>\n",
       "      <th>6</th>\n",
       "      <td>Swimming</td>\n",
       "      <td>M</td>\n",
       "      <td>Tiger shark</td>\n",
       "      <td>2018.06.03.a</td>\n",
       "      <td>2018.06.03.a</td>\n",
       "      <td>NaN</td>\n",
       "      <td>NaN</td>\n",
       "    </tr>\n",
       "    <tr>\n",
       "      <th>7</th>\n",
       "      <td>Fishing</td>\n",
       "      <td>M</td>\n",
       "      <td>Lemon shark, 3'</td>\n",
       "      <td>2018.05.27</td>\n",
       "      <td>2018.05.27</td>\n",
       "      <td>NaN</td>\n",
       "      <td>NaN</td>\n",
       "    </tr>\n",
       "    <tr>\n",
       "      <th>...</th>\n",
       "      <td>...</td>\n",
       "      <td>...</td>\n",
       "      <td>...</td>\n",
       "      <td>...</td>\n",
       "      <td>...</td>\n",
       "      <td>...</td>\n",
       "      <td>...</td>\n",
       "    </tr>\n",
       "    <tr>\n",
       "      <th>6276</th>\n",
       "      <td>Standing</td>\n",
       "      <td>M</td>\n",
       "      <td>12' tiger shark</td>\n",
       "      <td>ND.0026</td>\n",
       "      <td>ND.0026</td>\n",
       "      <td>NaN</td>\n",
       "      <td>NaN</td>\n",
       "    </tr>\n",
       "    <tr>\n",
       "      <th>6293</th>\n",
       "      <td>Fishing</td>\n",
       "      <td>M</td>\n",
       "      <td>Blue pointer</td>\n",
       "      <td>ND.0009</td>\n",
       "      <td>ND.0009</td>\n",
       "      <td>NaN</td>\n",
       "      <td>NaN</td>\n",
       "    </tr>\n",
       "    <tr>\n",
       "      <th>6294</th>\n",
       "      <td>Fishing</td>\n",
       "      <td>M</td>\n",
       "      <td>Blue pointer</td>\n",
       "      <td>ND.0008</td>\n",
       "      <td>ND.0008</td>\n",
       "      <td>NaN</td>\n",
       "      <td>NaN</td>\n",
       "    </tr>\n",
       "    <tr>\n",
       "      <th>6295</th>\n",
       "      <td>Fishing</td>\n",
       "      <td>M</td>\n",
       "      <td>Blue pointers</td>\n",
       "      <td>ND.0007</td>\n",
       "      <td>ND.0007</td>\n",
       "      <td>NaN</td>\n",
       "      <td>NaN</td>\n",
       "    </tr>\n",
       "    <tr>\n",
       "      <th>6296</th>\n",
       "      <td>Swimming</td>\n",
       "      <td>M</td>\n",
       "      <td>Said to involve a grey nurse shark that leapt ...</td>\n",
       "      <td>ND.0006</td>\n",
       "      <td>ND.0006</td>\n",
       "      <td>NaN</td>\n",
       "      <td>NaN</td>\n",
       "    </tr>\n",
       "  </tbody>\n",
       "</table>\n",
       "<p>2987 rows × 7 columns</p>\n",
       "</div>"
      ],
      "text/plain": [
       "         Activity Sex                                            Species   \\\n",
       "0        Paddling    F                                        White shark   \n",
       "3         Surfing    M                                          2 m shark   \n",
       "4     Free diving    M                                    Tiger shark, 3m   \n",
       "6        Swimming    M                                        Tiger shark   \n",
       "7         Fishing    M                                    Lemon shark, 3'   \n",
       "...           ...  ...                                                ...   \n",
       "6276     Standing    M                                    12' tiger shark   \n",
       "6293      Fishing    M                                       Blue pointer   \n",
       "6294      Fishing    M                                       Blue pointer   \n",
       "6295      Fishing    M                                      Blue pointers   \n",
       "6296     Swimming    M  Said to involve a grey nurse shark that leapt ...   \n",
       "\n",
       "     Case Number.1 Case Number.2 Unnamed: 22 Unnamed: 23  \n",
       "0       2018.06.25    2018.06.25         NaN         NaN  \n",
       "3       2018.06.08    2018.06.08         NaN         NaN  \n",
       "4       2018.06.04    2018.06.04         NaN         NaN  \n",
       "6     2018.06.03.a  2018.06.03.a         NaN         NaN  \n",
       "7       2018.05.27    2018.05.27         NaN         NaN  \n",
       "...            ...           ...         ...         ...  \n",
       "6276       ND.0026       ND.0026         NaN         NaN  \n",
       "6293       ND.0009       ND.0009         NaN         NaN  \n",
       "6294       ND.0008       ND.0008         NaN         NaN  \n",
       "6295       ND.0007       ND.0007         NaN         NaN  \n",
       "6296       ND.0006       ND.0006         NaN         NaN  \n",
       "\n",
       "[2987 rows x 7 columns]"
      ]
     },
     "execution_count": 8,
     "metadata": {},
     "output_type": "execute_result"
    }
   ],
   "source": [
    "# I removed the Nan from the 3 column year \n",
    "Activity_3 = shark.dropna(axis=0, subset=['Activity','Species ', 'Sex '], inplace=False)\n",
    "Activity_3 "
   ]
  },
  {
   "cell_type": "code",
   "execution_count": null,
   "id": "81cc3221",
   "metadata": {},
   "outputs": [],
   "source": []
  },
  {
   "cell_type": "code",
   "execution_count": 9,
   "id": "84aa2016",
   "metadata": {},
   "outputs": [
    {
     "ename": "KeyError",
     "evalue": "\"['Case Number', 'Date', 'Year', 'Type', 'Country', 'Area', 'Location', 'Name', 'Age', 'Injury', 'Fatal (Y/N)', 'Time', 'Investigator or Source', 'pdf', 'href formula', 'href', 'Case Number', 'original order'] not found in axis\"",
     "output_type": "error",
     "traceback": [
      "\u001b[1;31m---------------------------------------------------------------------------\u001b[0m",
      "\u001b[1;31mKeyError\u001b[0m                                  Traceback (most recent call last)",
      "Cell \u001b[1;32mIn [9], line 1\u001b[0m\n\u001b[1;32m----> 1\u001b[0m Activity_3 \u001b[38;5;241m=\u001b[39m \u001b[43mshark\u001b[49m\u001b[38;5;241;43m.\u001b[39;49m\u001b[43mdrop\u001b[49m\u001b[43m(\u001b[49m\u001b[43m[\u001b[49m\u001b[38;5;124;43m'\u001b[39;49m\u001b[38;5;124;43mCase Number\u001b[39;49m\u001b[38;5;124;43m'\u001b[39;49m\u001b[43m,\u001b[49m\u001b[43m \u001b[49m\u001b[38;5;124;43m'\u001b[39;49m\u001b[38;5;124;43mDate\u001b[39;49m\u001b[38;5;124;43m'\u001b[39;49m\u001b[43m,\u001b[49m\u001b[38;5;124;43m'\u001b[39;49m\u001b[38;5;124;43mYear\u001b[39;49m\u001b[38;5;124;43m'\u001b[39;49m\u001b[43m,\u001b[49m\u001b[43m \u001b[49m\u001b[38;5;124;43m'\u001b[39;49m\u001b[38;5;124;43mType\u001b[39;49m\u001b[38;5;124;43m'\u001b[39;49m\u001b[43m,\u001b[49m\u001b[43m \u001b[49m\u001b[38;5;124;43m'\u001b[39;49m\u001b[38;5;124;43mCountry\u001b[39;49m\u001b[38;5;124;43m'\u001b[39;49m\u001b[43m,\u001b[49m\u001b[43m \u001b[49m\u001b[38;5;124;43m'\u001b[39;49m\u001b[38;5;124;43mArea\u001b[39;49m\u001b[38;5;124;43m'\u001b[39;49m\u001b[43m,\u001b[49m\u001b[43m \u001b[49m\u001b[38;5;124;43m'\u001b[39;49m\u001b[38;5;124;43mLocation\u001b[39;49m\u001b[38;5;124;43m'\u001b[39;49m\u001b[43m,\u001b[49m\u001b[43m \u001b[49m\u001b[38;5;124;43m'\u001b[39;49m\u001b[38;5;124;43mName\u001b[39;49m\u001b[38;5;124;43m'\u001b[39;49m\u001b[43m,\u001b[49m\u001b[43m \u001b[49m\u001b[38;5;124;43m'\u001b[39;49m\u001b[38;5;124;43mAge\u001b[39;49m\u001b[38;5;124;43m'\u001b[39;49m\u001b[43m,\u001b[49m\u001b[43m \u001b[49m\u001b[38;5;124;43m'\u001b[39;49m\u001b[38;5;124;43mInjury\u001b[39;49m\u001b[38;5;124;43m'\u001b[39;49m\u001b[43m,\u001b[49m\u001b[43m \u001b[49m\u001b[38;5;124;43m'\u001b[39;49m\u001b[38;5;124;43mFatal (Y/N)\u001b[39;49m\u001b[38;5;124;43m'\u001b[39;49m\u001b[43m,\u001b[49m\u001b[43m \u001b[49m\u001b[38;5;124;43m'\u001b[39;49m\u001b[38;5;124;43mTime\u001b[39;49m\u001b[38;5;124;43m'\u001b[39;49m\u001b[43m,\u001b[49m\u001b[43m \u001b[49m\u001b[38;5;124;43m'\u001b[39;49m\u001b[38;5;124;43mInvestigator or Source\u001b[39;49m\u001b[38;5;124;43m'\u001b[39;49m\u001b[43m,\u001b[49m\u001b[43m \u001b[49m\u001b[38;5;124;43m'\u001b[39;49m\u001b[38;5;124;43mpdf\u001b[39;49m\u001b[38;5;124;43m'\u001b[39;49m\u001b[43m,\u001b[49m\u001b[43m \u001b[49m\u001b[38;5;124;43m'\u001b[39;49m\u001b[38;5;124;43mhref formula\u001b[39;49m\u001b[38;5;124;43m'\u001b[39;49m\u001b[43m,\u001b[49m\u001b[43m \u001b[49m\u001b[38;5;124;43m'\u001b[39;49m\u001b[38;5;124;43mhref\u001b[39;49m\u001b[38;5;124;43m'\u001b[39;49m\u001b[43m,\u001b[49m\u001b[43m \u001b[49m\u001b[38;5;124;43m'\u001b[39;49m\u001b[38;5;124;43mCase Number\u001b[39;49m\u001b[38;5;124;43m'\u001b[39;49m\u001b[43m,\u001b[49m\u001b[43m \u001b[49m\u001b[38;5;124;43m'\u001b[39;49m\u001b[38;5;124;43moriginal order\u001b[39;49m\u001b[38;5;124;43m'\u001b[39;49m\u001b[43m]\u001b[49m\u001b[43m,\u001b[49m\u001b[43m \u001b[49m\u001b[43maxis\u001b[49m\u001b[43m \u001b[49m\u001b[38;5;241;43m=\u001b[39;49m\u001b[43m \u001b[49m\u001b[38;5;241;43m1\u001b[39;49m\u001b[43m,\u001b[49m\u001b[43m \u001b[49m\u001b[43minplace\u001b[49m\u001b[43m \u001b[49m\u001b[38;5;241;43m=\u001b[39;49m\u001b[43m \u001b[49m\u001b[38;5;28;43;01mTrue\u001b[39;49;00m\u001b[43m)\u001b[49m \n\u001b[0;32m      2\u001b[0m Activity_3\n",
      "File \u001b[1;32m~\\miniconda3\\envs\\ironhack\\lib\\site-packages\\pandas\\util\\_decorators.py:317\u001b[0m, in \u001b[0;36mdeprecate_nonkeyword_arguments.<locals>.decorate.<locals>.wrapper\u001b[1;34m(*args, **kwargs)\u001b[0m\n\u001b[0;32m    311\u001b[0m \u001b[38;5;28;01mif\u001b[39;00m \u001b[38;5;28mlen\u001b[39m(args) \u001b[38;5;241m>\u001b[39m num_allow_args:\n\u001b[0;32m    312\u001b[0m     warnings\u001b[38;5;241m.\u001b[39mwarn(\n\u001b[0;32m    313\u001b[0m         msg\u001b[38;5;241m.\u001b[39mformat(arguments\u001b[38;5;241m=\u001b[39marguments),\n\u001b[0;32m    314\u001b[0m         \u001b[38;5;167;01mFutureWarning\u001b[39;00m,\n\u001b[0;32m    315\u001b[0m         stacklevel\u001b[38;5;241m=\u001b[39mfind_stack_level(inspect\u001b[38;5;241m.\u001b[39mcurrentframe()),\n\u001b[0;32m    316\u001b[0m     )\n\u001b[1;32m--> 317\u001b[0m \u001b[38;5;28;01mreturn\u001b[39;00m func(\u001b[38;5;241m*\u001b[39margs, \u001b[38;5;241m*\u001b[39m\u001b[38;5;241m*\u001b[39mkwargs)\n",
      "File \u001b[1;32m~\\miniconda3\\envs\\ironhack\\lib\\site-packages\\pandas\\core\\frame.py:5391\u001b[0m, in \u001b[0;36mDataFrame.drop\u001b[1;34m(self, labels, axis, index, columns, level, inplace, errors)\u001b[0m\n\u001b[0;32m   5243\u001b[0m \u001b[38;5;129m@deprecate_nonkeyword_arguments\u001b[39m(version\u001b[38;5;241m=\u001b[39m\u001b[38;5;28;01mNone\u001b[39;00m, allowed_args\u001b[38;5;241m=\u001b[39m[\u001b[38;5;124m\"\u001b[39m\u001b[38;5;124mself\u001b[39m\u001b[38;5;124m\"\u001b[39m, \u001b[38;5;124m\"\u001b[39m\u001b[38;5;124mlabels\u001b[39m\u001b[38;5;124m\"\u001b[39m])\n\u001b[0;32m   5244\u001b[0m \u001b[38;5;28;01mdef\u001b[39;00m \u001b[38;5;21mdrop\u001b[39m(  \u001b[38;5;66;03m# type: ignore[override]\u001b[39;00m\n\u001b[0;32m   5245\u001b[0m     \u001b[38;5;28mself\u001b[39m,\n\u001b[1;32m   (...)\u001b[0m\n\u001b[0;32m   5252\u001b[0m     errors: IgnoreRaise \u001b[38;5;241m=\u001b[39m \u001b[38;5;124m\"\u001b[39m\u001b[38;5;124mraise\u001b[39m\u001b[38;5;124m\"\u001b[39m,\n\u001b[0;32m   5253\u001b[0m ) \u001b[38;5;241m-\u001b[39m\u001b[38;5;241m>\u001b[39m DataFrame \u001b[38;5;241m|\u001b[39m \u001b[38;5;28;01mNone\u001b[39;00m:\n\u001b[0;32m   5254\u001b[0m     \u001b[38;5;124;03m\"\"\"\u001b[39;00m\n\u001b[0;32m   5255\u001b[0m \u001b[38;5;124;03m    Drop specified labels from rows or columns.\u001b[39;00m\n\u001b[0;32m   5256\u001b[0m \n\u001b[1;32m   (...)\u001b[0m\n\u001b[0;32m   5389\u001b[0m \u001b[38;5;124;03m            weight  1.0     0.8\u001b[39;00m\n\u001b[0;32m   5390\u001b[0m \u001b[38;5;124;03m    \"\"\"\u001b[39;00m\n\u001b[1;32m-> 5391\u001b[0m     \u001b[38;5;28;01mreturn\u001b[39;00m \u001b[38;5;28;43msuper\u001b[39;49m\u001b[43m(\u001b[49m\u001b[43m)\u001b[49m\u001b[38;5;241;43m.\u001b[39;49m\u001b[43mdrop\u001b[49m\u001b[43m(\u001b[49m\n\u001b[0;32m   5392\u001b[0m \u001b[43m        \u001b[49m\u001b[43mlabels\u001b[49m\u001b[38;5;241;43m=\u001b[39;49m\u001b[43mlabels\u001b[49m\u001b[43m,\u001b[49m\n\u001b[0;32m   5393\u001b[0m \u001b[43m        \u001b[49m\u001b[43maxis\u001b[49m\u001b[38;5;241;43m=\u001b[39;49m\u001b[43maxis\u001b[49m\u001b[43m,\u001b[49m\n\u001b[0;32m   5394\u001b[0m \u001b[43m        \u001b[49m\u001b[43mindex\u001b[49m\u001b[38;5;241;43m=\u001b[39;49m\u001b[43mindex\u001b[49m\u001b[43m,\u001b[49m\n\u001b[0;32m   5395\u001b[0m \u001b[43m        \u001b[49m\u001b[43mcolumns\u001b[49m\u001b[38;5;241;43m=\u001b[39;49m\u001b[43mcolumns\u001b[49m\u001b[43m,\u001b[49m\n\u001b[0;32m   5396\u001b[0m \u001b[43m        \u001b[49m\u001b[43mlevel\u001b[49m\u001b[38;5;241;43m=\u001b[39;49m\u001b[43mlevel\u001b[49m\u001b[43m,\u001b[49m\n\u001b[0;32m   5397\u001b[0m \u001b[43m        \u001b[49m\u001b[43minplace\u001b[49m\u001b[38;5;241;43m=\u001b[39;49m\u001b[43minplace\u001b[49m\u001b[43m,\u001b[49m\n\u001b[0;32m   5398\u001b[0m \u001b[43m        \u001b[49m\u001b[43merrors\u001b[49m\u001b[38;5;241;43m=\u001b[39;49m\u001b[43merrors\u001b[49m\u001b[43m,\u001b[49m\n\u001b[0;32m   5399\u001b[0m \u001b[43m    \u001b[49m\u001b[43m)\u001b[49m\n",
      "File \u001b[1;32m~\\miniconda3\\envs\\ironhack\\lib\\site-packages\\pandas\\util\\_decorators.py:317\u001b[0m, in \u001b[0;36mdeprecate_nonkeyword_arguments.<locals>.decorate.<locals>.wrapper\u001b[1;34m(*args, **kwargs)\u001b[0m\n\u001b[0;32m    311\u001b[0m \u001b[38;5;28;01mif\u001b[39;00m \u001b[38;5;28mlen\u001b[39m(args) \u001b[38;5;241m>\u001b[39m num_allow_args:\n\u001b[0;32m    312\u001b[0m     warnings\u001b[38;5;241m.\u001b[39mwarn(\n\u001b[0;32m    313\u001b[0m         msg\u001b[38;5;241m.\u001b[39mformat(arguments\u001b[38;5;241m=\u001b[39marguments),\n\u001b[0;32m    314\u001b[0m         \u001b[38;5;167;01mFutureWarning\u001b[39;00m,\n\u001b[0;32m    315\u001b[0m         stacklevel\u001b[38;5;241m=\u001b[39mfind_stack_level(inspect\u001b[38;5;241m.\u001b[39mcurrentframe()),\n\u001b[0;32m    316\u001b[0m     )\n\u001b[1;32m--> 317\u001b[0m \u001b[38;5;28;01mreturn\u001b[39;00m func(\u001b[38;5;241m*\u001b[39margs, \u001b[38;5;241m*\u001b[39m\u001b[38;5;241m*\u001b[39mkwargs)\n",
      "File \u001b[1;32m~\\miniconda3\\envs\\ironhack\\lib\\site-packages\\pandas\\core\\generic.py:4510\u001b[0m, in \u001b[0;36mNDFrame.drop\u001b[1;34m(self, labels, axis, index, columns, level, inplace, errors)\u001b[0m\n\u001b[0;32m   4508\u001b[0m \u001b[38;5;28;01mfor\u001b[39;00m axis, labels \u001b[38;5;129;01min\u001b[39;00m axes\u001b[38;5;241m.\u001b[39mitems():\n\u001b[0;32m   4509\u001b[0m     \u001b[38;5;28;01mif\u001b[39;00m labels \u001b[38;5;129;01mis\u001b[39;00m \u001b[38;5;129;01mnot\u001b[39;00m \u001b[38;5;28;01mNone\u001b[39;00m:\n\u001b[1;32m-> 4510\u001b[0m         obj \u001b[38;5;241m=\u001b[39m \u001b[43mobj\u001b[49m\u001b[38;5;241;43m.\u001b[39;49m\u001b[43m_drop_axis\u001b[49m\u001b[43m(\u001b[49m\u001b[43mlabels\u001b[49m\u001b[43m,\u001b[49m\u001b[43m \u001b[49m\u001b[43maxis\u001b[49m\u001b[43m,\u001b[49m\u001b[43m \u001b[49m\u001b[43mlevel\u001b[49m\u001b[38;5;241;43m=\u001b[39;49m\u001b[43mlevel\u001b[49m\u001b[43m,\u001b[49m\u001b[43m \u001b[49m\u001b[43merrors\u001b[49m\u001b[38;5;241;43m=\u001b[39;49m\u001b[43merrors\u001b[49m\u001b[43m)\u001b[49m\n\u001b[0;32m   4512\u001b[0m \u001b[38;5;28;01mif\u001b[39;00m inplace:\n\u001b[0;32m   4513\u001b[0m     \u001b[38;5;28mself\u001b[39m\u001b[38;5;241m.\u001b[39m_update_inplace(obj)\n",
      "File \u001b[1;32m~\\miniconda3\\envs\\ironhack\\lib\\site-packages\\pandas\\core\\generic.py:4551\u001b[0m, in \u001b[0;36mNDFrame._drop_axis\u001b[1;34m(self, labels, axis, level, errors, only_slice)\u001b[0m\n\u001b[0;32m   4549\u001b[0m         new_axis \u001b[38;5;241m=\u001b[39m axis\u001b[38;5;241m.\u001b[39mdrop(labels, level\u001b[38;5;241m=\u001b[39mlevel, errors\u001b[38;5;241m=\u001b[39merrors)\n\u001b[0;32m   4550\u001b[0m     \u001b[38;5;28;01melse\u001b[39;00m:\n\u001b[1;32m-> 4551\u001b[0m         new_axis \u001b[38;5;241m=\u001b[39m \u001b[43maxis\u001b[49m\u001b[38;5;241;43m.\u001b[39;49m\u001b[43mdrop\u001b[49m\u001b[43m(\u001b[49m\u001b[43mlabels\u001b[49m\u001b[43m,\u001b[49m\u001b[43m \u001b[49m\u001b[43merrors\u001b[49m\u001b[38;5;241;43m=\u001b[39;49m\u001b[43merrors\u001b[49m\u001b[43m)\u001b[49m\n\u001b[0;32m   4552\u001b[0m     indexer \u001b[38;5;241m=\u001b[39m axis\u001b[38;5;241m.\u001b[39mget_indexer(new_axis)\n\u001b[0;32m   4554\u001b[0m \u001b[38;5;66;03m# Case for non-unique axis\u001b[39;00m\n\u001b[0;32m   4555\u001b[0m \u001b[38;5;28;01melse\u001b[39;00m:\n",
      "File \u001b[1;32m~\\miniconda3\\envs\\ironhack\\lib\\site-packages\\pandas\\core\\indexes\\base.py:6972\u001b[0m, in \u001b[0;36mIndex.drop\u001b[1;34m(self, labels, errors)\u001b[0m\n\u001b[0;32m   6970\u001b[0m \u001b[38;5;28;01mif\u001b[39;00m mask\u001b[38;5;241m.\u001b[39many():\n\u001b[0;32m   6971\u001b[0m     \u001b[38;5;28;01mif\u001b[39;00m errors \u001b[38;5;241m!=\u001b[39m \u001b[38;5;124m\"\u001b[39m\u001b[38;5;124mignore\u001b[39m\u001b[38;5;124m\"\u001b[39m:\n\u001b[1;32m-> 6972\u001b[0m         \u001b[38;5;28;01mraise\u001b[39;00m \u001b[38;5;167;01mKeyError\u001b[39;00m(\u001b[38;5;124mf\u001b[39m\u001b[38;5;124m\"\u001b[39m\u001b[38;5;132;01m{\u001b[39;00m\u001b[38;5;28mlist\u001b[39m(labels[mask])\u001b[38;5;132;01m}\u001b[39;00m\u001b[38;5;124m not found in axis\u001b[39m\u001b[38;5;124m\"\u001b[39m)\n\u001b[0;32m   6973\u001b[0m     indexer \u001b[38;5;241m=\u001b[39m indexer[\u001b[38;5;241m~\u001b[39mmask]\n\u001b[0;32m   6974\u001b[0m \u001b[38;5;28;01mreturn\u001b[39;00m \u001b[38;5;28mself\u001b[39m\u001b[38;5;241m.\u001b[39mdelete(indexer)\n",
      "\u001b[1;31mKeyError\u001b[0m: \"['Case Number', 'Date', 'Year', 'Type', 'Country', 'Area', 'Location', 'Name', 'Age', 'Injury', 'Fatal (Y/N)', 'Time', 'Investigator or Source', 'pdf', 'href formula', 'href', 'Case Number', 'original order'] not found in axis\""
     ]
    }
   ],
   "source": [
    "Activity_3 = shark.drop(['Case Number', 'Date','Year', 'Type', 'Country', 'Area', 'Location', 'Name', 'Age', 'Injury', 'Fatal (Y/N)', 'Time', 'Investigator or Source', 'pdf', 'href formula', 'href', 'Case Number', 'original order'], axis = 1, inplace = True) \n",
    "Activity_3"
   ]
  },
  {
   "cell_type": "code",
   "execution_count": null,
   "id": "07af202e",
   "metadata": {},
   "outputs": [],
   "source": [
    "Activity_3.head()"
   ]
  },
  {
   "cell_type": "code",
   "execution_count": null,
   "id": "a2f3eb31",
   "metadata": {},
   "outputs": [],
   "source": [
    "# Let's have a look at the activity value know  \n",
    "Activity_3['Activity'].unique()"
   ]
  },
  {
   "cell_type": "code",
   "execution_count": 7,
   "id": "7c614b90",
   "metadata": {},
   "outputs": [
    {
     "data": {
      "text/plain": [
       "array(['White shark', '2 m shark', 'Tiger shark, 3m', ..., 'Blue pointer',\n",
       "       'Blue pointers',\n",
       "       'Said to involve a grey nurse shark that leapt out of the water and  seized the boy but species identification is questionable'],\n",
       "      dtype=object)"
      ]
     },
     "execution_count": 7,
     "metadata": {},
     "output_type": "execute_result"
    }
   ],
   "source": [
    "# Let's have a look at the species value know  \n",
    "Activity_3['Species '].unique()"
   ]
  },
  {
   "cell_type": "code",
   "execution_count": 10,
   "id": "6608d295",
   "metadata": {},
   "outputs": [
    {
     "data": {
      "text/plain": [
       "array(['F', 'M', 'M ', 'lli', 'N', '.'], dtype=object)"
      ]
     },
     "execution_count": 10,
     "metadata": {},
     "output_type": "execute_result"
    }
   ],
   "source": [
    "Activity_3['Sex '].unique()"
   ]
  },
  {
   "cell_type": "code",
   "execution_count": 11,
   "id": "bd95f5b4",
   "metadata": {},
   "outputs": [
    {
     "data": {
      "text/plain": [
       "array(['F'], dtype=object)"
      ]
     },
     "execution_count": 11,
     "metadata": {},
     "output_type": "execute_result"
    }
   ],
   "source": [
    "Activity_3['Sex '] = Activity_3['Sex '].str.extract(\"(^F)\")\n",
    "Activity_3 = Activity_3[Activity_3['Sex '].notna()]\n",
    "Activity_3['Sex '].unique()"
   ]
  },
  {
   "cell_type": "markdown",
   "id": "f25ba52e",
   "metadata": {},
   "source": [
    "## 4. What time is the best time and location to get a fatal attack?"
   ]
  },
  {
   "cell_type": "code",
   "execution_count": null,
   "id": "0849b321",
   "metadata": {},
   "outputs": [],
   "source": []
  }
 ],
 "metadata": {
  "kernelspec": {
   "display_name": "Python 3 (ipykernel)",
   "language": "python",
   "name": "python3"
  },
  "language_info": {
   "codemirror_mode": {
    "name": "ipython",
    "version": 3
   },
   "file_extension": ".py",
   "mimetype": "text/x-python",
   "name": "python",
   "nbconvert_exporter": "python",
   "pygments_lexer": "ipython3",
   "version": "3.10.6"
  }
 },
 "nbformat": 4,
 "nbformat_minor": 5
}
